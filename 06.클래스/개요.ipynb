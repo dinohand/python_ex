{
 "cells": [
  {
   "cell_type": "code",
   "execution_count": null,
   "metadata": {},
   "outputs": [],
   "source": [
    "# class 선언\n",
    "# \n",
    "\n",
    "class MyClass():\n",
    "    def __init__(self):\n",
    "        pass\n",
    "    \n",
    "    def class_method(self,param):\n",
    "        pass"
   ]
  },
  {
   "cell_type": "code",
   "execution_count": null,
   "metadata": {},
   "outputs": [],
   "source": [
    "# 생성자 : __init__()\n",
    "# 소멸자 : __del__()   -> 실제 메모리에서 사라질 때 동작함\n",
    "\n",
    "# self 와 super\n",
    "# super()\n",
    "\n",
    "# 참조 : https://stackoverflow.com/questions/19776056/the-difference-between-super-method-versus-superself-class-self-method\n"
   ]
  },
  {
   "cell_type": "markdown",
   "metadata": {},
   "source": []
  },
  {
   "cell_type": "markdown",
   "metadata": {},
   "source": [
    "# function과 method의 차이점\n",
    "\n",
    "클래스에 종속된 function을 method라고 한다\n",
    "method는 class안에서 선언되어 정의되면 클래스를 통해서 호출되어야 한다"
   ]
  }
 ],
 "metadata": {
  "language_info": {
   "name": "python"
  }
 },
 "nbformat": 4,
 "nbformat_minor": 2
}

{
 "cells": [
  {
   "cell_type": "markdown",
   "metadata": {},
   "source": [
    "## 함수(function)\n",
    "함수는 기능을 수행하는 코드 블럭이다\n",
    "호출되었을 때, 코딩된 기능을 수행하고 결과를 리턴한다(None 또는 특정값)\n",
    "리턴되는 값은 하나 또는 여러개일수 있다다\n",
    "\n",
    "## 파라메터(parameter)\n",
    "전달되는 값 : 있을 수도 없을 수도 있음\n",
    "\n",
    "\n",
    "함수는 파라메터를 전달받아서 기능을 수행하고 결과 값을 리턴한다\n",
    "\n"
   ]
  },
  {
   "cell_type": "code",
   "execution_count": null,
   "metadata": {},
   "outputs": [
    {
     "name": "stdout",
     "output_type": "stream",
     "text": [
      "myFunction\n",
      "None\n",
      "myFunction\n",
      "200 success\n",
      "myFunction\n",
      "(200, 'success') <class 'tuple'>\n"
     ]
    }
   ],
   "source": [
    "# 내장함수 , 외부 함수 , 사용자 정의\n",
    "\n",
    "# 함수 구조\n",
    "\n",
    "def myFunc():\n",
    "    print('myFunction')\n",
    "    # return이 없으면 None을 리턴한다고 생각하면 된다\n",
    "\n",
    "a = myFunc()\n",
    "\n",
    "print(a)\n",
    "\n",
    "def myFunc2():\n",
    "    print('myFunction')\n",
    "    # return이 없으면 None을 리턴한다고 생각하면 된다\n",
    "    return 200, 'success'\n",
    "\n",
    "# 여러 값을 리턴할 경우\n",
    "b, c  = myFunc2()\n",
    "\n",
    "print( b, c )\n",
    "\n",
    "\n",
    "# 함수에서 여러개의 값을 리턴하는데 하나의 값으로 받으면 tuple 데이터 형태로 받는다\n",
    "d = myFunc2()\n",
    "\n",
    "print(d, type(d))\n",
    "\n",
    "\n"
   ]
  }
 ],
 "metadata": {
  "kernelspec": {
   "display_name": "Python 3",
   "language": "python",
   "name": "python3"
  },
  "language_info": {
   "codemirror_mode": {
    "name": "ipython",
    "version": 3
   },
   "file_extension": ".py",
   "mimetype": "text/x-python",
   "name": "python",
   "nbconvert_exporter": "python",
   "pygments_lexer": "ipython3",
   "version": "3.12.3"
  }
 },
 "nbformat": 4,
 "nbformat_minor": 2
}

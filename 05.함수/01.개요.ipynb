{
 "cells": [
  {
   "cell_type": "code",
   "execution_count": null,
   "metadata": {},
   "outputs": [],
   "source": [
    "# 내장함수 , 외부 함수 , 사용자 정의\n",
    "\n",
    "# 함수 구조\n",
    "\n",
    "def 함수명(파라메터):\n",
    "    처리문 코드\n",
    "    return \n",
    "\n",
    "\n"
   ]
  }
 ],
 "metadata": {
  "language_info": {
   "name": "python"
  }
 },
 "nbformat": 4,
 "nbformat_minor": 2
}

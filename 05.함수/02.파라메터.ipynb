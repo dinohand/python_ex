{
 "cells": [
  {
   "cell_type": "markdown",
   "metadata": {},
   "source": [
    "# 파라메터(parameter)\n",
    "파라메터는 매개변수로 함수 또는 클래스와 같은 대상에 값을 전달하여 그 기능을 수행할 수 있도록 전달되도록 정의되는 변수\n",
    "\n",
    "\n",
    "# 인자 : 매개변수로 실제 전달되는 값"
   ]
  },
  {
   "cell_type": "code",
   "execution_count": null,
   "metadata": {},
   "outputs": [
    {
     "name": "stdout",
     "output_type": "stream",
     "text": [
      "홍길동의 나이는 10이다\n"
     ]
    }
   ],
   "source": [
    "def myFunc( who, age):\n",
    "    print(f'{who}의 나이는 {age}이다')\n",
    "\n",
    "# 파라메터의 이름을 지정하지 않는 경우는 순서가 중요하다다\n",
    "myFunc('홍길동', 10)"
   ]
  },
  {
   "cell_type": "code",
   "execution_count": null,
   "metadata": {},
   "outputs": [
    {
     "name": "stdout",
     "output_type": "stream",
     "text": [
      "홍길동의 나이는 100이다\n"
     ]
    }
   ],
   "source": [
    "# 함수 내부에서 파라메터 명과 같은 이름을 사용이 되면 그 변수는 재정의된다다\n",
    "def myFunc( who, age):\n",
    "    age = 100   # 인자 age에 어떤 값이 전달되어도 100이 된다다\n",
    "    print(f'{who}의 나이는 {age}이다')\n",
    "\n",
    "# 파라메터의 이름을 지정하지 않는 경우는 순서가 중요하다다\n",
    "myFunc('홍길동', 10)"
   ]
  },
  {
   "cell_type": "code",
   "execution_count": null,
   "metadata": {},
   "outputs": [
    {
     "name": "stdout",
     "output_type": "stream",
     "text": [
      "홍길동의 나이는 10이다\n"
     ]
    }
   ],
   "source": [
    "# 파라미터 인자명을 지정하는 경우는 파라메터의 순서가 함수에서 정의한 순서와 달라도 된다.\n",
    "# 인자명과 함께 파라메터가 전달되면 어느 변수에 값을 전달할 지 명확히 알 수 있기 떄문문\n",
    "def myFunc( who, age):\n",
    "    print(f'{who}의 나이는 {age}이다')\n",
    "\n",
    "myFunc(age=10,  who='홍길동')"
   ]
  },
  {
   "cell_type": "code",
   "execution_count": null,
   "metadata": {},
   "outputs": [
    {
     "name": "stdout",
     "output_type": "stream",
     "text": [
      "홍길동 주말에 뭐할거야 ?\n",
      "홍길동 안녕하세요요\n"
     ]
    }
   ],
   "source": [
    "# 함수 정의할 떄 파라미터에 기본값이 정의되면 그 인자값을 전달하지 않아도 함수를 수행할 수 있다다\n",
    "def myFunc( who, message = '안녕하세요'):\n",
    "    print(who, message)\n",
    "\n",
    "myFunc(  who='홍길동', message= '주말에 뭐할거야 ?')\n",
    "myFunc(  who='홍길동')"
   ]
  },
  {
   "cell_type": "markdown",
   "metadata": {},
   "source": [
    "## 가변 인자 , 키워드 가변인자\n",
    "# * vs **\n",
    "# *args vs **kwargs\n",
    "# arguments  vs keyword arguments\n",
    "파라메터에 * 또는 **을 붙이면 인자가 없을 수도 여러 개가 올 수도 있다는 의미이다.\n",
    "\n",
    "positional arguments : * 인자값을 인자명없이 전달. 어떤 인자인지를 알기 위해서는 전달되는 인자 순서로 구분하여야 함함\n",
    "keyword arguments : ** 인자명과 함께 값을 전달. 인자명이 같이 전달되므로 이름으로 구분\n",
    "\n"
   ]
  },
  {
   "cell_type": "code",
   "execution_count": 19,
   "metadata": {},
   "outputs": [
    {
     "name": "stdout",
     "output_type": "stream",
     "text": [
      "1\n",
      "2\n",
      "4\n",
      "5\n"
     ]
    }
   ],
   "source": [
    "def myFunc(*args, **kwagrs):\n",
    "    for i in args:\n",
    "        print(i)\n",
    "        \n",
    "myFunc(1,2,4,5)\n"
   ]
  },
  {
   "cell_type": "code",
   "execution_count": 11,
   "metadata": {},
   "outputs": [
    {
     "name": "stdout",
     "output_type": "stream",
     "text": [
      "1 2 3\n",
      "one - 하나\n",
      "two - 둘\n",
      "three - 셋\n"
     ]
    }
   ],
   "source": [
    "## tutple의 언팩킹\n",
    "def myFunc(a, b, c):\n",
    "    print(a,b,c)\n",
    "    \n",
    "    \n",
    "tp = (1,2,3)\n",
    "\n",
    "# print(*tp)\n",
    "myFunc(*tp)    ## = myFunc(tp[0],tp[1], tp[2] )\n",
    "\n",
    "\n",
    "def myFunc2(**kargs):\n",
    "    for key in  kargs.keys():\n",
    "        print(key,'-',  kargs[key])\n",
    "\n",
    "\n",
    "## dict의 언팩킹\n",
    "dt = {\"one\":\"하나\", \"two\": \"둘\", \"three\":\"셋\"}\n",
    "\n",
    "\n",
    "myFunc2(**dt)"
   ]
  }
 ],
 "metadata": {
  "kernelspec": {
   "display_name": "Python 3",
   "language": "python",
   "name": "python3"
  },
  "language_info": {
   "codemirror_mode": {
    "name": "ipython",
    "version": 3
   },
   "file_extension": ".py",
   "mimetype": "text/x-python",
   "name": "python",
   "nbconvert_exporter": "python",
   "pygments_lexer": "ipython3",
   "version": "3.12.3"
  }
 },
 "nbformat": 4,
 "nbformat_minor": 2
}

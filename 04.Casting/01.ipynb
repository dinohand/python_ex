{
 "cells": [
  {
   "cell_type": "code",
   "execution_count": 5,
   "metadata": {},
   "outputs": [
    {
     "name": "stdout",
     "output_type": "stream",
     "text": [
      "<class 'int'> <class 'str'>\n",
      "(10+1j) <class 'complex'> (10+1j) <class 'str'>\n"
     ]
    }
   ],
   "source": [
    "# Python에서의 castingdms 다른 데이터 형태로 변환하는 것을 말함\n",
    "\n",
    "# str(): 문자로 변환\n",
    "a = 123\n",
    "\n",
    "print(type(a), type(str(a)))\n",
    "\n",
    "\n",
    "b = 10 +1j\n",
    "\n",
    "print(b, type(b), str(b), type(str(b)))"
   ]
  }
 ],
 "metadata": {
  "kernelspec": {
   "display_name": "Python 3",
   "language": "python",
   "name": "python3"
  },
  "language_info": {
   "codemirror_mode": {
    "name": "ipython",
    "version": 3
   },
   "file_extension": ".py",
   "mimetype": "text/x-python",
   "name": "python",
   "nbconvert_exporter": "python",
   "pygments_lexer": "ipython3",
   "version": "3.12.3"
  }
 },
 "nbformat": 4,
 "nbformat_minor": 2
}

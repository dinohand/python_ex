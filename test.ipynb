{
 "cells": [
  {
   "cell_type": "code",
   "execution_count": null,
   "id": "915ea663",
   "metadata": {},
   "outputs": [],
   "source": [
    "## cell magics\n",
    "\n",
    "\n",
    "print('Hello world!')\n"
   ]
  },
  {
   "cell_type": "code",
   "execution_count": null,
   "id": "e39eb92b",
   "metadata": {},
   "outputs": [],
   "source": [
    "%magic"
   ]
  },
  {
   "cell_type": "code",
   "execution_count": null,
   "id": "225eacc9",
   "metadata": {},
   "outputs": [],
   "source": [
    "%%timeit\n",
    "for i in range(1000):\n",
    "    print('Hello world!')\n"
   ]
  },
  {
   "cell_type": "code",
   "execution_count": null,
   "id": "d6438134",
   "metadata": {},
   "outputs": [],
   "source": [
    "TorF = False\n",
    "\n",
    "\n",
    "print('Hello world!') ; print('Goodbye world!')\n",
    "\n"
   ]
  },
  {
   "cell_type": "code",
   "execution_count": null,
   "id": "65a44ff7",
   "metadata": {},
   "outputs": [],
   "source": [
    "# 함수 내부에서 파라메터 명과 같은 이름을 사용이 되면 그 변수는 재정의된다\n",
    "def myFunc( who, age):\n",
    "    myFunc.age = 200\n",
    "    age = 100   # 인자 age에 어떤 값이 전달되어도 100이 된다\n",
    "    print(f'{who}의 나이는 {myFunc.age}이다')\n",
    "\n",
    "# 파라메터의 이름을 지정하지 않는 경우는 순서가 중요하다\n",
    "myFunc('홍길동', 10)\n",
    "\n"
   ]
  },
  {
   "cell_type": "code",
   "execution_count": null,
   "id": "e23b88be",
   "metadata": {},
   "outputs": [],
   "source": [
    "import unittest\n",
    "\n",
    "class TestMyFunc(unittest.TestCase):\n",
    "    def test_myFunc(self):\n",
    "        myFunc('홍길동', 10)\n",
    "        self.assertEqual(myFunc.age, 200)  \n",
    "        \n",
    "# if __name__ == '__main__':\n",
    "\n",
    "unittest.main(argv=['first-arg-is-ignored'], exit=False)  # exit=False to prevent Jupyter from shutting down the kernel\n",
    "    \n",
    "\n"
   ]
  },
  {
   "cell_type": "code",
   "execution_count": null,
   "id": "698de6f8",
   "metadata": {},
   "outputs": [],
   "source": [
    "if True:\n",
    "  print('True')\n",
    "    print('False')\n"
   ]
  },
  {
   "cell_type": "code",
   "execution_count": null,
   "id": "3a703bc8",
   "metadata": {},
   "outputs": [],
   "source": [
    "def my_function():\n",
    "    #gkgkgk\n",
    "    \"\"\"docstring 테스트\n",
    "    Returns:\n",
    "        None : 아무것도 안 보냄\n",
    "    \"\"\"\n",
    "    return None\n",
    "\n",
    "print(my_function.__doc__)\n",
    "help(my_function)  # This will show the docstring in a more detailed format\n",
    "\n",
    "# print(\"Using help:\")\n",
    "# # help(my_function)\n",
    "# print(my_function().__doc__)\n"
   ]
  },
  {
   "cell_type": "code",
   "execution_count": null,
   "id": "1330a5b7",
   "metadata": {},
   "outputs": [],
   "source": [
    "def my_fucntion(i : int, s :str ) -> None:\n",
    "    \"\"\" docstring for my_function\n",
    "\n",
    "    Args:\n",
    "        i (int): 반복 횟수\n",
    "        s (str): 출력 문자열\n",
    "    \"\"\"        \n",
    "    for j in range(i):\n",
    "        print(s)\n",
    "\n",
    "# my_function 호출\n",
    "my_fucntion(3, 'Hello')"
   ]
  },
  {
   "cell_type": "code",
   "execution_count": null,
   "id": "8a02c9ed",
   "metadata": {},
   "outputs": [],
   "source": [
    "a =range(2,5)\n",
    "\n",
    "print(a, type(a))  # <class 'float'>\n",
    "for i in a:\n",
    "    print(i)\n",
    "    \n",
    "\n",
    "b = {'키': '값', 'pk': 124}\n",
    "\n",
    "print(b, type(b))  # <class 'dict'>\n",
    "for k, v in b.items():\n",
    "    print(f'{k} : {v}')\n"
   ]
  },
  {
   "cell_type": "code",
   "execution_count": null,
   "id": "4b12970a",
   "metadata": {},
   "outputs": [],
   "source": [
    "char = 'A'\n",
    "string  = \"String\"\n",
    "sentence = '''\n",
    "This is a multi-line string.\n",
    "It can span multiple lines.\n",
    "'''\n",
    "print(char, type(char))\n",
    "print(string, type(string))\n",
    "print(sentence, type(sentence))\n",
    "\n",
    "b = `'Hello, World!'`\n"
   ]
  },
  {
   "cell_type": "code",
   "execution_count": null,
   "id": "a36c625a",
   "metadata": {},
   "outputs": [],
   "source": [
    "char = 'A'\n",
    "string  = \"String\"\n",
    "sentence = '''\n",
    "This is a multi-line string.\n",
    "It can span multiple lines.\n",
    "'''\n",
    "print(char, type(char))\n",
    "print(string, type(string))\n",
    "print(sentence, type(sentence))\n"
   ]
  },
  {
   "cell_type": "code",
   "execution_count": null,
   "id": "3e117f03",
   "metadata": {},
   "outputs": [],
   "source": [
    "a = range(-2, 3)\n",
    "\n",
    "for i in a:\n",
    "    print(i, bool(i))\n",
    "    \n",
    "\n",
    "if True: print('True')\n",
    "if 1 : print('True')\n",
    "\n",
    "\n",
    "# a =  -1  + 1.0j\n",
    "# if a :\n",
    "#     print(f'{a} : True')\n",
    "# else:\n",
    "#     print(f'{a} : False')\n",
    "\n",
    "\n",
    "# b = 0.0\n",
    "# if b :\n",
    "#     print(f'{b} : True')\n",
    "# else:\n",
    "#     print(f'{b} : False')\n",
    "\n",
    "if bool(0) :\n",
    "    print('True')\n",
    "\n"
   ]
  },
  {
   "cell_type": "code",
   "execution_count": null,
   "id": "b96989a8",
   "metadata": {},
   "outputs": [],
   "source": [
    "a = (1,2,3, 4,5   )\n",
    "b = (1,2,3, 4,5   )\n",
    "\n",
    "c  = a + b\n",
    "print(c, type(c))  # <class 'tuple'>\n",
    "\n",
    "\n",
    "print(a[1])"
   ]
  },
  {
   "cell_type": "code",
   "execution_count": null,
   "id": "a4549274",
   "metadata": {},
   "outputs": [],
   "source": [
    "print( 155000/6)"
   ]
  },
  {
   "cell_type": "code",
   "execution_count": null,
   "id": "11f273cf",
   "metadata": {},
   "outputs": [
    {
     "name": "stdout",
     "output_type": "stream",
     "text": [
      "You entered: ㄹ알ㅇㄴㄹㄴ어린\n",
      "You entered: ㄱㅈㄷㄱㄷㅈ\n",
      "You entered: ㅈㄷㄱ\n",
      "You entered: ㄱㄷㅈ\n",
      "You entered: ㄴㅇ\n",
      "Exited the loop\n"
     ]
    }
   ],
   "source": []
  }
 ],
 "metadata": {
  "kernelspec": {
   "display_name": "Python 3",
   "language": "python",
   "name": "python3"
  },
  "language_info": {
   "codemirror_mode": {
    "name": "ipython",
    "version": 3
   },
   "file_extension": ".py",
   "mimetype": "text/x-python",
   "name": "python",
   "nbconvert_exporter": "python",
   "pygments_lexer": "ipython3",
   "version": "3.12.3"
  }
 },
 "nbformat": 4,
 "nbformat_minor": 5
}

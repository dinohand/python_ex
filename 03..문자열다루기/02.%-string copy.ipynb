{
 "cells": [
  {
   "cell_type": "code",
   "execution_count": null,
   "metadata": {},
   "outputs": [
    {
     "name": "stdout",
     "output_type": "stream",
     "text": [
      "%포맷팅 : 11 16\n",
      "%포맷팅 : 13 20\n",
      "%포맷팅 : b 10\n"
     ]
    }
   ],
   "source": [
    "# % 연산자를 활용\n",
    "# tuple\n",
    "\n",
    "'''\n",
    "%s : 문자열\n",
    "\n",
    "%f : 실수(float)\n",
    "%d : 10진수 정수(decimal)\n",
    "%o : 8진수\n",
    "%x : 16진수\n",
    "\n",
    "\n",
    "형식 : \"문자열 포맷\"%tuple,  또는 \"문자열 포맷\"%대입할 단일 값\n",
    "두 개 이상의 값을 치환하려면 tuple 형태로 대입하여야함함\n",
    "\n",
    "문자열내의 포맷팅 문자를 % 뒤에 있는 값으로 차례대로 치환한다다\n",
    "(%+자료형 을 %값 으로 치환 )\n",
    "\n",
    "'''\n",
    "\n",
    "a = 11         # 10진수\n",
    "b = 0x10       # 16진수\n",
    "\n",
    "# print(\"안녕하세요 %d, %f, %s\"%(a,a,a))\n",
    "print(\"%%포맷팅 : %d %d\"%(a,b)) \n",
    "print(\"%%포맷팅 : %o %o\"%(a,b))\n",
    "print(\"%%포맷팅 : %x %x\"%(a,b))\n",
    "# 문자열내에서 %를 표현하려면 %% 라고 하여야한다\n",
    "\n",
    "\n",
    "# print(\"안녕하세요 %s\"%\"카타리나\")\n",
    "# print(\"안녕하세요 %s\"%a)\n",
    "\n"
   ]
  }
 ],
 "metadata": {
  "kernelspec": {
   "display_name": "Python 3",
   "language": "python",
   "name": "python3"
  },
  "language_info": {
   "codemirror_mode": {
    "name": "ipython",
    "version": 3
   },
   "file_extension": ".py",
   "mimetype": "text/x-python",
   "name": "python",
   "nbconvert_exporter": "python",
   "pygments_lexer": "ipython3",
   "version": "3.12.3"
  }
 },
 "nbformat": 4,
 "nbformat_minor": 2
}

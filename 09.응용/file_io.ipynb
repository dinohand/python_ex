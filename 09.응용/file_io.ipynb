{
 "cells": [
  {
   "cell_type": "markdown",
   "metadata": {},
   "source": [
    "\n",
    "# file io mode\n",
    "# 'r': Read (default mode) \n",
    "# 'w': Write (creates a new file or truncates an existing file) \n",
    "# 'a': Append (adds data to the end of the file) \n",
    "# 'b': Binary mode (e.g., 'rb' for reading a binary file)"
   ]
  },
  {
   "cell_type": "code",
   "execution_count": null,
   "metadata": {},
   "outputs": [
    {
     "name": "stdout",
     "output_type": "stream",
     "text": [
      "1\n",
      "2\n",
      "3\n",
      "4\n",
      "5\n",
      "6\n"
     ]
    }
   ],
   "source": [
    "## file reading\n",
    "## 방법 1\n",
    "import os\n",
    "\n",
    "fname = os.getcwd() + '/test.txt'\n",
    "mode = 'r' # read\n",
    "\n",
    "try:\n",
    "    f = open(file=fname,mode='r')\n",
    "    print(f.read())\n",
    "    f.close()\n",
    "except Exception as e:\n",
    "    print(e)\n",
    "    "
   ]
  },
  {
   "cell_type": "markdown",
   "metadata": {},
   "source": [
    "## with statement\n",
    "\n",
    "with문은 파일 스트림, 네트워크 연결, 데이터베이스 세션과 같은 자원(resource)을 사용할 경우 사용하는 컨텍스트 관리자이다\n",
    "해당 자원을 획득하여 사용한 후에 자동으로 리소스를 돌려준다. 파일을 open하고 사용한 후에, 사용자가 close하지 않아도 자동으로 close 한다\n",
    "\n",
    "\n",
    "with resource 사용시작 [as Variable]:\n",
    "    [code block]\n",
    "\n",
    "### 예)\n",
    "with open(fpaht, mode) as F:\n",
    "    print(F.read()) ## 별로로 F.close() 를 하지 않아도 된다\n"
   ]
  },
  {
   "cell_type": "code",
   "execution_count": 7,
   "metadata": {},
   "outputs": [
    {
     "name": "stdout",
     "output_type": "stream",
     "text": [
      "1\n",
      "2\n",
      "3\n",
      "4\n",
      "5\n",
      "6\n"
     ]
    }
   ],
   "source": [
    "## file reading\n",
    "## 방법 2\n",
    "import os\n",
    "\n",
    "fname = os.getcwd() + '/test.txt'\n",
    "mode = 'r' # read\n",
    "\n",
    "## with 문 사용\n",
    "with open(file=fname,mode='r') as f:\n",
    "    print(f.read())\n"
   ]
  }
 ],
 "metadata": {
  "kernelspec": {
   "display_name": "Python 3",
   "language": "python",
   "name": "python3"
  },
  "language_info": {
   "codemirror_mode": {
    "name": "ipython",
    "version": 3
   },
   "file_extension": ".py",
   "mimetype": "text/x-python",
   "name": "python",
   "nbconvert_exporter": "python",
   "pygments_lexer": "ipython3",
   "version": "3.12.3"
  }
 },
 "nbformat": 4,
 "nbformat_minor": 2
}

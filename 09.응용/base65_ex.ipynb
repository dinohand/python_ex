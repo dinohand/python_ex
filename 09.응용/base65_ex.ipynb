{
 "cells": [
  {
   "cell_type": "code",
   "execution_count": 22,
   "metadata": {},
   "outputs": [
    {
     "name": "stdout",
     "output_type": "stream",
     "text": [
      "<class 'bytes'>\n",
      "b'7JWI64WV7ZWY7IS47JqU'\n",
      "<class 'bytes'>\n",
      "b'\\xec\\x95\\x88\\xeb\\x85\\x95\\xed\\x95\\x98\\xec\\x84\\xb8\\xec\\x9a\\x94'\n",
      "안녕하세요\n"
     ]
    }
   ],
   "source": [
    "## base64\n",
    "import base64\n",
    "\n",
    "# endcode\n",
    "orginal_text = '안녕하세요'\n",
    "sometext = orginal_text.encode('utf-8')   # 또는 sometext = bytes(orginal_text,'utf-8') \n",
    "\n",
    "print(type(sometext))\n",
    "base64_text = base64.b64encode(sometext)  ## b64encode 함수는 bytes 인수를 받고, 결과값도 bytes 형태로 리턴한다\n",
    "\n",
    "# print(type(base64_text))                   ## bytes\n",
    "print(base64_text)\n",
    "\n",
    "\n",
    "## decode\n",
    "decoded_bytes = base64.b64decode(base64_text)\n",
    "print(type(decoded_bytes))\n",
    "print(decoded_bytes)\n",
    "\n",
    "print(decoded_bytes.decode('utf-8'))    # 또는 print( str(decoded_bytes, 'utf-8'))\n",
    "\n"
   ]
  },
  {
   "cell_type": "code",
   "execution_count": null,
   "metadata": {},
   "outputs": [
    {
     "name": "stdout",
     "output_type": "stream",
     "text": [
      "\n",
      "<html>\n",
      "    <body>\n",
      "        <img src=\"data:image/png;base64,하나/>\n",
      "    </body>\n",
      "</html>\n",
      "\n"
     ]
    }
   ],
   "source": [
    "from PIL import Image\n",
    "import base64\n",
    "import requests\n",
    "from io import BytesIO\n",
    "from urllib.request import urlopen\n",
    "\n",
    "\n",
    "url = 'https://s.pstatic.net/static/www/u/2014/0328/mma_20432863.png'\n",
    "b64_data='iVBORw0KGgoAAAANSUhEUgAAAAUAAAAFCAYAAACNbyblAAAAHElEQVQI12P4//8/w38GIAXDIBKE0DHxgljNBAAO9TXL0Y4OHwAAAABJRU5ErkJggg=='\n",
    "img = Image.open(urlopen(url))\n",
    "img_bytes= img.tobytes()\n",
    "encoded = base64.b64encode(img_bytes)\n",
    "\n",
    "import base64\n",
    "\n",
    "html ='''\n",
    "<html>\n",
    "    <body>\n",
    "        <img src=\"data:image/png;base64,%s/>\n",
    "    </body>\n",
    "</html>\n",
    "'''\n",
    "\n",
    "base64_text = '안녕하세요'\n",
    "\n",
    "print(html%(base64_text))"
   ]
  }
 ],
 "metadata": {
  "kernelspec": {
   "display_name": "Python 3",
   "language": "python",
   "name": "python3"
  },
  "language_info": {
   "codemirror_mode": {
    "name": "ipython",
    "version": 3
   },
   "file_extension": ".py",
   "mimetype": "text/x-python",
   "name": "python",
   "nbconvert_exporter": "python",
   "pygments_lexer": "ipython3",
   "version": "3.12.3"
  }
 },
 "nbformat": 4,
 "nbformat_minor": 2
}

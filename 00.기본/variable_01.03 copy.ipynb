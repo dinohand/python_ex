{
 "cells": [
  {
   "cell_type": "code",
   "execution_count": 12,
   "metadata": {},
   "outputs": [
    {
     "name": "stdout",
     "output_type": "stream",
     "text": [
      "하나\n",
      "하나둘\n",
      "하나둘\n",
      "what_var\n"
     ]
    }
   ],
   "source": [
    "# 클래스에서의 변수 선언\n",
    "\n",
    "class myClass():\n",
    "    def __init__(self):\n",
    "        self.what_var = '하나'           # 내부 변수를 선언함\n",
    "        \n",
    "    def m1(self):\n",
    "        return self.what_var  \n",
    "\n",
    "    def m2(self):\n",
    "        self.what_var = self.what_var  + '둘'\n",
    "        return self.what_var\n",
    "    \n",
    "    \n",
    "    def m4(self):\n",
    "        return what_var  ## 클래스 밖에서 선언됨 what_var을 리턴함\n",
    "        \n",
    "what_var = 'what_var'\n",
    "\n",
    "C = myClass()\n",
    "\n",
    "print(C.m1())\n",
    "print(C.m2())\n",
    "print(C.m1())\n",
    "print(C.m4())\n",
    "\n",
    "\n"
   ]
  }
 ],
 "metadata": {
  "kernelspec": {
   "display_name": "Python 3",
   "language": "python",
   "name": "python3"
  },
  "language_info": {
   "codemirror_mode": {
    "name": "ipython",
    "version": 3
   },
   "file_extension": ".py",
   "mimetype": "text/x-python",
   "name": "python",
   "nbconvert_exporter": "python",
   "pygments_lexer": "ipython3",
   "version": "3.12.3"
  }
 },
 "nbformat": 4,
 "nbformat_minor": 2
}

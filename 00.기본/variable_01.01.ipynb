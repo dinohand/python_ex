{
 "cells": [
  {
   "cell_type": "code",
   "execution_count": 12,
   "metadata": {},
   "outputs": [
    {
     "name": "stdout",
     "output_type": "stream",
     "text": [
      "2 3\n"
     ]
    }
   ],
   "source": [
    "# variable\n",
    "# type 지정이 안됨\n",
    "# case-sensitive\n",
    "\n",
    "# naming rule\n",
    "# 문자, 숫자, '_' 만 사용가능\n",
    "# 문자 또는 underscore('_')로 시작하여야 한다 . 숫자로 시작할 수 없다\n",
    "# 예약어 안됨\n",
    "\n",
    "\n",
    "# 가능한 예\n",
    "# 누구 = 'Bill'  # 한글 사용 가능\n",
    "# print('I met', 누구, 'yesterday')\n",
    "\n",
    "# 가능한 예\n",
    "public =1\n",
    "_uc = 2\n",
    "_UC = 3\n",
    "\n",
    "# 에러\n",
    "# if = 1    # 예약어 사용\n",
    "# 1var = 2  # variable이 숫자로 시작됨\n",
    "\n",
    "print(_uc, _UC)\n",
    "\n",
    "\n"
   ]
  }
 ],
 "metadata": {
  "kernelspec": {
   "display_name": "Python 3",
   "language": "python",
   "name": "python3"
  },
  "language_info": {
   "codemirror_mode": {
    "name": "ipython",
    "version": 3
   },
   "file_extension": ".py",
   "mimetype": "text/x-python",
   "name": "python",
   "nbconvert_exporter": "python",
   "pygments_lexer": "ipython3",
   "version": "3.12.3"
  }
 },
 "nbformat": 4,
 "nbformat_minor": 2
}

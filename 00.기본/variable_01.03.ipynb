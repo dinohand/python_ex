{
 "cells": [
  {
   "cell_type": "markdown",
   "metadata": {},
   "source": [
    "https://code13.tistory.com/214\n",
    "\n",
    "call by value\n",
    "\n",
    "## call by reference => 파이썬에서는 지원하지 않음\n",
    "list, dict, set과 같은 mutable object가 ㅇargument로 넘어가면 값을 변경할 수 있음"
   ]
  },
  {
   "cell_type": "code",
   "execution_count": null,
   "metadata": {},
   "outputs": [
    {
     "name": "stdout",
     "output_type": "stream",
     "text": [
      "하나\n",
      "하나둘\n",
      "하나둘\n",
      "what_var\n"
     ]
    }
   ],
   "source": [
    "# 변수의 범위\n",
    "# 클래스에서의 변수 선언\n",
    "\n",
    "class myClass():\n",
    "    def __init__(self):\n",
    "        self.what_var = '하나'           # 내부 변수를 선언함\n",
    "        \n",
    "    def m1(self):\n",
    "        return self.what_var  \n",
    "\n",
    "    def m2(self):\n",
    "        self.what_var = self.what_var  + '둘'\n",
    "        return self.what_var\n",
    "    \n",
    "    \n",
    "    def m4(self):\n",
    "        return what_var  ## 클래스 밖에서 선언됨 what_var을 리턴함\n",
    "        \n",
    "what_var = 'what_var'\n",
    "\n",
    "C = myClass()\n",
    "\n",
    "print(C.m1())\n",
    "print(C.m2())\n",
    "print(C.m1())\n",
    "print(C.m4())\n",
    "\n",
    "\n"
   ]
  },
  {
   "cell_type": "code",
   "execution_count": 6,
   "metadata": {},
   "outputs": [
    {
     "name": "stdout",
     "output_type": "stream",
     "text": [
      "100\n",
      "200\n"
     ]
    }
   ],
   "source": [
    "## 변수의 범위 global\n",
    "\n",
    "a = 100\n",
    "\n",
    "def ch_test(): \n",
    "    print(a)     ## 함수 밖에서 선언된 변수(global변수)는 함수 내에서 바로 호출할 수 있다\n",
    "\n",
    "def test():\n",
    "    global a      ### 함수 밖의 변수의 값을 변경할 수 싶을 때 선언,  (할 수는 있으나 권장하지 않는 코딩 방식)\n",
    "    a = 200\n",
    "   \n",
    "ch_test()   #\n",
    "test()\n",
    "\n",
    "print(a)"
   ]
  },
  {
   "cell_type": "code",
   "execution_count": null,
   "metadata": {},
   "outputs": [
    {
     "name": "stdout",
     "output_type": "stream",
     "text": [
      "100\n",
      "[10, 2, 3]\n",
      "{'name': 'Youk2'}\n"
     ]
    }
   ],
   "source": [
    "# 함수/파라메터터\n",
    "a = 100\n",
    "\n",
    "def test(am):\n",
    "    am = 200\n",
    "\n",
    "test(a)\n",
    "print(a) \n",
    "\n",
    "#############################################################\n",
    "# 파라메터가 리스트일 경우\n",
    "al = [1,2,3]\n",
    "\n",
    "def test(al):\n",
    "    al[0] = al[0] * 10\n",
    "\n",
    "\n",
    "test(al)\n",
    "print(al) \n",
    "\n",
    "# 파라메터가 dict 인 경우\n",
    "ad =  {'name': 'JK'}\n",
    "\n",
    "def testd(a):\n",
    "    a[\"name\"] = \"Youk\"\n",
    "\n",
    "def testd2(a={}):\n",
    "    a[\"name\"] = \"Youk2\"\n",
    "\n",
    "testd2(ad)\n",
    "print(ad) \n",
    "\n",
    "\n",
    "\n",
    "\n",
    "\n"
   ]
  }
 ],
 "metadata": {
  "kernelspec": {
   "display_name": "Python 3",
   "language": "python",
   "name": "python3"
  },
  "language_info": {
   "codemirror_mode": {
    "name": "ipython",
    "version": 3
   },
   "file_extension": ".py",
   "mimetype": "text/x-python",
   "name": "python",
   "nbconvert_exporter": "python",
   "pygments_lexer": "ipython3",
   "version": "3.12.3"
  }
 },
 "nbformat": 4,
 "nbformat_minor": 2
}

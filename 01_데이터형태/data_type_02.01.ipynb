{
 "cells": [
  {
   "cell_type": "code",
   "execution_count": null,
   "metadata": {},
   "outputs": [
    {
     "name": "stdout",
     "output_type": "stream",
     "text": [
      "a -> <class 'int'>\n",
      "b -> <class 'float'>\n",
      "c -> <class 'str'>\n"
     ]
    }
   ],
   "source": [
    "# 데이터의 형태 확인 (1)\n",
    "# number : int, float\n",
    "# string : str\n",
    "# 함수 : type()\n",
    "\n",
    "a = 1\n",
    "b = 1.0\n",
    "c = '1.0'\n",
    "\n",
    "print('a ->', type(a))\n",
    "print('b ->', type(b))\n",
    "print('c ->', type(c))"
   ]
  }
 ],
 "metadata": {
  "kernelspec": {
   "display_name": "Python 3",
   "language": "python",
   "name": "python3"
  },
  "language_info": {
   "codemirror_mode": {
    "name": "ipython",
    "version": 3
   },
   "file_extension": ".py",
   "mimetype": "text/x-python",
   "name": "python",
   "nbconvert_exporter": "python",
   "pygments_lexer": "ipython3",
   "version": "3.12.3"
  }
 },
 "nbformat": 4,
 "nbformat_minor": 2
}

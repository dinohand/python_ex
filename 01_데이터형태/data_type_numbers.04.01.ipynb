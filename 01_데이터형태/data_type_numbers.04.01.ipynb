{
 "cells": [
  {
   "cell_type": "code",
   "execution_count": null,
   "metadata": {},
   "outputs": [
    {
     "name": "stdout",
     "output_type": "stream",
     "text": [
      "a -> <class 'list'>\n",
      "b -> <class 'list'>\n",
      "a -> <class 'tuple'>\n",
      "b -> <class 'tuple'>\n",
      "=========================\n",
      "<class 'int'>\n",
      "<class 'int'>\n",
      "<class 'tuple'>\n",
      "<class 'set'>\n"
     ]
    }
   ],
   "source": [
    "# 데이터의 형태 확인 (2)\n",
    "# 열거형 : list, tuple\n",
    "\n",
    "# list\n",
    "a = [1,2,3]\n",
    "b = [1]\n",
    "\n",
    "print('a ->', type(a))\n",
    "print('b ->', type(b))\n",
    "\n",
    "# tuple\n",
    "c = (1,2,3)\n",
    "d = (1, )  # vs d = (1) \n",
    "\n",
    "print('a ->', type(c))\n",
    "print('b ->', type(d))\n",
    "\n",
    "print('=========================')\n",
    "print( type((1)))\n",
    "print( type((-1)))\n",
    "print( type((1,)))\n",
    "\n",
    "\n",
    "# 집합형\n",
    "s = {\"하나\",\"둘\",\"셋\"}\n",
    "print( type(s))\n"
   ]
  }
 ],
 "metadata": {
  "kernelspec": {
   "display_name": "Python 3",
   "language": "python",
   "name": "python3"
  },
  "language_info": {
   "codemirror_mode": {
    "name": "ipython",
    "version": 3
   },
   "file_extension": ".py",
   "mimetype": "text/x-python",
   "name": "python",
   "nbconvert_exporter": "python",
   "pygments_lexer": "ipython3",
   "version": "3.12.3"
  }
 },
 "nbformat": 4,
 "nbformat_minor": 2
}

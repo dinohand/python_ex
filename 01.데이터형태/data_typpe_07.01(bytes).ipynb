{
 "cells": [
  {
   "cell_type": "code",
   "execution_count": null,
   "metadata": {},
   "outputs": [],
   "source": [
    "# bytes string\n",
    "bstr = b'124dfer'\n",
    "\n",
    "print(type(bstr))\n",
    "\n",
    "\n",
    "\n",
    "# base64"
   ]
  }
 ],
 "metadata": {
  "language_info": {
   "name": "python"
  }
 },
 "nbformat": 4,
 "nbformat_minor": 2
}

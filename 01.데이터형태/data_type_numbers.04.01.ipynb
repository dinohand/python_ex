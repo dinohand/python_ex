{
 "cells": [
  {
   "cell_type": "code",
   "execution_count": null,
   "metadata": {},
   "outputs": [
    {
     "name": "stdout",
     "output_type": "stream",
     "text": [
      "<class 'int'>\n",
      "<class 'float'>\n",
      "(-1+0j)\n",
      "<class 'complex'>\n",
      "(2+1j) <class 'complex'>\n",
      "(1+4j)\n"
     ]
    }
   ],
   "source": [
    "# int\n",
    "# float\n",
    "# complex : 복소수 : 제곱하여 -1이 되는 수\n",
    "\n",
    "a = 1\n",
    "b = 1.1\n",
    "\n",
    "print( type(a))\n",
    "print( type(b))\n",
    "\n",
    "\n",
    "# complex 타입은 복소수(a+bi)를 표현하는 타입이다. => 파이썬에서는 j로 허수를 표현한다.\n",
    "# complex(실수부, 허수부)\n",
    "\n",
    "c =  0  + 1.0j\n",
    "\n",
    "print(c * c) \n",
    "print( type(c))\n",
    "\n",
    "\n",
    "d = complex(2, 1.0)   ## complex(실수부, 허수부) or complex(complex)\n",
    "print( d, type(d))\n",
    "\n",
    "print(complex(1+4.0j))\n"
   ]
  }
 ],
 "metadata": {
  "kernelspec": {
   "display_name": "Python 3",
   "language": "python",
   "name": "python3"
  },
  "language_info": {
   "codemirror_mode": {
    "name": "ipython",
    "version": 3
   },
   "file_extension": ".py",
   "mimetype": "text/x-python",
   "name": "python",
   "nbconvert_exporter": "python",
   "pygments_lexer": "ipython3",
   "version": "3.12.3"
  }
 },
 "nbformat": 4,
 "nbformat_minor": 2
}

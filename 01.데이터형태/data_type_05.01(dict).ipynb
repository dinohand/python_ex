{
 "cells": [
  {
   "cell_type": "code",
   "execution_count": null,
   "metadata": {},
   "outputs": [
    {
     "name": "stdout",
     "output_type": "stream",
     "text": [
      "===================\n",
      "apple 사과\n",
      "banana 바나나\n",
      "===================\n",
      "apple 사과\n",
      "banana 바나나\n",
      "melon 멜론\n",
      "{'apple': '사과', 'banana': '바나나', 'melon': '멜론', 'strawberry': '딸기'}\n",
      "사과\n",
      "{'melon': '멜론', 'strawberry': '딸기'}\n"
     ]
    }
   ],
   "source": [
    "my_dict = dict( apple = '사과', banana = '바나나')\n",
    "\n",
    "# print(my_dict.keys())\n",
    "\n",
    "def check_dict():\n",
    "        print('===================')\n",
    "        for key in my_dict.keys():\n",
    "                print(key, my_dict[key])\n",
    "\n",
    "check_dict()\n",
    "# 추가\n",
    "my_dict['melon'] = '멜론'\n",
    "\n",
    "check_dict()\n",
    "\n",
    "# 병합\n",
    "# dict | dict 와 같이 '|'를 사용하여 병합\n",
    "your_dict = { \"strawberry\" : \"딸기\"}\n",
    "new_dict = my_dict | your_dict\n",
    "print(new_dict)\n",
    "\n",
    "# 삭제\n",
    "# del 예약어를 사용하여 지울 수 있다\n",
    "\n",
    "del new_dict['banana']   # del() \n",
    "\n",
    "# pop\n",
    "print(new_dict.pop('apple'))    # 해당 값을 내보내고 dict에서 삭제한다\n",
    "\n",
    "print(new_dict)\n",
    "\n",
    "# 수정    \n",
    "# 해당 키에 값을 재할당하면 됨\n"
   ]
  },
  {
   "cell_type": "code",
   "execution_count": null,
   "metadata": {},
   "outputs": [
    {
     "name": "stdout",
     "output_type": "stream",
     "text": [
      "{'송혜교': '배우', '김연아': '피겨선수', 'BTS': '보이그룹'}\n"
     ]
    }
   ],
   "source": []
  },
  {
   "cell_type": "code",
   "execution_count": null,
   "metadata": {},
   "outputs": [
    {
     "name": "stdout",
     "output_type": "stream",
     "text": [
      "넷\n",
      "one\n",
      "two\n",
      "three\n"
     ]
    }
   ],
   "source": []
  },
  {
   "cell_type": "code",
   "execution_count": null,
   "metadata": {},
   "outputs": [],
   "source": []
  }
 ],
 "metadata": {
  "kernelspec": {
   "display_name": "Python 3",
   "language": "python",
   "name": "python3"
  },
  "language_info": {
   "codemirror_mode": {
    "name": "ipython",
    "version": 3
   },
   "file_extension": ".py",
   "mimetype": "text/x-python",
   "name": "python",
   "nbconvert_exporter": "python",
   "pygments_lexer": "ipython3",
   "version": "3.12.3"
  }
 },
 "nbformat": 4,
 "nbformat_minor": 2
}

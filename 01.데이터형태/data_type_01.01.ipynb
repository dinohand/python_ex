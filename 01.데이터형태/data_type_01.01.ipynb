{
 "cells": [
  {
   "cell_type": "code",
   "execution_count": null,
   "metadata": {},
   "outputs": [
    {
     "name": "stdout",
     "output_type": "stream",
     "text": [
      "안녕 Python\n",
      "\n",
      "입력한 값은 hello 입니다\n"
     ]
    }
   ],
   "source": [
    "## 입출력\n",
    "'''\n",
    "1. 함수 :\n",
    "    - print()\n",
    "    - input()\n",
    "2. ide에서 python 코드 실행 : Ctrl + Enter or Play button\n",
    "'''\n",
    "# console 입출력\n",
    "# 출력 : print\n",
    "print(\"안녕 Python\" )\n",
    "print(\"\")\n",
    "\n",
    "# 입력 : input()\n",
    "what = input('입력해주세요')\n",
    "print(f'입력한 값은', what , '입니다')  ## 출력되는 것을 사이에 ' '이 존재함함\n",
    "# print(f'입력한 값은 \"{what}\" 입니다')"
   ]
  }
 ],
 "metadata": {
  "kernelspec": {
   "display_name": "Python 3",
   "language": "python",
   "name": "python3"
  },
  "language_info": {
   "codemirror_mode": {
    "name": "ipython",
    "version": 3
   },
   "file_extension": ".py",
   "mimetype": "text/x-python",
   "name": "python",
   "nbconvert_exporter": "python",
   "pygments_lexer": "ipython3",
   "version": "3.12.3"
  }
 },
 "nbformat": 4,
 "nbformat_minor": 2
}

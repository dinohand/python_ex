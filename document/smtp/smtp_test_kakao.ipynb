{
 "cells": [
  {
   "cell_type": "code",
   "execution_count": null,
   "id": "a2942171",
   "metadata": {},
   "outputs": [],
   "source": [
    "import smtplib\n",
    "from email.mime.text import MIMEText\n",
    "from email.mime.multipart import MIMEMultipart\n",
    "\n",
    "# smto mail server\n",
    "user_id = 'jk.youk'\n",
    "user_pw = 'zeryikilfifabtlr'  ## app password\n",
    "\n",
    "server_ip = 'smtp.kakao.com'\n",
    "server_port = 465\n",
    "server_ssl =True\n",
    "\n",
    "# sender / receiver\n",
    "sender_email = 'jk.youk@kakao.com'\n",
    "receiver_email  = 'jk.youk@gmail.com'\n",
    "\n",
    "# mail message\n",
    "subject = \"메일 제목\"\n",
    "# body = \"\"\n",
    "text_content = \"Plain Text 컨텐트\"\n",
    "html_content = '''\n",
    "<html lang=\"ko\">\n",
    "    <body>\n",
    "    <h1 style=\"color:blue;\">메일 테스트</h1>\n",
    "    <b>HTML 컨텐츠 바디입니다.</b>\n",
    "    </body>\n",
    "</html>\n",
    "'''\n",
    "\n",
    "message = MIMEMultipart(_subtype=\"mixed\")\n",
    "message[\"From\"] = sender_email\n",
    "message[\"To\"] = receiver_email\n",
    "message[\"Subject\"] = subject\n",
    "\n",
    "# Attach the email body\n",
    "# message.attach(MIMEText(text_content, \"plain\"))\n",
    "message.attach(payload=MIMEText(_text=html_content, _subtype=\"html\"))\n",
    "\n",
    "# Connect to the SMTP server and send the email\n",
    "try:\n",
    "    if (server_ssl):\n",
    "        with smtplib.SMTP_SSL(host=server_ip, port=server_port) as server:  # Use your email provider's SMTP server\n",
    "            # server.starttls()  # Upgrade the connection to secure   \n",
    "            server.login(user=user_id, password=user_pw)\n",
    "            server.sendmail(from_addr=sender_email, to_addrs=receiver_email, msg=message.as_string())\n",
    "    else:\n",
    "        with smtplib.SMTP(host=server_ip, port=server_port) as server:  # Use your email provider's SMTP server\n",
    "            server.starttls()  # Upgrade the connection to secure   \n",
    "            server.login(user=user_id, password=user_pw)\n",
    "            server.sendmail(from_addr=sender_email, to_addrs=receiver_email, msg=message.as_string())\n",
    "        print(\"Email sent successfully!\")\n",
    "except Exception as e:\n",
    "    print(f\"Failed to send email: {e}\")\n",
    "\n"
   ]
  }
 ],
 "metadata": {
  "kernelspec": {
   "display_name": "Python 3",
   "language": "python",
   "name": "python3"
  },
  "language_info": {
   "codemirror_mode": {
    "name": "ipython",
    "version": 3
   },
   "file_extension": ".py",
   "mimetype": "text/x-python",
   "name": "python",
   "nbconvert_exporter": "python",
   "pygments_lexer": "ipython3",
   "version": "3.12.3"
  }
 },
 "nbformat": 4,
 "nbformat_minor": 5
}

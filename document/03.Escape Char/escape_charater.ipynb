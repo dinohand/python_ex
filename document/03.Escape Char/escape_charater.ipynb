{
 "cells": [
  {
   "cell_type": "code",
   "execution_count": 20,
   "id": "04500102",
   "metadata": {},
   "outputs": [
    {
     "name": "stdout",
     "output_type": "stream",
     "text": [
      "1 : '\\' : '\\\\'\t안녕하세요\\반갑습니다\n",
      "2 : ''' : \"'\"\t안녕하세요'반갑습니다\n",
      "3 : '\"' : '\"'\t안녕하세요\"반갑습니다\n",
      "4 : '\t' : '\\t'\t안녕하세요\t반갑습니다\n",
      "5 : '\n",
      "' : '\\n'\t안녕하세요\n",
      "반갑습니다\n",
      "6 : ' : '\\x08'\t안녕하세반갑습니다\n",
      "7 : '\u000b' : '\\x0b'\t안녕하세요\u000b반갑습니다\n"
     ]
    }
   ],
   "source": [
    "# \\\\\n",
    "# \\'\n",
    "# \\\"\n",
    "# \\t\n",
    "# \\n\n",
    "# \\r\n",
    "# \\b\n",
    "# \\f\n",
    "# \\x00 - hexadecimal escape\n",
    "# \\000 - octal escape\n",
    "\n",
    "#!/usr/bin/env python3\n",
    "\n",
    "# esc_chars = [ \"\\\\\", \"\\'\", \"\\\"\", \"\\t\", \"\\n\", \"\\r\", \"\\b\", \"\\f\" ]\n",
    "esc_chars = [ \"\\\\\", \"\\'\", \"\\\"\", \"\\t\", \"\\n\",  \"\\b\", \"\\v\" ]\n",
    "i = 0\n",
    "for esc_char in esc_chars:\n",
    "    i +=  1\n",
    "    print(f\"{i} : '{esc_char}' : {repr(esc_char)}\" , end='\\t')\n",
    "    print(f\"안녕하세요{esc_char}반갑습니다\")\n",
    "    \n",
    "    "
   ]
  },
  {
   "cell_type": "code",
   "execution_count": 27,
   "id": "977c6c3b",
   "metadata": {},
   "outputs": [
    {
     "data": {
      "text/plain": [
       "['__add__',\n",
       " '__class__',\n",
       " '__contains__',\n",
       " '__delattr__',\n",
       " '__dir__',\n",
       " '__doc__',\n",
       " '__eq__',\n",
       " '__format__',\n",
       " '__ge__',\n",
       " '__getattribute__',\n",
       " '__getitem__',\n",
       " '__getnewargs__',\n",
       " '__getstate__',\n",
       " '__gt__',\n",
       " '__hash__',\n",
       " '__init__',\n",
       " '__init_subclass__',\n",
       " '__iter__',\n",
       " '__le__',\n",
       " '__len__',\n",
       " '__lt__',\n",
       " '__mod__',\n",
       " '__mul__',\n",
       " '__ne__',\n",
       " '__new__',\n",
       " '__reduce__',\n",
       " '__reduce_ex__',\n",
       " '__repr__',\n",
       " '__rmod__',\n",
       " '__rmul__',\n",
       " '__setattr__',\n",
       " '__sizeof__',\n",
       " '__str__',\n",
       " '__subclasshook__',\n",
       " 'capitalize',\n",
       " 'casefold',\n",
       " 'center',\n",
       " 'count',\n",
       " 'encode',\n",
       " 'endswith',\n",
       " 'expandtabs',\n",
       " 'find',\n",
       " 'format',\n",
       " 'format_map',\n",
       " 'index',\n",
       " 'isalnum',\n",
       " 'isalpha',\n",
       " 'isascii',\n",
       " 'isdecimal',\n",
       " 'isdigit',\n",
       " 'isidentifier',\n",
       " 'islower',\n",
       " 'isnumeric',\n",
       " 'isprintable',\n",
       " 'isspace',\n",
       " 'istitle',\n",
       " 'isupper',\n",
       " 'join',\n",
       " 'ljust',\n",
       " 'lower',\n",
       " 'lstrip',\n",
       " 'maketrans',\n",
       " 'partition',\n",
       " 'removeprefix',\n",
       " 'removesuffix',\n",
       " 'replace',\n",
       " 'rfind',\n",
       " 'rindex',\n",
       " 'rjust',\n",
       " 'rpartition',\n",
       " 'rsplit',\n",
       " 'rstrip',\n",
       " 'split',\n",
       " 'splitlines',\n",
       " 'startswith',\n",
       " 'strip',\n",
       " 'swapcase',\n",
       " 'title',\n",
       " 'translate',\n",
       " 'upper',\n",
       " 'zfill']"
      ]
     },
     "execution_count": 27,
     "metadata": {},
     "output_type": "execute_result"
    }
   ],
   "source": [
    "str = \"나는 문자열\"\n",
    "# print(type(str))\n",
    "# print(str.upper())\n",
    "\n",
    "dir(str)\n",
    "\n",
    "\n"
   ]
  },
  {
   "cell_type": "code",
   "execution_count": null,
   "id": "b6535f0f",
   "metadata": {},
   "outputs": [
    {
     "name": "stdout",
     "output_type": "stream",
     "text": [
      "\t\n"
     ]
    }
   ],
   "source": []
  }
 ],
 "metadata": {
  "kernelspec": {
   "display_name": "Python 3",
   "language": "python",
   "name": "python3"
  },
  "language_info": {
   "codemirror_mode": {
    "name": "ipython",
    "version": 3
   },
   "file_extension": ".py",
   "mimetype": "text/x-python",
   "name": "python",
   "nbconvert_exporter": "python",
   "pygments_lexer": "ipython3",
   "version": "3.12.3"
  }
 },
 "nbformat": 4,
 "nbformat_minor": 5
}

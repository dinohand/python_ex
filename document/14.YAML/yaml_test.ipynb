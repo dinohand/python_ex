{
 "cells": [
  {
   "cell_type": "code",
   "execution_count": 7,
   "id": "cc2c459d",
   "metadata": {},
   "outputs": [
    {
     "name": "stdout",
     "output_type": "stream",
     "text": [
      "{'DATABASE': {'HOST': '127.0.0.1', 'NAME': 'MARIA', 'PORT': 3306}, 'SYSTEM': {'ADMINISTRATORS': ['ADMIN', 'SYSMASTER', 'DBA'], 'AUTH_KEY': '0X00X00', 'LOB_LEVEL': 30}} <class 'dict'>\n",
      "{'ADMINISTRATORS': ['ADMIN', 'SYSMASTER', 'DBA'], 'AUTH_KEY': '0X00X00', 'LOB_LEVEL': 30}\n"
     ]
    }
   ],
   "source": [
    "# YAML 읽기\n",
    "import yaml\n",
    "\n",
    "import yaml\n",
    "\n",
    "with open('config.yaml', 'r') as file:\n",
    "    config = yaml.safe_load(file)\n",
    "\n",
    "print(config, type(config))\n",
    "\n",
    "print(config['SYSTEM'])\n"
   ]
  },
  {
   "cell_type": "code",
   "execution_count": null,
   "id": "3a4f368a",
   "metadata": {},
   "outputs": [],
   "source": [
    "# YAML 쓰기\n",
    "import yaml\n",
    "\n",
    "data = {\n",
    "    'SYSTEM' :\n",
    "            {\n",
    "                'LOB_LEVEL': 30,\n",
    "                'AUTH_KEY': '0X00X00',\n",
    "                'ADMINISTRATORS' : ['ADMIN','SYSMASTER', 'DBA']\n",
    "            }\n",
    "    ,\n",
    "    'DATABASE' : {\n",
    "        'NAME': 'MARIA',\n",
    "        'HOST':'127.0.0.1',\n",
    "        'PORT':3306\n",
    "    }\n",
    "}\n",
    "\n",
    "with open('config.yaml', 'w') as file:\n",
    "    yaml.dump(data, file)"
   ]
  },
  {
   "cell_type": "code",
   "execution_count": null,
   "id": "94a9bb29",
   "metadata": {},
   "outputs": [],
   "source": [
    "# ; 기본 섹션\n",
    "# [SYSTEM]\n",
    "# LOG_LEVEL=30\n",
    "# AUTH_KEY=0X00X00\n",
    "\n",
    "# ; 데이터베이스\n",
    "# [DATABASE]\n",
    "# NAME=MARIA\n",
    "# HOST=127.0.0.1\n",
    "# PORT=3306\n",
    "# USER_ID=\n",
    "# USER_PW=\n"
   ]
  }
 ],
 "metadata": {
  "kernelspec": {
   "display_name": "Python 3",
   "language": "python",
   "name": "python3"
  },
  "language_info": {
   "codemirror_mode": {
    "name": "ipython",
    "version": 3
   },
   "file_extension": ".py",
   "mimetype": "text/x-python",
   "name": "python",
   "nbconvert_exporter": "python",
   "pygments_lexer": "ipython3",
   "version": "3.12.3"
  }
 },
 "nbformat": 4,
 "nbformat_minor": 5
}

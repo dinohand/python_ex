{
 "cells": [
  {
   "cell_type": "code",
   "execution_count": null,
   "id": "5ba995b5",
   "metadata": {},
   "outputs": [
    {
     "name": "stdout",
     "output_type": "stream",
     "text": [
      "AUTH_KEY: 0X00X00\n"
     ]
    }
   ],
   "source": [
    "import configparser\n",
    "import os\n",
    "\n",
    "cfile = 'config.ini'\n",
    "\n",
    "if not os.path.exists(cfile):\n",
    "    print(f\"Configuration file '{cfile}' not found.\")\n",
    "else:\n",
    "    config = configparser.ConfigParser()\n",
    "    config.read(filenames=cfile, encoding='utf-8')\n",
    "    \n",
    "    AUTH_KEY = config.get('SYSTEM', 'AUTh_KEY', fallback=None)\n",
    "    LOG_LEVEL = config['SYSTEM']['AUTh_KEY']\n",
    "\n",
    "    print()\n",
    "\n"
   ]
  },
  {
   "cell_type": "code",
   "execution_count": 25,
   "id": "a2e9ab19",
   "metadata": {},
   "outputs": [
    {
     "name": "stdout",
     "output_type": "stream",
     "text": [
      "[SYSTEM]\n",
      "log_level = 30\n",
      "auth_key = 0X00X00\n",
      "[DATABASE]\n",
      "name = MARIA\n",
      "host = 127.0.0.1\n",
      "port = 3306\n",
      "user_id = \n",
      "user_pw = \n",
      "[TEST]\n",
      "test_level = ALPHA\n",
      "result = PASS\n"
     ]
    }
   ],
   "source": [
    "import configparser\n",
    "import os\n",
    "\n",
    "cfile = 'config.ini'\n",
    "\n",
    "if not os.path.exists(cfile):\n",
    "    print(f\"Configuration file '{cfile}' not found.\")\n",
    "else:\n",
    "    config = configparser.ConfigParser()\n",
    "    config.read(filenames=cfile, encoding='utf-8')\n",
    "\n",
    "    config['TEST'] = {'TEST_LEVEL': 'ALPHA',\n",
    "                      'RESULT': 'PASS'}\n",
    "        \n",
    "    for section in config.sections():\n",
    "        print(f\"[{section}]\")\n",
    "        for key, value in config.items(section=section):\n",
    "            print(f\"{key} = {value}\")\n",
    "\n",
    "    with open(cfile + \".new\", 'w', encoding='utf-8') as configfile:\n",
    "        config.write(configfile)\n",
    "\n"
   ]
  }
 ],
 "metadata": {
  "kernelspec": {
   "display_name": "Python 3",
   "language": "python",
   "name": "python3"
  },
  "language_info": {
   "codemirror_mode": {
    "name": "ipython",
    "version": 3
   },
   "file_extension": ".py",
   "mimetype": "text/x-python",
   "name": "python",
   "nbconvert_exporter": "python",
   "pygments_lexer": "ipython3",
   "version": "3.12.3"
  }
 },
 "nbformat": 4,
 "nbformat_minor": 5
}

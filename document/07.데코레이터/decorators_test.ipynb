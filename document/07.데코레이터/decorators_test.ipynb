{
 "cells": [
  {
   "cell_type": "code",
   "execution_count": 7,
   "id": "e6674d44",
   "metadata": {},
   "outputs": [
    {
     "data": {
      "text/plain": [
       "'banana smoothie'"
      ]
     },
     "execution_count": 7,
     "metadata": {},
     "output_type": "execute_result"
    }
   ],
   "source": [
    "def add_mango(function):\n",
    "    def wrapper(*args, **kwargs):\n",
    "        # print(\"Adding mango to the function call\")\n",
    "        return \"Mango-\" +  function(*args, **kwargs)\n",
    "    return wrapper\n",
    "\n",
    "# @add_mango\n",
    "def make_smoothie(fruit):\n",
    "    return f\"{fruit} smoothie\"\n",
    "\n",
    "make_smoothie(\"banana\")"
   ]
  }
 ],
 "metadata": {
  "kernelspec": {
   "display_name": "Python 3",
   "language": "python",
   "name": "python3"
  },
  "language_info": {
   "codemirror_mode": {
    "name": "ipython",
    "version": 3
   },
   "file_extension": ".py",
   "mimetype": "text/x-python",
   "name": "python",
   "nbconvert_exporter": "python",
   "pygments_lexer": "ipython3",
   "version": "3.12.3"
  }
 },
 "nbformat": 4,
 "nbformat_minor": 5
}

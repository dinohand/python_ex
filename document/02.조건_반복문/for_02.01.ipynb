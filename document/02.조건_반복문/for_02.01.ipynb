{
 "cells": [
  {
   "cell_type": "code",
   "execution_count": 5,
   "metadata": {},
   "outputs": [
    {
     "name": "stdout",
     "output_type": "stream",
     "text": [
      "apple\n",
      "banana\n",
      "cherry\n",
      "No more fruits!\n"
     ]
    }
   ],
   "source": [
    "fruit = ['apple', 'banana', 'cherry']\n",
    "\n",
    "for item in fruit:\n",
    "    print(item) \n",
    "else :\n",
    "    print(\"No more fruits!\")    \n",
    "\n",
    "\n",
    "for item in fruit:\n",
    "    if item == 'banana':\n",
    "        break    "
   ]
  },
  {
   "cell_type": "code",
   "execution_count": 8,
   "metadata": {},
   "outputs": [
    {
     "name": "stdout",
     "output_type": "stream",
     "text": [
      "1 2 3 4 5 "
     ]
    }
   ],
   "source": [
    "sequence = [1, 2, 3, 4, 5]\n",
    "\n",
    "for item in sequence:\n",
    "    print(item, end=' ')"
   ]
  },
  {
   "cell_type": "code",
   "execution_count": null,
   "metadata": {},
   "outputs": [
    {
     "name": "stdout",
     "output_type": "stream",
     "text": [
      "a: 1\n",
      "b: 2\n",
      "c: 3\n",
      "a b c "
     ]
    }
   ],
   "source": [
    "sequence = {'a': 1, 'b': 2, 'c': 3}\n",
    "\n",
    "for key, value in sequence.items():\n",
    "    print(f\"{key}: {value}\")\n",
    "    \n",
    "for i in  sequence:\n",
    "    print(i, end=' ')"
   ]
  },
  {
   "cell_type": "code",
   "execution_count": null,
   "metadata": {},
   "outputs": [
    {
     "name": "stdout",
     "output_type": "stream",
     "text": [
      "list\n",
      "1 2 3 4 5 tuple\n",
      "1 2 3 4 5 set\n",
      "1 2 3 4 5 dict\n",
      "a: 1 b: 2 c: 3 "
     ]
    }
   ],
   "source": [
    "\n",
    "\n",
    "def for_loop_example(sequence):\n",
    "    # print(sequence.__class__.__name__)\n",
    "    if isinstance(sequence, dict):\n",
    "        for key, value in sequence.items():\n",
    "            print(f\"{key}: {value}\", end=' ')\n",
    "    else:\n",
    "        for item in sequence:\n",
    "            print(item, end=' ')\n",
    "        \n",
    "vlist = [1, 2, 3, 4, 5]\n",
    "vtuple = (1, 2, 3, 4, 5)\n",
    "vset = {1, 2, 3, 4, 5}\n",
    "vdict = {'a': 1, 'b': 2, 'c': 3}\n",
    "for_loop_example(vlist)  # 1 2 3 4 5\n",
    "for_loop_example(vtuple)  # 1 2 3 4 5           \n",
    "for_loop_example(vset)  # 1 2 3 4 5\n",
    "for_loop_example(vdict)  # a: 1 b: 2 c: 3\n",
    "\n",
    "\n",
    "# print (isinstance(vlist, list))  # True\n"
   ]
  },
  {
   "cell_type": "code",
   "execution_count": null,
   "metadata": {},
   "outputs": [
    {
     "name": "stdout",
     "output_type": "stream",
     "text": [
      "0\n",
      "1\n",
      "2\n",
      "3\n",
      "4\n",
      "5\n",
      "6\n",
      "7\n",
      "8\n",
      "9\n",
      "====================\n",
      "2\n",
      "3\n",
      "4\n",
      "5\n",
      "6\n",
      "7\n",
      "8\n",
      "9\n",
      "====================\n",
      "2\n",
      "4\n",
      "6\n",
      "8\n",
      "====================\n"
     ]
    }
   ],
   "source": [
    "# 줄긋기 함수\n",
    "def line(toWhere):\n",
    "    line = \"\"\n",
    "    for i in range(toWhere):\n",
    "        line = line + \"=\" \n",
    "    print(line)\n",
    "    \n",
    "\n",
    "# range(stop)\n",
    "for i in range(10):\n",
    "    print(i)\n",
    "\n",
    "line(20)\n",
    "\n",
    "# range(start, stop)\n",
    "for i in range(2, 10):\n",
    "    print(i)\n",
    "\n",
    "line(20)\n",
    "\n",
    "# range(start, stop, step)\n",
    "for i in range(2, 10, 2):\n",
    "    print(i)\n",
    "\n",
    "line(20)\n",
    "\n",
    "# 조건상 동작하지 않음 step의 기본값이 1 이므로로\n",
    "for i in range(10, 2):\n",
    "    print(i)\n",
    "\n",
    "# 잘 동작함\n",
    "for i in range(10, 2, -3):\n",
    "    print(i)\n",
    "    "
   ]
  },
  {
   "cell_type": "code",
   "execution_count": null,
   "metadata": {},
   "outputs": [
    {
     "name": "stdout",
     "output_type": "stream",
     "text": [
      "0\n",
      "1\n",
      "2\n",
      "3\n",
      "4\n",
      "5\n",
      "6\n",
      "7\n",
      "8\n",
      "9\n"
     ]
    }
   ],
   "source": [
    "for i in range(0,10):\n",
    "    print(i)"
   ]
  },
  {
   "cell_type": "code",
   "execution_count": 12,
   "metadata": {},
   "outputs": [
    {
     "name": "stdout",
     "output_type": "stream",
     "text": [
      "10\n"
     ]
    }
   ],
   "source": [
    "print(len(range(0,10)))"
   ]
  },
  {
   "cell_type": "code",
   "execution_count": 19,
   "metadata": {},
   "outputs": [
    {
     "name": "stdout",
     "output_type": "stream",
     "text": [
      "10\n",
      "10\n"
     ]
    }
   ],
   "source": [
    "print( len(range( x := 10)) )\n",
    "\n",
    "\n",
    "\n",
    "y = x\n",
    "\n",
    "print(y)"
   ]
  }
 ],
 "metadata": {
  "kernelspec": {
   "display_name": "Python 3",
   "language": "python",
   "name": "python3"
  },
  "language_info": {
   "codemirror_mode": {
    "name": "ipython",
    "version": 3
   },
   "file_extension": ".py",
   "mimetype": "text/x-python",
   "name": "python",
   "nbconvert_exporter": "python",
   "pygments_lexer": "ipython3",
   "version": "3.12.3"
  }
 },
 "nbformat": 4,
 "nbformat_minor": 2
}

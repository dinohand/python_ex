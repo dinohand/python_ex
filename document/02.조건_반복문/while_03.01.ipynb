{
 "cells": [
  {
   "cell_type": "code",
   "execution_count": 11,
   "metadata": {},
   "outputs": [
    {
     "name": "stdout",
     "output_type": "stream",
     "text": [
      "You entered: ㄹㄴㅇㄹㄴㅇ\n",
      "You entered: ㄴㅇㄹㄹㄴㅇㄹ\n",
      "You entered: ㄱㄷㄱㄷㅈㄱ\n",
      "Exited the loop\n"
     ]
    }
   ],
   "source": [
    "while True:\n",
    "    s = input('Enter a string: ')\n",
    "\n",
    "    if (s == 'exit' or s == 'quit'):\n",
    "        break\n",
    "    else:\n",
    "        print(f'You entered: {s}')\n",
    "        \n",
    "print('Exited the loop')"
   ]
  },
  {
   "cell_type": "code",
   "execution_count": null,
   "metadata": {},
   "outputs": [
    {
     "name": "stdout",
     "output_type": "stream",
     "text": [
      "현재 과일 목록: ['사과', '체리']\n"
     ]
    }
   ],
   "source": [
    "fruits = ['사과', '바나나', '체리']\n",
    "\n",
    "choice = '바나나'\n",
    "\n",
    "while choice in fruits:\n",
    "    fruits.remove(choice)\n",
    "\n",
    "print(f'현재 과일 목록: {fruits}')\n"
   ]
  },
  {
   "cell_type": "code",
   "execution_count": 1,
   "metadata": {},
   "outputs": [
    {
     "name": "stdout",
     "output_type": "stream",
     "text": [
      "5\n",
      "6\n",
      "7\n",
      "8\n",
      "9\n",
      "10\n",
      "I popped  오렌지\n",
      "오렌지 이 나왔다\n"
     ]
    }
   ],
   "source": [
    "# 무한 Loop가 되지 않도록 while문 안에서 탈출 계획을 넣어야한다\n",
    "# 전기가 공급되는 한 무한반복을 목적으로 하는 경우도 있긴하다.\n",
    "a = 10\n",
    "i = 5\n",
    "while i <= 10:\n",
    "    print(i)\n",
    "    i =  i + 1\n",
    "\n",
    "b = {\"사과\", \"배\",\"오렌지\",\"수박\"}\n",
    "\n",
    "item = \"오렌지\"\n",
    "while item in b:\n",
    "    what = b.pop()\n",
    "    print(\"I popped \", what)\n",
    "    if what == item:\n",
    "        print(item,\"이 나왔다\")\n",
    "        break\n"
   ]
  },
  {
   "cell_type": "code",
   "execution_count": null,
   "metadata": {},
   "outputs": [],
   "source": [
    "b = {\"사과\", \"배\",\"오렌지\",\"수박\"}\n",
    "\n",
    "item = \"오렌지\"\n",
    "\n",
    "while item in b:\n",
    "    what = b.pop()\n",
    "    print(\"I popped \", what)\n",
    "    if what == item:\n",
    "        print(item,\"이 나왔다\")\n",
    "        break\n"
   ]
  }
 ],
 "metadata": {
  "kernelspec": {
   "display_name": "Python 3",
   "language": "python",
   "name": "python3"
  },
  "language_info": {
   "codemirror_mode": {
    "name": "ipython",
    "version": 3
   },
   "file_extension": ".py",
   "mimetype": "text/x-python",
   "name": "python",
   "nbconvert_exporter": "python",
   "pygments_lexer": "ipython3",
   "version": "3.12.3"
  }
 },
 "nbformat": 4,
 "nbformat_minor": 2
}

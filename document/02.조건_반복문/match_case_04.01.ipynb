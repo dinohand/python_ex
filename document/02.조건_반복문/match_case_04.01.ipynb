{
 "cells": [
  {
   "cell_type": "code",
   "execution_count": 12,
   "metadata": {},
   "outputs": [
    {
     "name": "stdout",
     "output_type": "stream",
     "text": [
      "청소년의 입장료는 500원입니다.\n"
     ]
    }
   ],
   "source": [
    "who = '청소년' # 군인, 청소년, 어른, 어린이, 노인\n",
    "\n",
    "fee = 1000   # 입장료\n",
    "\n",
    "match who:\n",
    "    case '군인': \n",
    "        fee = 100\n",
    "    case '청소년': \n",
    "        fee = 500\n",
    "    case '어른':\n",
    "        fee = 1000\n",
    "    case _:    ## _ : 와일드 카드 , 군인, 청소년, 어른이 아닌 사람 => 어린이, 노인\n",
    "        fee = 0\n",
    "\n",
    "result = f'{who}의 입장료는 {fee}원입니다.'\n",
    "print(result)"
   ]
  },
  {
   "cell_type": "code",
   "execution_count": null,
   "metadata": {},
   "outputs": [
    {
     "name": "stdout",
     "output_type": "stream",
     "text": [
      "근무일\n"
     ]
    }
   ],
   "source": [
    "day = '화'\n",
    "\n",
    "match day:\n",
    "  case '월' | '화' | '수' | '목' | '금':\n",
    "    print(\"근무일\")\n",
    "  case '토' | '일':\n",
    "    print(\"휴무일\")\n"
   ]
  },
  {
   "cell_type": "code",
   "execution_count": null,
   "metadata": {},
   "outputs": [
    {
     "name": "stdout",
     "output_type": "stream",
     "text": [
      "어른의 입장료는 0원입니다.\n"
     ]
    }
   ],
   "source": [
    "who = '어른'       # 군인, 청소년, 어른, 어린이, 노인\n",
    "fee = 1000         # 입장료\n",
    "hanbok_yn  = True  # 한복 착용 여부 \n",
    "\n",
    "match who:\n",
    "    case '군인': \n",
    "        fee = 100\n",
    "    case '청소년' if hanbok_yn:\n",
    "        fee = 100\n",
    "    case '청소년' if not(hanbok_yn):\n",
    "        fee = 500\n",
    "    case '어른' if hanbok_yn:\n",
    "        fee = 500\n",
    "    case '어른' if hanbok_yn:\n",
    "        fee = 1000        \n",
    "    case _:    ## _ : 와일드 카드 , 군인, 청소년, 어른이 아닌 사람 => 어린이, 노인\n",
    "        fee = 0\n",
    "\n",
    "result = f'{who}의 입장료는 {fee}원입니다.'\n",
    "print(result)"
   ]
  },
  {
   "cell_type": "code",
   "execution_count": 15,
   "metadata": {},
   "outputs": [
    {
     "name": "stdout",
     "output_type": "stream",
     "text": [
      "Value is between 10 and 50.\n",
      "42\n"
     ]
    }
   ],
   "source": [
    "value = 42\n",
    "\n",
    "match value:\n",
    "    case y if y < 10:\n",
    "        print(\"Value is less than 10.\")\n",
    "    case x if 10 <= x <= 50:\n",
    "        print(\"Value is between 10 and 50.\")\n",
    "    case _:\n",
    "        print(\"Value is greater than 50.\")\n",
    "        \n",
    "print(x)"
   ]
  },
  {
   "cell_type": "code",
   "execution_count": 5,
   "metadata": {},
   "outputs": [
    {
     "name": "stdout",
     "output_type": "stream",
     "text": [
      "하나\n",
      "둘\n",
      "셋\n",
      "연습 입니다\n"
     ]
    }
   ],
   "source": [
    "\n",
    "a = [1,2,3,'연습']\n",
    "for i in a:\n",
    "    match i:\n",
    "        case 1: \n",
    "            print(\"하나\")\n",
    "        case 2:\n",
    "            print(\"둘\")\n",
    "        case 3:\n",
    "            print(\"셋\")\n",
    "        case _:                                   ## _ : 와일드 카드\n",
    "            print(i , \"입니다\")"
   ]
  },
  {
   "cell_type": "code",
   "execution_count": null,
   "metadata": {},
   "outputs": [
    {
     "name": "stdout",
     "output_type": "stream",
     "text": [
      "2\n",
      "unknown\n"
     ]
    }
   ],
   "source": [
    "# python 3.10 이상에서 가능\n",
    "\n",
    "# a = [1,2,3,4,5,6,7,8,9,10, 11,12]\n",
    "# for i in a:\n",
    "#     match i:\n",
    "#         case 1:\n",
    "#             print(\"하나\")\n",
    "#         case 2:\n",
    "#             print(\"둘\")\n",
    "#         case 3:\n",
    "#             # print(\"삼\")\n",
    "#             pass    ## 아무것도 하지 않겠다는 의미미\n",
    "#         case 4:\n",
    "#             print(\"넷\")\n",
    "#         case 5:\n",
    "#             print(\"오\")\n",
    "#         case 6:\n",
    "#             print(\"여섯\")\n",
    "#             # break  ## 반복문을 탈출학겠다는 의미미\n",
    "#         case 7:\n",
    "#             print(\"칠\")\n",
    "#         # case 8:\n",
    "#         #     print(\"팔\")\n",
    "#         case 9:\n",
    "#             print(\"아홉\")\n",
    "#         case 10:\n",
    "#             print(\"공\")\n",
    "#         case _:                                   ## _ : 와일드 카드\n",
    "#             print(i , \"입니다\")\n",
    "            \n",
    "            \n",
    "which =  \"사과\"           \n",
    "print(len(which))\n",
    "\n",
    "match which:\n",
    "    # case \"사과\" : \n",
    "    #     print(\"사과\")\n",
    "    case \"바나나\" if (len(which) > 1) :  ## if 조건문을 추가할 수 있음\n",
    "        print(\"바나나\")\n",
    "    case _:\n",
    "        print('unknown')  ## 와일드 카드로 어떤 값이든 다 받아들임\n",
    "\n",
    "\n",
    "\n",
    "        \n",
    "        \n",
    "##  참조 : https://www.geeksforgeeks.org/python-match-case-statement/#matching-sequences\n"
   ]
  },
  {
   "cell_type": "code",
   "execution_count": null,
   "metadata": {},
   "outputs": [
    {
     "name": "stdout",
     "output_type": "stream",
     "text": [
      "<class 'type'>\n",
      "정수입니다\n"
     ]
    }
   ],
   "source": [
    "which = 1\n",
    "\n",
    "# if type(which) == int:\n",
    "#     print(\"정수입니다\"  )\n",
    "#     print(type(which).__name__)\n",
    "\n",
    "print(type( type(which)) )\n",
    "\n",
    "match type(which).__name__:\n",
    "    case 'int':\n",
    "        print(\"정수입니다\")\n",
    "    case 'str':\n",
    "        print(\"문자열입니다\")\n",
    "    case 'list':\n",
    "        print(\"리스트입니다\")\n",
    "    case 'tuple':\n",
    "        print\n",
    "    case _:\n",
    "        print('unknown')  ## 와일드 카드로 어떤 값이든 다 받아들임\n"
   ]
  },
  {
   "cell_type": "code",
   "execution_count": 28,
   "metadata": {},
   "outputs": [
    {
     "name": "stdout",
     "output_type": "stream",
     "text": [
      "정수입니다\n"
     ]
    }
   ],
   "source": [
    "which = 1\n",
    "\n",
    "if type(which) is int:\n",
    "    print(\"정수입니다\")\n",
    "elif type(which) is str:\n",
    "    print(\"문자열입니다\")\n",
    "elif type(which) is list:\n",
    "    print(\"리스트입니다\")\n",
    "elif type(which) is tuple: \n",
    "    print(\"튜플입니다\")\n",
    "else:\n",
    "    print('unknown')\n"
   ]
  },
  {
   "cell_type": "code",
   "execution_count": null,
   "metadata": {},
   "outputs": [
    {
     "name": "stdout",
     "output_type": "stream",
     "text": [
      "문자열입니다\n"
     ]
    }
   ],
   "source": [
    "which = (1,2,3)\n",
    "\n",
    "if isinstance(which, int):\n",
    "    print(\"정수입니다\")\n",
    "elif isinstance(which, str):\n",
    "    print(\"문자열입니다\")\n",
    "elif isinstance(which, list):\n",
    "    print(\"리스트입니다\")\n",
    "elif isinstance(which, tuple):    \n",
    "    print(\"튜플입니다\")\n",
    "else:\n",
    "    print('unknown')\n"
   ]
  }
 ],
 "metadata": {
  "kernelspec": {
   "display_name": "Python 3",
   "language": "python",
   "name": "python3"
  },
  "language_info": {
   "codemirror_mode": {
    "name": "ipython",
    "version": 3
   },
   "file_extension": ".py",
   "mimetype": "text/x-python",
   "name": "python",
   "nbconvert_exporter": "python",
   "pygments_lexer": "ipython3",
   "version": "3.12.3"
  }
 },
 "nbformat": 4,
 "nbformat_minor": 2
}

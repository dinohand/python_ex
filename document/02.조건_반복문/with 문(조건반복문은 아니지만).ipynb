{
 "cells": [
  {
   "cell_type": "markdown",
   "id": "962e0447",
   "metadata": {},
   "source": [
    "파이썬에선에서 with 문은 \n",
    "파일이나 네트워크 connection 등과 같은 자원을 효율적으로 관리하기 위하여 사용된다.\n",
    "자원을 획득하고 사용후 반환할 때 자동으로 자원획득과 반환시 해야할 처리를 해준다.\n",
    "자동으로 __enter__, __exit__ 메소드를 호출함\n",
    "\n",
    "\n",
    " with EXPRESSION [as variable]\n",
    "    CODE-BLOCK\n",
    "\n",
    "'''' sh\n",
    "# 전통방식\n",
    "f = open(\"example.txt\", \"r\")\n",
    "try:\n",
    "    ctx = f.read()\n",
    "    print(ctx) \n",
    "finally:\n",
    "    f.close()\n",
    "\n",
    "\n",
    "# with 문\n",
    "\n",
    "with open(\"example.txt\", \"r\") as f:\n",
    "    ctx = f.read()\n",
    "    print(ctx)\n",
    "\n",
    "## with문이 알아서 close해준다\n",
    "''''\n",
    "\n",
    "\n"
   ]
  },
  {
   "cell_type": "code",
   "execution_count": null,
   "id": "11cb3e1c",
   "metadata": {},
   "outputs": [],
   "source": []
  }
 ],
 "metadata": {
  "kernelspec": {
   "display_name": "Python 3",
   "language": "python",
   "name": "python3"
  },
  "language_info": {
   "codemirror_mode": {
    "name": "ipython",
    "version": 3
   },
   "file_extension": ".py",
   "mimetype": "text/x-python",
   "name": "python",
   "nbconvert_exporter": "python",
   "pygments_lexer": "ipython3",
   "version": "3.12.3"
  }
 },
 "nbformat": 4,
 "nbformat_minor": 5
}

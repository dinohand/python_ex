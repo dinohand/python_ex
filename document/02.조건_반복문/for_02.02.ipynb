{
 "cells": [
  {
   "cell_type": "code",
   "execution_count": null,
   "metadata": {},
   "outputs": [
    {
     "name": "stdout",
     "output_type": "stream",
     "text": [
      "하나\n",
      "둘\n",
      "셋\n",
      "넷\n",
      "하나\n",
      "둘\n",
      "셋\n",
      "넷\n",
      "==============================\n",
      "하나\n",
      "둘\n",
      "셋\n",
      "넷\n",
      "==================================================\n",
      "하나\n",
      "둘\n",
      "셋\n",
      "넷\n",
      "********************\n",
      "1\n",
      "2\n",
      "3\n",
      "4\n"
     ]
    },
    {
     "ename": "",
     "evalue": "",
     "output_type": "error",
     "traceback": [
      "\u001b[1;31mThe Kernel crashed while executing code in the current cell or a previous cell. \n",
      "\u001b[1;31mPlease review the code in the cell(s) to identify a possible cause of the failure. \n",
      "\u001b[1;31mClick <a href='https://aka.ms/vscodeJupyterKernelCrash'>here</a> for more info. \n",
      "\u001b[1;31mView Jupyter <a href='command:jupyter.viewOutput'>log</a> for further details."
     ]
    }
   ],
   "source": [
    "# 줄긋기 함수수\n",
    "def line(toWhere, tag='='):\n",
    "    line = \"\"\n",
    "    for i in range(toWhere):\n",
    "        line = line + tag \n",
    "    print(line)\n",
    "    \n",
    "# a = ['하나', '둘', '셋', '넷']\n",
    "\n",
    "# # 열거형의 객체를 하나씩 불러와서 반복문을 실행한다\n",
    "# # list type\n",
    "# for something in a:\n",
    "#     print(something)\n",
    "\n",
    "# for i in range(len(a)):\n",
    "#     print(a[i] )   \n",
    "\n",
    "# line(30)\n",
    "\n",
    "# # tuple type\n",
    "# b = ('하나', '둘', '셋', '넷')\n",
    "\n",
    "# for something in b:\n",
    "#     print(something)\n",
    "    \n",
    "# line(50)\n",
    "\n",
    "# for i in range(len(b)):\n",
    "#     print(b[i] )   # notice : not b(i)\n",
    "    \n",
    "# 집합형\n",
    "line(20, '*')\n",
    "s = {1,2,3,4}\n",
    "\n",
    "for i in s:\n",
    "    print(i)\n"
   ]
  }
 ],
 "metadata": {
  "kernelspec": {
   "display_name": "Python 3",
   "language": "python",
   "name": "python3"
  },
  "language_info": {
   "codemirror_mode": {
    "name": "ipython",
    "version": 3
   },
   "file_extension": ".py",
   "mimetype": "text/x-python",
   "name": "python",
   "nbconvert_exporter": "python",
   "pygments_lexer": "ipython3",
   "version": "3.12.3"
  }
 },
 "nbformat": 4,
 "nbformat_minor": 2
}

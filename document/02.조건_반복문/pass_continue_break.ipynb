{
 "cells": [
  {
   "cell_type": "code",
   "execution_count": null,
   "metadata": {},
   "outputs": [],
   "source": [
    "# pass - 코드 불럭에서 이후로 아무것도 하지 말라는 의미\n",
    "  \n",
    "# continue - 반복문에서 특정 조건만 건너뛰기\n",
    "\n",
    "# break - 반복문 탈출"
   ]
  }
 ],
 "metadata": {
  "language_info": {
   "name": "python"
  }
 },
 "nbformat": 4,
 "nbformat_minor": 2
}

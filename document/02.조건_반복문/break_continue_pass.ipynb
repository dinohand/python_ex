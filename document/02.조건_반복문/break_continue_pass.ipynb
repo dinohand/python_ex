{
 "cells": [
  {
   "cell_type": "code",
   "execution_count": 20,
   "id": "d62d3160",
   "metadata": {},
   "outputs": [
    {
     "name": "stdout",
     "output_type": "stream",
     "text": [
      "0\n",
      "1\n",
      "2\n",
      "3\n",
      "4\n"
     ]
    }
   ],
   "source": [
    "# break\n",
    "for i in range(10):\n",
    "    if i == 5:\n",
    "        break\n",
    "    print(i)"
   ]
  },
  {
   "cell_type": "code",
   "execution_count": 10,
   "id": "d6f51be2",
   "metadata": {},
   "outputs": [
    {
     "name": "stdout",
     "output_type": "stream",
     "text": [
      "안녕하세요\f반갑습니다\n"
     ]
    }
   ],
   "source": [
    "print ( \"안녕하세요\\f반갑습니다\" )"
   ]
  },
  {
   "cell_type": "code",
   "execution_count": 30,
   "id": "7a69e4f9",
   "metadata": {},
   "outputs": [
    {
     "name": "stdout",
     "output_type": "stream",
     "text": [
      "1\n",
      "3\n",
      "5\n",
      "7\n",
      "9\n"
     ]
    }
   ],
   "source": [
    "for i in range(1,11):\n",
    "    if i % 2 == 0:\n",
    "        continue  # skip even numbers\n",
    "    print(i)"
   ]
  },
  {
   "cell_type": "code",
   "execution_count": 13,
   "id": "5967374e",
   "metadata": {},
   "outputs": [
    {
     "name": "stdout",
     "output_type": "stream",
     "text": [
      "Hello\u000000World\n"
     ]
    }
   ],
   "source": [
    "text = \"Hello\\x0000World\"\n",
    "print(text)"
   ]
  },
  {
   "cell_type": "code",
   "execution_count": 1,
   "id": "3ab612ba",
   "metadata": {},
   "outputs": [
    {
     "name": "stdout",
     "output_type": "stream",
     "text": [
      "continue example: skip even numbers\n",
      "1\n",
      "3\n",
      "5\n",
      "7\n",
      "9\n",
      "\n",
      "break example: stop at first multiple of 7\n",
      "1 2 3 4 5 6 found 7\n",
      "\n",
      "while + continue + pass\n",
      "1 2 4 5 7 8 10 "
     ]
    }
   ],
   "source": [
    "# break_continue_pass.ipybn\n",
    "# Examples of break, continue, and pass\n",
    "\n",
    "print(\"continue example: skip even numbers\")\n",
    "for i in range(1, 11):\n",
    "    if i % 2 == 0:\n",
    "        continue  # skip even numbers\n",
    "    print(i)\n",
    "\n",
    "print(\"\\nbreak example: stop at first multiple of 7\")\n",
    "for i in range(1, 20):\n",
    "    if i % 7 == 0:\n",
    "        print(\"found\", i)\n",
    "        break\n",
    "    print(i, end=\" \")\n",
    "else:\n",
    "    print(\"no multiple found\")\n",
    "\n",
    "print(\"\\nwhile + continue + pass\")\n",
    "n = 0\n",
    "while n < 10:\n",
    "    n += 1\n",
    "    if n == 5:\n",
    "        pass  # placeholder, does nothing\n",
    "    if n % 3 == 0:\n",
    "        continue  # skip printing multiples of 3\n",
    "    print(n, end=\" \")\n",
    "\n",
    "    "
   ]
  },
  {
   "cell_type": "code",
   "execution_count": null,
   "id": "63222e45",
   "metadata": {},
   "outputs": [],
   "source": [
    "TF = True\n",
    "if TF:\n",
    "    pass            # placeholder, does nothing \n",
    "    # print('IF')\n",
    "else:\n",
    "    print('Else')\n"
   ]
  },
  {
   "cell_type": "code",
   "execution_count": null,
   "id": "85d72403",
   "metadata": {},
   "outputs": [
    {
     "name": "stdout",
     "output_type": "stream",
     "text": [
      "Continuing...\n",
      "Doing nothing...\n",
      "Breaking out of the loop...\n"
     ]
    }
   ],
   "source": [
    "which = 'continue'\n",
    "\n",
    "while True:\n",
    "    if which == 'break':\n",
    "        print('Breaking out of the loop...')\n",
    "        which = 'continue'  # 뒤의 break문으로 while문을 빠져나감. 없어도 되는 코드가 됨 \n",
    "        break\n",
    "    elif which == 'continue':\n",
    "        which = 'pass'  # change to 'pass' to test\n",
    "        print('Continuing...')\n",
    "        continue\n",
    "    elif which == 'pass':\n",
    "        which = 'break'  # change to 'break' to test\n",
    "        print('Doing nothing...')\n",
    "        pass\n",
    "    else:\n",
    "        print('Unknown command')\n",
    "        break \n",
    "\n",
    "        "
   ]
  },
  {
   "cell_type": "code",
   "execution_count": 27,
   "id": "0a71d175",
   "metadata": {},
   "outputs": [
    {
     "name": "stdout",
     "output_type": "stream",
     "text": [
      "6 7 8 \n",
      "exit -for\n",
      "6 7 8 \n",
      "exit -for\n",
      "6 7 8 \n",
      "exit -for\n",
      "Exiting after 3 iterations\n"
     ]
    }
   ],
   "source": [
    "j = 0\n",
    "\n",
    "while True:\n",
    "    for i in range(10):\n",
    "        if i < 6:\n",
    "            continue  # skip first 6 numbers\n",
    "        \n",
    "        print(i, end=\" \")\n",
    "        \n",
    "        if i == 8:\n",
    "            print(\"\\nexit -for\")\n",
    "            break\n",
    "    \n",
    "    j += 1\n",
    "    if j > 2:\n",
    "        print(f\"Exiting after {j} iterations\")\n",
    "        break  # exit the outer loop - while\n"
   ]
  },
  {
   "cell_type": "code",
   "execution_count": 38,
   "id": "32fa5fef",
   "metadata": {},
   "outputs": [
    {
     "name": "stdout",
     "output_type": "stream",
     "text": [
      "Found a camera\n",
      "Found a laptop\n",
      "No 'phone' was found\n"
     ]
    }
   ],
   "source": [
    "# pass\n",
    "\n",
    "products = ['TV', 'camera', 'laptop', 'phone']\n",
    "\n",
    "for item in products:\n",
    "    match item:\n",
    "        case 'TV':\n",
    "            pass  # placeholder, does nothing\n",
    "        case 'camera':\n",
    "            print(\"Found a camera\")\n",
    "        case 'laptop':\n",
    "            print(\"Found a laptop\")\n",
    "        case _:\n",
    "            print(f\"No '{item}' was found\")"
   ]
  },
  {
   "cell_type": "code",
   "execution_count": 48,
   "id": "06b6abff",
   "metadata": {},
   "outputs": [
    {
     "name": "stdout",
     "output_type": "stream",
     "text": [
      "None\n"
     ]
    }
   ],
   "source": [
    "def biz_function(x, y):\n",
    "    # 나중에 구현할 예정\n",
    "    pass\n",
    "\n",
    "x, y = 1, 2\n",
    "something = biz_function(x, y)\n",
    "print(something)"
   ]
  },
  {
   "cell_type": "code",
   "execution_count": null,
   "id": "81192f35",
   "metadata": {},
   "outputs": [
    {
     "name": "stdout",
     "output_type": "stream",
     "text": [
      "0\n"
     ]
    }
   ],
   "source": [
    "def div_function(x, y):\n",
    "    result = 0\n",
    "    try:\n",
    "        result = x / y\n",
    "    except:     # except ZeroDivisionError:\n",
    "        pass\n",
    "    return result\n",
    "\n",
    "rst = div_function(10, 0)\n",
    "print(rst)"
   ]
  }
 ],
 "metadata": {
  "kernelspec": {
   "display_name": "Python 3",
   "language": "python",
   "name": "python3"
  },
  "language_info": {
   "codemirror_mode": {
    "name": "ipython",
    "version": 3
   },
   "file_extension": ".py",
   "mimetype": "text/x-python",
   "name": "python",
   "nbconvert_exporter": "python",
   "pygments_lexer": "ipython3",
   "version": "3.12.3"
  }
 },
 "nbformat": 4,
 "nbformat_minor": 5
}

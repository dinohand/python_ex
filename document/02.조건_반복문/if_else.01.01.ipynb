{
 "cells": [
  {
   "cell_type": "code",
   "execution_count": null,
   "metadata": {},
   "outputs": [
    {
     "name": "stdout",
     "output_type": "stream",
     "text": [
      "True <class 'bool'>\n",
      "True입니다.\n"
     ]
    }
   ],
   "source": [
    "something  = 1  >=  1\n",
    "print(something , type(something))\n",
    "\n",
    "\n",
    "if something:\n",
    "    print('True입니다.')\n",
    "else:\n",
    "    print('False 입니다.')\n"
   ]
  },
  {
   "cell_type": "code",
   "execution_count": null,
   "metadata": {},
   "outputs": [],
   "source": []
  },
  {
   "cell_type": "code",
   "execution_count": 1,
   "metadata": {},
   "outputs": [
    {
     "name": "stdout",
     "output_type": "stream",
     "text": [
      "False\n",
      "0\n",
      "1 is True\n",
      "True\n",
      "False\n",
      "하나는 s에 있습니다\n"
     ]
    }
   ],
   "source": [
    "# if 문\n",
    "# pass, continue, break\n",
    "\n",
    "'''\n",
    "* 기본 구조\n",
    "    if (조건) :\n",
    "        ~\n",
    "    elif (조건) :\n",
    "        ~\n",
    "    else:\n",
    "        ~\n",
    "'''\n",
    "\n",
    "a = True\n",
    "b = False\n",
    "# b = True\n",
    "\n",
    "if a * b :   # a * b가 True이면 \n",
    "    print('True')\n",
    "else:\n",
    "    print('False')\n",
    "\n",
    "print (a * b)\n",
    "\n",
    "\n",
    "c = 1  # c = 1,2,3\n",
    "\n",
    "if c :\n",
    "    print( c, 'is True')\n",
    "    \n",
    "\n",
    "# 열거형,집합형에서의 True / False\n",
    "s = {\"하나\",\"둘\",\"셋\"}\n",
    "print(\"하나\" in s)\n",
    "print(\"하나둘\" in s)\n",
    "\n",
    "\n",
    "if \"하나\" in s:\n",
    "    print(\"하나는 s에 있습니다\")\n",
    "else:\n",
    "    print(\"하나는 s에 없습니다\")\n",
    "    "
   ]
  },
  {
   "cell_type": "code",
   "execution_count": 4,
   "metadata": {},
   "outputs": [
    {
     "name": "stdout",
     "output_type": "stream",
     "text": [
      "True <class 'bool'>\n",
      "True입니다.\n"
     ]
    }
   ],
   "source": [
    "something  = 1  >=  1\n",
    "print(something , type(something))\n",
    "\n",
    "if something:\n",
    "    print('True입니다.')\n",
    "else:\n",
    "    print('False 입니다.')\n"
   ]
  },
  {
   "cell_type": "code",
   "execution_count": 1,
   "metadata": {},
   "outputs": [
    {
     "data": {
      "text/plain": [
       "1"
      ]
     },
     "execution_count": 1,
     "metadata": {},
     "output_type": "execute_result"
    }
   ],
   "source": [
    "a = 1 if True else 0\n",
    "\n",
    "a"
   ]
  },
  {
   "cell_type": "code",
   "execution_count": null,
   "metadata": {},
   "outputs": [
    {
     "name": "stdout",
     "output_type": "stream",
     "text": [
      "a는 1입니다\n"
     ]
    },
    {
     "ename": "",
     "evalue": "",
     "output_type": "error",
     "traceback": [
      "\u001b[1;31mThe Kernel crashed while executing code in the current cell or a previous cell. \n",
      "\u001b[1;31mPlease review the code in the cell(s) to identify a possible cause of the failure. \n",
      "\u001b[1;31mClick <a href='https://aka.ms/vscodeJupyterKernelCrash'>here</a> for more info. \n",
      "\u001b[1;31mView Jupyter <a href='command:jupyter.viewOutput'>log</a> for further details."
     ]
    }
   ],
   "source": [
    "a = 1\n",
    "\n",
    "if a == 1 :\n",
    "    print(\"a는 1입니다\")\n",
    "elif a == 2 :\n",
    "    print(\"a는 2입니다\")\n",
    "else :\n",
    "    print(\"a는 1도 2도 아닙니다\")\n",
    "\n"
   ]
  },
  {
   "cell_type": "code",
   "execution_count": null,
   "metadata": {},
   "outputs": [
    {
     "name": "stdout",
     "output_type": "stream",
     "text": [
      "탕수육을 선택하셨습니다\n",
      "False\n"
     ]
    }
   ],
   "source": [
    "menu = [\"짜장면\", \"짬뽕\", \"탕수육\"]\n",
    "\n",
    "choice = \"탕수육\"\n",
    "\n",
    "if \"짬뽕\" == choice:\n",
    "    print(\"짬뽕을 선택하셨습니다\")\n",
    "elif \"짜장면\" == choice:\n",
    "    print(\"짜장면을 선택하셨습니다\")\n",
    "elif \"탕수육\" == choice:\n",
    "    print(\"탕수육을 선택하셨습니다\")\n",
    "else:\n",
    "    print(\"메뉴에 없는 것을 선택하셨습니다\")\n",
    "    \n",
    "    \n",
    "\n"
   ]
  },
  {
   "cell_type": "code",
   "execution_count": 8,
   "metadata": {},
   "outputs": [
    {
     "name": "stdout",
     "output_type": "stream",
     "text": [
      "우육면은 메뉴에 없습니다\n"
     ]
    }
   ],
   "source": [
    "menu = [\"짜장면\", \"짬뽕\", \"탕수육\"]\n",
    "\n",
    "choice = \"우육면\"\n",
    "\n",
    "if  choice in menu :\n",
    "    print(f\"{choice}을 선택하셨습니다\")\n",
    "else:\n",
    "    print(f\"{choice}은 메뉴에 없습니다\")"
   ]
  },
  {
   "cell_type": "code",
   "execution_count": 19,
   "metadata": {},
   "outputs": [
    {
     "name": "stdout",
     "output_type": "stream",
     "text": [
      "둘 중에 하나만 True\n"
     ]
    }
   ],
   "source": [
    "A = 1\n",
    "B = 2\n",
    "\n",
    "if A is B:\n",
    "    print(\"A, B 모두 True\")\n",
    "elif  A or B:\n",
    "    print(\"둘 중에 하나만 True\")\n",
    "else:\n",
    "    print(\"A, B 모두 False\")\n",
    "\n"
   ]
  },
  {
   "cell_type": "code",
   "execution_count": 5,
   "metadata": {},
   "outputs": [
    {
     "name": "stdout",
     "output_type": "stream",
     "text": [
      "1\n"
     ]
    }
   ],
   "source": [
    "# 조건부 표현식(Conditional Expression)\n",
    "\n",
    "which =  True\n",
    "\n",
    "a =1  if True else 0\n",
    "\n",
    "print(a)"
   ]
  }
 ],
 "metadata": {
  "kernelspec": {
   "display_name": "Python 3",
   "language": "python",
   "name": "python3"
  },
  "language_info": {
   "codemirror_mode": {
    "name": "ipython",
    "version": 3
   },
   "file_extension": ".py",
   "mimetype": "text/x-python",
   "name": "python",
   "nbconvert_exporter": "python",
   "pygments_lexer": "ipython3",
   "version": "3.12.3"
  }
 },
 "nbformat": 4,
 "nbformat_minor": 2
}

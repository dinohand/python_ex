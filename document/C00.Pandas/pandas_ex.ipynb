{
 "cells": [
  {
   "cell_type": "code",
   "execution_count": 9,
   "id": "4350a5b2",
   "metadata": {},
   "outputs": [
    {
     "name": "stdout",
     "output_type": "stream",
     "text": [
      "   A  B  C\n",
      "0  1  2  3\n",
      "1  4  5  6\n",
      "0\n",
      "1\n"
     ]
    }
   ],
   "source": [
    "# DataFrame 선언\n",
    "import pandas as pd \n",
    "import numpy as np\n",
    "\n",
    "dataset = np.array([[1,2,3],[4,5,6]])\n",
    "\n",
    "ds = pd.DataFrame(dataset , columns=['A','B','C'] ) #, index=['Row1','Row2'])\n",
    "\n",
    "print( ds)\n",
    "for i in range(ds.shape[0] ):\n",
    "    print(i)\n"
   ]
  },
  {
   "cell_type": "code",
   "execution_count": 13,
   "id": "e0c7403d",
   "metadata": {},
   "outputs": [
    {
     "name": "stdout",
     "output_type": "stream",
     "text": [
      "Empty DataFrame\n",
      "Columns: [여자배우, 남자배우]\n",
      "Index: []\n"
     ]
    }
   ],
   "source": [
    "# %pip install openpyxl\n",
    "import pandas as pd\n",
    "\n",
    "\n",
    "xlsF = 'test.xlsx'\n",
    "\n",
    "# pd.read_excel(xlsF)\n",
    "df = pd.read_excel(xlsF, sheet_name='Sheet2', header=0)\n",
    "# print(df.head())\n",
    "print(df.head(0))\n",
    "\n",
    "\n",
    "\n"
   ]
  },
  {
   "cell_type": "code",
   "execution_count": 27,
   "id": "434a2e72",
   "metadata": {},
   "outputs": [
    {
     "name": "stdout",
     "output_type": "stream",
     "text": [
      "0    1\n",
      "1    2\n",
      "2    3\n",
      "3    4\n",
      "4    5\n",
      "dtype: int64\n"
     ]
    }
   ],
   "source": [
    "# Series\n",
    "import pandas as pd\n",
    "\n",
    "\n",
    "# tuple = (1,2,3)\n",
    "# str = \"안녕하세요\"\n",
    "\n",
    "# seri = pd.Series( data= str)\n",
    "\n",
    "\n",
    "# print(seri, type(seri))\n",
    "\n",
    "\n",
    "# 인덱스를 설정할 수 있음\n",
    "\n",
    "ls_idx = ['a','b','c','d','e'] \n",
    "ls_val = [1,2,3,4,5]\n",
    "\n",
    "# ser  = pd.Series(list, index = ls_idx)   # 인덱스와 value의 갯수가 같아야 한다\n",
    "# print(ser.iloc[1])\n",
    "# print(ser.iloc[1])\n",
    "\n",
    "ser  = pd.Series(list)   # 인덱스와 value의 갯수가 같아야 한다\n",
    "print(ser)\n"
   ]
  },
  {
   "cell_type": "code",
   "execution_count": null,
   "id": "a79daa13",
   "metadata": {},
   "outputs": [],
   "source": [
    "# DataFrame"
   ]
  }
 ],
 "metadata": {
  "kernelspec": {
   "display_name": "Python 3",
   "language": "python",
   "name": "python3"
  },
  "language_info": {
   "codemirror_mode": {
    "name": "ipython",
    "version": 3
   },
   "file_extension": ".py",
   "mimetype": "text/x-python",
   "name": "python",
   "nbconvert_exporter": "python",
   "pygments_lexer": "ipython3",
   "version": "3.12.3"
  }
 },
 "nbformat": 4,
 "nbformat_minor": 5
}

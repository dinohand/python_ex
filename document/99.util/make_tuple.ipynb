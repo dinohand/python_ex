{
 "cells": [
  {
   "cell_type": "code",
   "execution_count": null,
   "id": "f92bbdc7",
   "metadata": {},
   "outputs": [],
   "source": [
    "def _make_tuple(param : tuple | list | str) -> tuple:\n",
    "    \"\"\"param을 tuple 형태로 리턴한다\n",
    "    \n",
    "        ex) make_tuple(None) returns ('',)\n",
    "            make_tuple(()) returns ()\n",
    "    Args:\n",
    "        param (tuple | list | str): tuple 형태로 리턴할 입력 값\n",
    "\n",
    "    Returns:\n",
    "        tuple: tuple value\n",
    "    \"\"\"\n",
    "    if param is None: return ('',)\n",
    "    elif type(param) == list: return tuple(param)\n",
    "    elif type(param) == tuple:\n",
    "        li = []\n",
    "        for k in param:\n",
    "            if k is None or k =='None' : li.append('')  \n",
    "            else: li.append(k)\n",
    "        return tuple(li)\n",
    "    else:\n",
    "        return (param,)\n"
   ]
  },
  {
   "cell_type": "markdown",
   "id": "a583c8a9",
   "metadata": {},
   "source": []
  }
 ],
 "metadata": {
  "language_info": {
   "name": "python"
  }
 },
 "nbformat": 4,
 "nbformat_minor": 5
}

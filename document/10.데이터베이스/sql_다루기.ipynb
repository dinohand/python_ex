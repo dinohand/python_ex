{
 "cells": [
  {
   "cell_type": "code",
   "execution_count": null,
   "id": "46ce23a4",
   "metadata": {},
   "outputs": [
    {
     "name": "stdout",
     "output_type": "stream",
     "text": [
      "delete from user_table where pk = what \n"
     ]
    }
   ],
   "source": [
    "# dict 를 활용한 sql문 관리\n",
    "\n",
    "biz_domain = {\n",
    "    \"user_table\" : {\n",
    "        \"select\" : '''\n",
    "                select pk, name, location\n",
    "                from user_table \n",
    "                where pk = %s\n",
    "        ''',\n",
    "        \"delete\" : \"delete from user_table where pk = %s \"   \n",
    "    },\n",
    "    \n",
    "    \"system_table\" : {\n",
    "        \"insert\" : '''\n",
    "                select pk, name, location\n",
    "                from system_table \n",
    "                where pk = %s\n",
    "        ''',\n",
    "        \"delete\" : \"delete from where system_tablepk = %s \"  \n",
    "    }\n",
    "}\n",
    "\n",
    "tname = 'user_table'\n",
    "\n",
    "# print(type(biz_domain))\n",
    "# print(type(biz_domain[\"user_table\"]))\n",
    "\n",
    "\n",
    "param = (\"what\", )  ## arg는 tuple 형식으로\n",
    "\n",
    "print(biz_domain[tname][\"delete\"]%param)\n",
    "\n"
   ]
  },
  {
   "cell_type": "code",
   "execution_count": 12,
   "id": "31576328",
   "metadata": {},
   "outputs": [
    {
     "name": "stdout",
     "output_type": "stream",
     "text": [
      "\n",
      "                select pk, name, location\n",
      "                from system_table \n",
      "                where 1 = 1\n",
      "                    and pk = what\n",
      "                    and name = Joe\n",
      "        \n"
     ]
    }
   ],
   "source": [
    "# dict 를 활용한 sql문 관리\n",
    "\n",
    "biz_domain = {\n",
    "    \"user_table\" : {\n",
    "        \"select\" : '''\n",
    "                select pk, name, location\n",
    "                from user_table \n",
    "                where 1 = 1\n",
    "                    and pk = {pk}\n",
    "                    and name = {name}\n",
    "        ''',\n",
    "        \"delete\" : \"delete from user_table where pk = {pk} \"   \n",
    "    },\n",
    "    \n",
    "    \"system_table\" : {\n",
    "        \"select\" : '''\n",
    "                select pk, name, location\n",
    "                from system_table \n",
    "                where 1 = 1\n",
    "                    and pk = {}\n",
    "                    and name = {name}\n",
    "        ''',\n",
    "        \"delete\" : \"delete from where system_tablepk = {pk} \"  \n",
    "    }\n",
    "}\n",
    "\n",
    "tname = 'system_table'\n",
    "\n",
    "# print(type(biz_domain))\n",
    "# print(type(biz_domain[\"user_table\"]))\n",
    "\n",
    "pk = 'what'\n",
    "name = 'Joe'\n",
    "\n",
    "print(biz_domain[tname][\"select\"].format(pk, name = name))\n",
    "\n"
   ]
  }
 ],
 "metadata": {
  "kernelspec": {
   "display_name": "Python 3",
   "language": "python",
   "name": "python3"
  },
  "language_info": {
   "codemirror_mode": {
    "name": "ipython",
    "version": 3
   },
   "file_extension": ".py",
   "mimetype": "text/x-python",
   "name": "python",
   "nbconvert_exporter": "python",
   "pygments_lexer": "ipython3",
   "version": "3.12.3"
  }
 },
 "nbformat": 4,
 "nbformat_minor": 5
}

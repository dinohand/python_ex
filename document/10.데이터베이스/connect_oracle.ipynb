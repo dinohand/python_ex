{
 "cells": [
  {
   "cell_type": "code",
   "execution_count": null,
   "metadata": {},
   "outputs": [
    {
     "name": "stdout",
     "output_type": "stream",
     "text": [
      "Error: DPY-4027: no configuration directory specified\n"
     ]
    }
   ],
   "source": [
    "#pip install oracledb\n",
    "import oracledb\n",
    "\n",
    "user_id = 'sqlmanager'\n",
    "user_pw = 'sqliloveu'\n",
    "host = '10.10.10.20'\n",
    "port = '1521'\n",
    "database = 'XE'\n",
    "\n",
    "dsn =  host + ':' + port + '/' + database \n",
    "\n",
    "try: \n",
    "    conn = oracledb.connect( user=user_id, \n",
    "                         password=user_pw ,\n",
    "                         dsn=dsn\n",
    "                         )\n",
    "\n",
    "    cs = conn.cursor()\n",
    "    cs.execute(\"select 'Hello','JK' from dual\")\n",
    "    rs = cs.fetchall()\n",
    "    print(rs)\n",
    "    cs.close()\n",
    "    \n",
    "except Exception as e:\n",
    "    print('Error:', e)   \n"
   ]
  }
 ],
 "metadata": {
  "kernelspec": {
   "display_name": "Python 3",
   "language": "python",
   "name": "python3"
  },
  "language_info": {
   "codemirror_mode": {
    "name": "ipython",
    "version": 3
   },
   "file_extension": ".py",
   "mimetype": "text/x-python",
   "name": "python",
   "nbconvert_exporter": "python",
   "pygments_lexer": "ipython3",
   "version": "3.12.3"
  }
 },
 "nbformat": 4,
 "nbformat_minor": 2
}

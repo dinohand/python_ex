{
 "cells": [
  {
   "cell_type": "code",
   "execution_count": null,
   "metadata": {},
   "outputs": [
    {
     "name": "stdout",
     "output_type": "stream",
     "text": [
      "connected\n"
     ]
    }
   ],
   "source": [
    "import oracledb\n",
    "\n",
    "\n",
    "\n",
    "\n",
    "class oracle_db():\n",
    "    def __init__(self):\n",
    "        self.user_id = 'sqlmanager'\n",
    "        self.user_pw = 'sqliloveu'\n",
    "        self.host = '10.10.10.20'\n",
    "        self.port = '1521'\n",
    "        self.database = 'XE'\n",
    "\n",
    "        self.dsn = self.host + ':' + self.port + '/' + self.database \n",
    "\n",
    "    def get_conn(self):\n",
    "        try: \n",
    "            conn = oracledb.connect( user=self.user_id, password=self.user_pw , dsn=self.dsn  )\n",
    "            return conn\n",
    "        except Exception as e:\n",
    "            print('Error:', e)   \n",
    "            return None\n",
    "\n",
    "conn = oracle_db().get_conn()\n",
    "\n",
    "\n",
    "if conn is not None:\n",
    "    print('connected')\n",
    "\n",
    "    conn.close()    \n",
    "\n"
   ]
  }
 ],
 "metadata": {
  "kernelspec": {
   "display_name": "Python 3",
   "language": "python",
   "name": "python3"
  },
  "language_info": {
   "codemirror_mode": {
    "name": "ipython",
    "version": 3
   },
   "file_extension": ".py",
   "mimetype": "text/x-python",
   "name": "python",
   "nbconvert_exporter": "python",
   "pygments_lexer": "ipython3",
   "version": "3.12.3"
  }
 },
 "nbformat": 4,
 "nbformat_minor": 2
}

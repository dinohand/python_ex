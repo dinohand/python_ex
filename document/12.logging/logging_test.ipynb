{
 "cells": [
  {
   "cell_type": "code",
   "execution_count": 6,
   "id": "eba666c4",
   "metadata": {},
   "outputs": [
    {
     "name": "stderr",
     "output_type": "stream",
     "text": [
      "2025-06-18 10:12:10,722 : [app_module] [INFO] - This is an info message\n",
      "2025-06-18 10:12:10,722 : [app_module] [INFO] - This is an info message\n",
      "2025-06-18 10:12:10,722 : [app_module] [INFO] - This is an info message\n",
      "2025-06-18 10:12:10,722 : [app_module] [INFO] - This is an info message\n",
      "2025-06-18 10:12:10,722 : [app_module] [INFO] - This is an info message\n",
      "2025-06-18 10:12:10,722 : [app_module] [INFO] - This is an info message\n"
     ]
    }
   ],
   "source": [
    "import logging\n",
    "import datetime\n",
    "\n",
    "# logger를 생성한다.\n",
    "logger = logging.getLogger('app_module')\n",
    "# 로그 레벨을 설정한다.\n",
    "logger.setLevel(logging.INFO)\n",
    "\n",
    "# 로그 출력 형식을 지정한다.\n",
    "formatter = logging.Formatter( '%(asctime)s : [%(name)s] [%(levelname)s] - %(message)s')\n",
    "\n",
    "# 로그를 출력할 대상으로 콘솔 핸들러를 생성하고 포맷터를 설정한다.\n",
    "ch = logging.StreamHandler()\n",
    "ch.setFormatter(formatter)\n",
    "\n",
    "# 핸들러를 logger에 추가한다.\n",
    "logger.addHandler(ch)\n",
    "\n",
    "# 로그 메시지를 출력한다.\n",
    "logger.info('This is an info message')\n",
    "# logger.debug('This is a debug message')\n"
   ]
  },
  {
   "cell_type": "code",
   "execution_count": 19,
   "id": "cb71cbba",
   "metadata": {},
   "outputs": [
    {
     "name": "stderr",
     "output_type": "stream",
     "text": [
      "2025-06-18 10:17:58,370 : [some_module] [INFO] - This is an info message\n"
     ]
    }
   ],
   "source": [
    "import logging\n",
    "import datetime\n",
    "\n",
    "# logger를 생성한다.\n",
    "logger = logging.getLogger('some_module')\n",
    "# 로그 레벨을 설정한다.\n",
    "logger.setLevel(logging.INFO)\n",
    "\n",
    "# 로그 출력 형식을 지정한다.\n",
    "formatter = logging.Formatter( '%(asctime)s : [%(name)s] [%(levelname)s] - %(message)s')\n",
    "\n",
    "# 로그를 출력할 대상으로 콘솔 핸들러를 생성하고 포맷터를 설정한다.\n",
    "ch = logging.StreamHandler()\n",
    "ch.setFormatter(formatter)\n",
    "\n",
    "# 핸들러를 logger에 추가한다.\n",
    "logger.addHandler(ch)\n",
    "\n",
    "# 로그 메시지를 출력한다.\n",
    "logger.info('This is an info message') \n",
    "logger.debug('This is a debug message')  # 로그 레벨이 INFO이므로 출력되지 않음\n"
   ]
  },
  {
   "cell_type": "code",
   "execution_count": 20,
   "id": "49ef4761",
   "metadata": {},
   "outputs": [
    {
     "name": "stderr",
     "output_type": "stream",
     "text": [
      "2025-06-18 10:39:53,763 : [app_module2] [CRITICAL] - This is a critical message\n",
      "2025-06-18 10:39:53,763 : [app_module2] [CRITICAL] - This is a critical message\n"
     ]
    },
    {
     "name": "stdout",
     "output_type": "stream",
     "text": [
      "10\n"
     ]
    }
   ],
   "source": [
    "logger3 = logging.getLogger('app_module2')\n",
    "\n",
    "print(logger3.level)\n",
    "\n",
    "logger3.critical('This is a critical message')"
   ]
  }
 ],
 "metadata": {
  "kernelspec": {
   "display_name": "Python 3",
   "language": "python",
   "name": "python3"
  },
  "language_info": {
   "codemirror_mode": {
    "name": "ipython",
    "version": 3
   },
   "file_extension": ".py",
   "mimetype": "text/x-python",
   "name": "python",
   "nbconvert_exporter": "python",
   "pygments_lexer": "ipython3",
   "version": "3.12.3"
  }
 },
 "nbformat": 4,
 "nbformat_minor": 5
}

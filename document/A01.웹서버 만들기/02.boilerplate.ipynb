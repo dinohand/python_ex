{
 "cells": [
  {
   "cell_type": "markdown",
   "metadata": {},
   "source": [
    "## mvc pattern\n",
    "    - model\n",
    "    - view\n",
    "    - controller\n",
    "## Boilerplate란\n",
    "   - 공통적이고 기본적인 기능\n",
    "     - app 기본 뼈대\n",
    "     - 환경 관리\n",
    "     - 로그 관리\n",
    "     - 코드 관리(시스템 코드 관리, 사용자코드관리=>비즈니스스)\n",
    "     - 회원 관리\n",
    "   - 비즈니스 로직(업무에 따라 )\n",
    "   - 모델(entity. object,,,) 정의의\n",
    "\n",
    "# Backend application이 가져할 기본 기능\n",
    "\n",
    "- application의 개발/운영 환경\n",
    "- 로그\n",
    "- 메일 발송 기능능\n",
    "- 에러처리\n",
    "- 데이터베이스 처리리"
   ]
  }
 ],
 "metadata": {
  "language_info": {
   "name": "python"
  }
 },
 "nbformat": 4,
 "nbformat_minor": 2
}

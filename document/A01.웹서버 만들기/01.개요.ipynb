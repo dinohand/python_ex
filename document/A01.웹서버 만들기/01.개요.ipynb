{
 "cells": [
  {
   "cell_type": "markdown",
   "metadata": {},
   "source": [
    "# frontend vs backend\n",
    "\n",
    "\n",
    "# 일반적인 시스템 구조 설명\n",
    "\n",
    "\n",
    "# backend application의 목표 설정\n"
   ]
  }
 ],
 "metadata": {
  "language_info": {
   "name": "python"
  }
 },
 "nbformat": 4,
 "nbformat_minor": 2
}

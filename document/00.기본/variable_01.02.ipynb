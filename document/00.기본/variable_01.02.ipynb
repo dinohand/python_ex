{
 "cells": [
  {
   "cell_type": "code",
   "execution_count": null,
   "metadata": {},
   "outputs": [
    {
     "name": "stdout",
     "output_type": "stream",
     "text": [
      "3\n",
      "3\n",
      "6\n",
      "3\n",
      "누구\n"
     ]
    }
   ],
   "source": [
    "# 변수의 범위\n",
    "# local vs global\n",
    "\n",
    "# 함수 또는 클래스에서 선언된 것은 함수내에서만 존재\n",
    "def func():\n",
    "    a = 2\n",
    "    return a\n",
    "\n",
    "class myClass():\n",
    "    a = 3\n",
    "    def __init__(self):\n",
    "        # self.a = 4\n",
    "        pass\n",
    "        \n",
    "    def print(self):\n",
    "        return self.a      # 클래스 내부에서 선언된 a를 나타냄. self.변수명 으로 접근할 수 있다\n",
    "\n",
    "    def calc(self):\n",
    "        self.a = self.a  * 2\n",
    "        return self.a      # 클래스 밖의 a를 나타냄\n",
    "\n",
    "    def exprint(self):\n",
    "        return a\n",
    "\n",
    "a = '누구'\n",
    "\n",
    "print(myClass().a)          # 클래스내부에서 선언된 a variable을 나타냄냄\n",
    "print(myClass().print())\n",
    "\n",
    "print(myClass().calc())\n",
    "print(myClass().print())\n",
    "\n",
    "print(myClass().exprint())\n",
    "\n",
    "# print('func() : ', func() )\n",
    "\n",
    "# print('func() : ', func() )\n",
    "# print(a)"
   ]
  }
 ],
 "metadata": {
  "kernelspec": {
   "display_name": "Python 3",
   "language": "python",
   "name": "python3"
  },
  "language_info": {
   "codemirror_mode": {
    "name": "ipython",
    "version": 3
   },
   "file_extension": ".py",
   "mimetype": "text/x-python",
   "name": "python",
   "nbconvert_exporter": "python",
   "pygments_lexer": "ipython3",
   "version": "3.12.3"
  }
 },
 "nbformat": 4,
 "nbformat_minor": 2
}

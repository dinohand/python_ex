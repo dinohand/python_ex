{
 "cells": [
  {
   "cell_type": "code",
   "execution_count": 12,
   "metadata": {},
   "outputs": [
    {
     "name": "stdout",
     "output_type": "stream",
     "text": [
      "1 , 2\n",
      "1 , 2 , 3\n",
      "<class 'int'> , <class 'int'> , <class 'int'>\n",
      "(1, 2, 3) : <class 'tuple'>\n",
      "1\n",
      "2\n",
      "3\n"
     ]
    }
   ],
   "source": [
    "# 다중할당(multiple assignment)\n",
    "\n",
    "\n",
    "a, b = 1, 2\n",
    "\n",
    "print(a,',', b)\n",
    "\n",
    "\n",
    "def myFunc():\n",
    "    return 1,2,3\n",
    "\n",
    "a,b,c = myFunc()    ## 각각 받으면 각각의 형태를 가져온다\n",
    "\n",
    "print(a,',', b, ',',c)\n",
    "print(type(a),',', type(b), ',',type(c))    \n",
    "\n",
    "d = myFunc()  ## 여러개의 리턴값을 하나로 받으면 tuple 형태로 받는다\n",
    "print(d, ':', type(d))\n",
    "\n",
    "\n",
    "for i in range(len(d)):\n",
    "    print(d[i])\n",
    "\n"
   ]
  }
 ],
 "metadata": {
  "kernelspec": {
   "display_name": "Python 3",
   "language": "python",
   "name": "python3"
  },
  "language_info": {
   "codemirror_mode": {
    "name": "ipython",
    "version": 3
   },
   "file_extension": ".py",
   "mimetype": "text/x-python",
   "name": "python",
   "nbconvert_exporter": "python",
   "pygments_lexer": "ipython3",
   "version": "3.12.3"
  }
 },
 "nbformat": 4,
 "nbformat_minor": 2
}

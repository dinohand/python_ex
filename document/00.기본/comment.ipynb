{
 "cells": [
  {
   "cell_type": "code",
   "execution_count": null,
   "id": "d0e487f0",
   "metadata": {},
   "outputs": [
    {
     "name": "stdout",
     "output_type": "stream",
     "text": [
      "Hello, World!\n",
      "0\n",
      "1\n",
      "2\n",
      "3\n",
      "4\n"
     ]
    }
   ],
   "source": [
    "# 한 줄 comment입니다\n",
    "print('Hello, World!')  # 여기부터 주석문입니다.\n",
    "# 여러 줄 주석은 다음과 같이 작성할 수 있습니다.\n",
    "\"\"\"\n",
    "여러 줄 주석입니다.\n",
    "여러 줄 주석은  큰 따옴표 세 개로 시작하고\n",
    "큰 따옴표 세 개로 끝납니다.\n",
    "\"\"\"\n",
    "# 주석은 코드에 대한 설명을 추가하는 데 사용됩니다.\n",
    "# 주석은 코드 실행에 영향을 주지 않습니다. \n",
    "# 주석은 코드의 가독성을 높이고, 다른 사람들이 코드를 이해하는 데 도움을 줍니다.\n",
    "# 주석은 코드의 특정 부분에 대한 설명을 추가할 때 유용합니다.\n",
    "# 주석은 코드 작성자가 코드를 이해하는 데 도움을 줍니다.\n",
    "# 주석은 코드의 의도를 명확히 하는 데 사용됩니다.\n",
    "# 주석은 코드의 유지보수를 용이하게 합니다.\n",
    "# 주석은 코드의 버그를 찾는 데 도움을 줍니다.\n",
    "# 주석은 코드의 변경 사항을 기록하는 데 사용됩니다.\n",
    "# 주석은 코드의 문서화를 돕습니다.\n",
    "# 주석은 코드의 구조를 이해하는 데 도움을 줍니다.\n",
    "\n",
    "for i in range(5):\n",
    "    \"\"\"\n",
    "    modifyed by Hong Gil-dong\n",
    "    modified date: 2023-10-01\n",
    "    \"\"\"  \n",
    "    print(i)  # 반복문에서 i의 값을 출력합니다.\n"
   ]
  },
  {
   "cell_type": "code",
   "execution_count": null,
   "id": "8f9b13f3",
   "metadata": {},
   "outputs": [
    {
     "name": "stdout",
     "output_type": "stream",
     "text": [
      "Hello\n",
      "Hello\n",
      "Hello\n",
      "55\n",
      "55\n",
      "55\n",
      "Help on NoneType object:\n",
      "\n",
      "class NoneType(object)\n",
      " |  Methods defined here:\n",
      " |\n",
      " |  __bool__(self, /)\n",
      " |      True if self else False\n",
      " |\n",
      " |  __eq__(self, value, /)\n",
      " |      Return self==value.\n",
      " |\n",
      " |  __ge__(self, value, /)\n",
      " |      Return self>=value.\n",
      " |\n",
      " |  __gt__(self, value, /)\n",
      " |      Return self>value.\n",
      " |\n",
      " |  __hash__(self, /)\n",
      " |      Return hash(self).\n",
      " |\n",
      " |  __le__(self, value, /)\n",
      " |      Return self<=value.\n",
      " |\n",
      " |  __lt__(self, value, /)\n",
      " |      Return self<value.\n",
      " |\n",
      " |  __ne__(self, value, /)\n",
      " |      Return self!=value.\n",
      " |\n",
      " |  __repr__(self, /)\n",
      " |      Return repr(self).\n",
      " |\n",
      " |  ----------------------------------------------------------------------\n",
      " |  Static methods defined here:\n",
      " |\n",
      " |  __new__(*args, **kwargs)\n",
      " |      Create and return a new object.  See help(type) for accurate signature.\n",
      "\n"
     ]
    }
   ],
   "source": [
    "def my_fucntion(i : int, s :str ) -> None:\n",
    "    \"\"\" docstring for my_function\n",
    "\n",
    "    Args:\n",
    "        i (int): 반복 횟수\n",
    "        s (str): 출력 문자열\n",
    "    \"\"\"        \n",
    "    for j in range(i):\n",
    "        print(s)\n",
    "\n",
    "\n",
    "# my_function 호출출\n",
    "my_fucntion(3, 'Hello')\n",
    "\n"
   ]
  }
 ],
 "metadata": {
  "kernelspec": {
   "display_name": "Python 3",
   "language": "python",
   "name": "python3"
  },
  "language_info": {
   "codemirror_mode": {
    "name": "ipython",
    "version": 3
   },
   "file_extension": ".py",
   "mimetype": "text/x-python",
   "name": "python",
   "nbconvert_exporter": "python",
   "pygments_lexer": "ipython3",
   "version": "3.12.3"
  }
 },
 "nbformat": 4,
 "nbformat_minor": 5
}

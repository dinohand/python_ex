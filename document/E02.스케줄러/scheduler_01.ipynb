{
 "cells": [
  {
   "cell_type": "code",
   "execution_count": null,
   "id": "10bcde56",
   "metadata": {},
   "outputs": [
    {
     "name": "stdout",
     "output_type": "stream",
     "text": [
      "현재 시간: 23:09:45\n",
      "현재 시간: 23:09:47\n",
      "스케줄러 종료\n"
     ]
    }
   ],
   "source": [
    "import schedule\n",
    "import sys\n",
    "import time\n",
    "from datetime import datetime\n",
    "\n",
    "def job():\n",
    "    print(\"현재 시간:\", datetime.now().strftime('%H:%M:%S'))\n",
    "    # raise KeyboardInterrupt\n",
    "\n",
    "\n",
    "# 3초마다 job 함수 실행\n",
    "schedule.every(2).seconds.do(job)\n",
    "\n",
    "\n",
    "#\n",
    "try :  \n",
    "    while True:\n",
    "        schedule.run_pending()\n",
    "        time.sleep(1)\n",
    "except KeyboardInterrupt:\n",
    "    print(\"스케줄러 종료\")\n",
    "    # schedule.clear()\n",
    "        \n"
   ]
  }
 ],
 "metadata": {
  "kernelspec": {
   "display_name": "Python 3",
   "language": "python",
   "name": "python3"
  },
  "language_info": {
   "codemirror_mode": {
    "name": "ipython",
    "version": 3
   },
   "file_extension": ".py",
   "mimetype": "text/x-python",
   "name": "python",
   "nbconvert_exporter": "python",
   "pygments_lexer": "ipython3",
   "version": "3.13.0"
  }
 },
 "nbformat": 4,
 "nbformat_minor": 5
}

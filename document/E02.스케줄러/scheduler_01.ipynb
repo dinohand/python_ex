{
 "cells": [
  {
   "cell_type": "code",
   "execution_count": 1,
   "id": "10bcde56",
   "metadata": {},
   "outputs": [
    {
     "name": "stdout",
     "output_type": "stream",
     "text": [
      "현재 시간: 15:45:55\n",
      "스케줄러 종료\n"
     ]
    }
   ],
   "source": [
    "import schedule\n",
    "import time\n",
    "from datetime import datetime\n",
    "\n",
    "def job():\n",
    "    print(\"현재 시간:\", datetime.now().strftime('%H:%M:%S'))\n",
    "    raise KeyboardInterrupt\n",
    "\n",
    "\n",
    "# 3초마다 job 함수 실행\n",
    "schedule.every(2).seconds.do(job)\n",
    "\n",
    "try:\n",
    "    while True:\n",
    "        schedule.run_pending()\n",
    "except KeyboardInterrupt:\n",
    "    print(\"스케줄러 종료\")"
   ]
  }
 ],
 "metadata": {
  "kernelspec": {
   "display_name": "Python 3",
   "language": "python",
   "name": "python3"
  },
  "language_info": {
   "codemirror_mode": {
    "name": "ipython",
    "version": 3
   },
   "file_extension": ".py",
   "mimetype": "text/x-python",
   "name": "python",
   "nbconvert_exporter": "python",
   "pygments_lexer": "ipython3",
   "version": "3.12.3"
  }
 },
 "nbformat": 4,
 "nbformat_minor": 5
}

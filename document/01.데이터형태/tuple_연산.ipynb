{
 "cells": [
  {
   "cell_type": "code",
   "execution_count": 11,
   "id": "5f296a53",
   "metadata": {},
   "outputs": [
    {
     "name": "stdout",
     "output_type": "stream",
     "text": [
      "Result : (1, 2, 3, 4, 5, 6, 7, 8, 9, 10)\n",
      "Repeated tuple: (1, 2, 3, 1, 2, 3, 1, 2, 3)\n",
      "Is 3 in tuple? True\n",
      "Is 3 not in tuple? False\n",
      "Max: 5, Min: 1, Sum: 15\n",
      "Length of tuple: 5\n",
      "2\n"
     ]
    }
   ],
   "source": [
    "# -\t더하기( + )\n",
    "# -\t반복하기( * )\n",
    "# -\t포함 여부 알아내기( in , not in )\n",
    "# -\t슬라이싱 – 특정 부분만 잘라내기\n",
    "# -\t최대값, 최소값, 합계 (max, min, sum)\n",
    "# -\t길이 구하기( len )\n",
    "# -\t아이템 삭제 ( del )\n",
    "\n",
    "# 튜플 더하기\n",
    "tp_1 = (1, 2, 3, 4, 5)\n",
    "tp_2 = (6, 7, 8, 9, 10)\n",
    "tp_result  = tp_1 + tp_2  # 튜플 더하기\n",
    "\n",
    "print(f\"Result : {tp_result}\") # (1, 2, 3, 4, 5, 6, 7, 8, 9, 10)\n",
    "\n",
    "# # 튜플 반복하기\n",
    "tp = (1, 2, 3)\n",
    "tp_repeated = tp * 3  # 튜플 반복하기\n",
    "print(f\"Repeated tuple: {tp_repeated}\")  # (1, 2, 3, 1, 2, 3, 1, 2, 3)\n",
    "\n",
    "\n",
    "# 포함 여부 알아내기\n",
    "# in 연산자를 사용하여 튜플에 특정 아이템이 포함되어 있는지\n",
    "tp = (1, 2, 3, 4, 5)\n",
    "no = 3\n",
    "is_in_tuple = no in tp  # 포함 여부 확인\n",
    "print(f\"Is {no} in tuple? {is_in_tuple}\")  # True\n",
    "is_not_in_tuple = no not in tp  # 불포함 여부 확인  \n",
    "print(f\"Is {no} not in tuple? {is_not_in_tuple}\")  # False\n",
    "\n",
    "# max, min, sum\n",
    "# max, min, sum 함수를 사용하여 튜플의 최대값, 최소값, 합계를 구할 수 있다.\n",
    "tp = (1, 2, 3, 4, 5)\n",
    "max_value = max(tp)  # 최대값\n",
    "min_value = min(tp)  # 최소값 \n",
    "sum_value = sum(tp)  # 합계\n",
    "print(f\"Max: {max_value}, Min: {min_value}, Sum: {sum_value}\")  # Max: 5, Min: 1, Sum: 15\n",
    "\n",
    "# 길이 구하기(len)\n",
    "# len 함수를 사용하여 튜플의 길이를 구할 수 있다.\n",
    "tp = (1, 2, 3, 4, 5)\n",
    "length = len(tp)  # 길이 구하기\n",
    "print(f\"Length of tuple: {length}\")  # Length of tuple: 5\n",
    "\n",
    "\n",
    "print(tp[1])\n",
    "\n"
   ]
  }
 ],
 "metadata": {
  "kernelspec": {
   "display_name": "Python 3",
   "language": "python",
   "name": "python3"
  },
  "language_info": {
   "codemirror_mode": {
    "name": "ipython",
    "version": 3
   },
   "file_extension": ".py",
   "mimetype": "text/x-python",
   "name": "python",
   "nbconvert_exporter": "python",
   "pygments_lexer": "ipython3",
   "version": "3.12.3"
  }
 },
 "nbformat": 4,
 "nbformat_minor": 5
}

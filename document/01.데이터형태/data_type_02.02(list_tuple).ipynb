{
 "cells": [
  {
   "cell_type": "code",
   "execution_count": null,
   "metadata": {},
   "outputs": [
    {
     "name": "stdout",
     "output_type": "stream",
     "text": [
      "a -> <class 'list'>\n",
      "b -> <class 'list'>\n",
      "a -> <class 'tuple'>\n",
      "b -> <class 'tuple'>\n",
      "=========================\n",
      "<class 'int'>\n",
      "<class 'int'>\n",
      "<class 'tuple'>\n",
      "<class 'set'>\n"
     ]
    }
   ],
   "source": [
    "# 데이터의 형태 확인 (2)\n",
    "# 열거형 : list, tuple\n",
    "\n",
    "# list\n",
    "a = [1,2,3]\n",
    "b = [1]\n",
    "\n",
    "print('a ->', type(a))\n",
    "print('b ->', type(b))\n",
    "\n",
    "# tuple\n",
    "c = (1,2,3)\n",
    "d = (1, )  # vs d = (1) \n",
    "\n",
    "print('a ->', type(c))\n",
    "print('b ->', type(d))\n",
    "\n",
    "print('=========================')\n",
    "print( type((1)))\n",
    "print( type((-1)))\n",
    "print( type((1,)))\n",
    "\n",
    "\n",
    "# 집합형\n",
    "s = {\"하나\",\"둘\",\"셋\"}\n",
    "print( type(s))\n"
   ]
  },
  {
   "cell_type": "code",
   "execution_count": 31,
   "metadata": {},
   "outputs": [
    {
     "name": "stdout",
     "output_type": "stream",
     "text": [
      "<class 'list'>\n"
     ]
    }
   ],
   "source": [
    "# 2차원 list\n",
    "list_2d = [\n",
    "    1,\n",
    "    [1,3,5,7,9],\n",
    "    ['A','B','C']\n",
    "]\n",
    "\n",
    "print(type(list_2d))\n",
    "\n",
    "# for i in list_2d:\n",
    "#     # if type(i) == list:\n",
    "#         # print(f\"'{i}'는 리스트입니다.\")\n",
    "#         for j in i:\n",
    "#             print(j, end=' ')\n",
    "\n",
    "#         print()  # 줄바꿈        \n",
    "    \n",
    "\n",
    "\n",
    "\n",
    "\n",
    "\n",
    "\n",
    "\n",
    "# # n 번째 요소(리스트)\n",
    "\n",
    "# print(list_2d[0])\n",
    "# print(list_2d[0][0])\n"
   ]
  },
  {
   "cell_type": "code",
   "execution_count": 7,
   "metadata": {},
   "outputs": [
    {
     "name": "stdout",
     "output_type": "stream",
     "text": [
      "<class 'list'>\n",
      "------------------\n",
      "1 <class 'int'>\n",
      "2 <class 'str'>\n",
      "3.0 <class 'float'>\n",
      "4 <class 'int'>\n",
      "5j <class 'complex'>\n"
     ]
    }
   ],
   "source": [
    "a = [1, '2', 3.0, 4, 0+5j]\n",
    "\n",
    "print( type(a))  \n",
    "print( '------------------')  \n",
    "\n",
    "for i in a:\n",
    "    print(i, type(i))   "
   ]
  }
 ],
 "metadata": {
  "kernelspec": {
   "display_name": "Python 3",
   "language": "python",
   "name": "python3"
  },
  "language_info": {
   "codemirror_mode": {
    "name": "ipython",
    "version": 3
   },
   "file_extension": ".py",
   "mimetype": "text/x-python",
   "name": "python",
   "nbconvert_exporter": "python",
   "pygments_lexer": "ipython3",
   "version": "3.12.3"
  }
 },
 "nbformat": 4,
 "nbformat_minor": 2
}

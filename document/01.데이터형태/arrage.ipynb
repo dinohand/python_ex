{
 "cells": [
  {
   "cell_type": "code",
   "execution_count": 11,
   "id": "a3c48ee7",
   "metadata": {},
   "outputs": [
    {
     "name": "stdout",
     "output_type": "stream",
     "text": [
      "[ 0.    0.04  0.16  0.36  0.64  1.    1.44  1.96  2.56  3.24  4.    4.84\n",
      "  5.76  6.76  7.84  9.   10.24 11.56 12.96 14.44 16.   17.64 19.36 21.16\n",
      " 23.04] <class 'numpy.ndarray'>\n"
     ]
    }
   ],
   "source": [
    "import numpy as np\n",
    "\n",
    "# evenly sampled time at 200ms intervals\n",
    "t = np.arange(0., 5., 0.2)\n",
    "\n",
    "print(t** 2, type(t))\n"
   ]
  }
 ],
 "metadata": {
  "kernelspec": {
   "display_name": "Python 3",
   "language": "python",
   "name": "python3"
  },
  "language_info": {
   "codemirror_mode": {
    "name": "ipython",
    "version": 3
   },
   "file_extension": ".py",
   "mimetype": "text/x-python",
   "name": "python",
   "nbconvert_exporter": "python",
   "pygments_lexer": "ipython3",
   "version": "3.12.3"
  }
 },
 "nbformat": 4,
 "nbformat_minor": 5
}

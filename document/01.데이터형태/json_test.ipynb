{
 "cells": [
  {
   "cell_type": "code",
   "execution_count": 10,
   "id": "66504e3a",
   "metadata": {},
   "outputs": [
    {
     "name": "stdout",
     "output_type": "stream",
     "text": [
      "<class 'dict'> {'name': 'value', 'content': 'something', 'array_data': [1, 2, 3, 4, 5]}\n",
      "<class 'str'> {\"name\": \"value\", \"content\": \"something\", \"array_data\": [1, 2, 3, 4, 5]}\n"
     ]
    }
   ],
   "source": [
    "json_data ={\n",
    "    \"name\": \"value\", \n",
    "    \"content\": \"something\",\n",
    "    \"array_data\" :    [ 1,2,3,4,5 ]\n",
    "}\n",
    "\n",
    "print(type(json_data), json_data)\n",
    "\n",
    "\n",
    "import json\n",
    "json_string = json.dumps(json_data)\n",
    "print(type(json_string), json_string)"
   ]
  }
 ],
 "metadata": {
  "kernelspec": {
   "display_name": "Python 3",
   "language": "python",
   "name": "python3"
  },
  "language_info": {
   "codemirror_mode": {
    "name": "ipython",
    "version": 3
   },
   "file_extension": ".py",
   "mimetype": "text/x-python",
   "name": "python",
   "nbconvert_exporter": "python",
   "pygments_lexer": "ipython3",
   "version": "3.12.3"
  }
 },
 "nbformat": 4,
 "nbformat_minor": 5
}

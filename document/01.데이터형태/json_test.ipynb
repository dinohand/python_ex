{
 "cells": [
  {
   "cell_type": "code",
   "execution_count": 10,
   "id": "66504e3a",
   "metadata": {},
   "outputs": [
    {
     "name": "stdout",
     "output_type": "stream",
     "text": [
      "<class 'dict'> {'name': 'value', 'content': 'something', 'array_data': [1, 2, 3, 4, 5]}\n",
      "<class 'str'> {\"name\": \"value\", \"content\": \"something\", \"array_data\": [1, 2, 3, 4, 5]}\n"
     ]
    }
   ],
   "source": [
    "json_data ={\n",
    "    \"name\": \"value\", \n",
    "    \"content\": \"something\",\n",
    "    \"array_data\" :    [ 1,2,3,4,5 ]\n",
    "}\n",
    "\n",
    "print(type(json_data), json_data)\n",
    "\n",
    "\n",
    "import json\n",
    "json_string = json.dumps(json_data)\n",
    "print(type(json_string), json_string)"
   ]
  },
  {
   "cell_type": "code",
   "execution_count": 3,
   "id": "864e0789",
   "metadata": {},
   "outputs": [
    {
     "name": "stdout",
     "output_type": "stream",
     "text": [
      "\"{'name': 'value', 'content': 'something', 'array_data': [1, 2, 3, 4, 5]}\"\n"
     ]
    }
   ],
   "source": [
    "import json\n",
    "json_data = json.dumps(\"{'name': 'value', 'content': 'something', 'array_data': [1, 2, 3, 4, 5]}\" )\n",
    "\n",
    "print(json_data)"
   ]
  },
  {
   "cell_type": "code",
   "execution_count": null,
   "id": "1d294446",
   "metadata": {},
   "outputs": [
    {
     "name": "stdout",
     "output_type": "stream",
     "text": [
      "{\"name\" : \"홍길동\", \"age\": 30} <class 'str'>\n",
      "<class 'dict'>\n"
     ]
    }
   ],
   "source": [
    "import json\n",
    "\n",
    "\n",
    "# json text\n",
    "json_str = '{\"name\" : \"홍길동\", \"age\": 30}'\n",
    "print(json_str, type(json_str))\n",
    "\n",
    "\n",
    "# parse x:\n",
    "y = json.loads()\n",
    "\n",
    "# the result is a Python dictionary:\n",
    "print(type(y))"
   ]
  }
 ],
 "metadata": {
  "kernelspec": {
   "display_name": "Python 3",
   "language": "python",
   "name": "python3"
  },
  "language_info": {
   "codemirror_mode": {
    "name": "ipython",
    "version": 3
   },
   "file_extension": ".py",
   "mimetype": "text/x-python",
   "name": "python",
   "nbconvert_exporter": "python",
   "pygments_lexer": "ipython3",
   "version": "3.12.3"
  }
 },
 "nbformat": 4,
 "nbformat_minor": 5
}

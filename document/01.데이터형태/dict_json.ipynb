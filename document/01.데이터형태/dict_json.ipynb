{
 "cells": [
  {
   "cell_type": "code",
   "execution_count": null,
   "metadata": {},
   "outputs": [
    {
     "name": "stdout",
     "output_type": "stream",
     "text": [
      "김연아 피겨선수\n",
      "{'송혜교': '여자', '김연아': '피겨선수', 'BTS': '보이그룹'}\n",
      "송혜교 여자\n",
      "{'송혜교': '여배우', '김연아': '피겨선수', 'BTS': '보이그룹'}\n",
      "1 : {'apple': '사과'}\n",
      "2 : {'banana': '바나나나'}\n",
      "dict : {'soccer': '축구', 'cycle': '자전거', 'swim': '수영'}\n",
      "list : ['a', 'b', 'c']\n"
     ]
    }
   ],
   "source": [
    "# 참조 https://blog.mikihands.com/ko/whitedec/2024/12/15/json-vs-python-dictionary/\n",
    "\n",
    "\n",
    "'''\n",
    "2.1 사용 목적의 차이\n",
    "JSON: 데이터를 교환하기 위한 언어 독립적인 표준 포맷입니다. Python 외에도 JavaScript, Java, C++ 등 다양한 언어에서 데이터를 주고받는 데 사용됩니다.\n",
    "Python Dictionary: Python 내부에서 데이터를 저장하고 조작하기 위한 Python 전용 데이터 구조입니다.\n",
    "2.2 문법적인 차이\n",
    "JSON은 Python Dictionary와 다음과 같은 문법 차이가 있습니다:\n",
    "\n",
    "특징\tJSON\tPython Dictionary\n",
    "문자열 표기\t문자열은 반드시 \"로 표기\t문자열은 ' 또는 \" 모두 사용 가능\n",
    "키의 타입\t키는 반드시 문자열이어야 함\t키는 문자열, 숫자 등 다양한 타입 가능\n",
    "값의 타입\t제한적 (문자열, 숫자, 배열 등)\t제한 없음 (함수, 객체 등 포함 가능)\n",
    "Boolean 값\ttrue, false\tTrue, False\n",
    "null 값\tnull\tNone\n",
    "주석\t주석 지원하지 않음\t주석 사용 가능\n",
    "예시로 보는 차이점\n",
    "'''\n"
   ]
  }
 ],
 "metadata": {
  "kernelspec": {
   "display_name": "Python 3",
   "language": "python",
   "name": "python3"
  },
  "language_info": {
   "codemirror_mode": {
    "name": "ipython",
    "version": 3
   },
   "file_extension": ".py",
   "mimetype": "text/x-python",
   "name": "python",
   "nbconvert_exporter": "python",
   "pygments_lexer": "ipython3",
   "version": "3.12.3"
  }
 },
 "nbformat": 4,
 "nbformat_minor": 2
}

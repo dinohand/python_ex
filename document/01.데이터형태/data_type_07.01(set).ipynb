{
 "cells": [
  {
   "cell_type": "markdown",
   "id": "eeecd201",
   "metadata": {},
   "source": [
    "Set(집합형)은 여러 항목을 저장하는 데이터 형태이다.\n",
    "\n",
    "특징은\n",
    "    - 중복된 값을 가지지 않는다. 값을 중복해서 정의해도 중복 제거하여 유니크한 값만 남는다\n",
    "    - 순서가 없다.\n",
    "    - 집합을 이루는 각 요소의 데이터 형태가 다를 수 있다\n",
    "      단, unhashable type(list, dict, set 등등등)은 안됨. mutable 객체는 hash값을 가져올 수 없어서, 내부적으로 hashtable을 사용하는 set의 요소가 될 수 없다."
   ]
  },
  {
   "cell_type": "code",
   "execution_count": 32,
   "id": "00402022",
   "metadata": {},
   "outputs": [
    {
     "name": "stdout",
     "output_type": "stream",
     "text": [
      "Hash of '('H', 'e', 'l', 'l', 'o', ',', ' ', 'W', 'o', 'r', 'l', 'd', '!')' is 6885917731998463805\n"
     ]
    }
   ],
   "source": [
    "# a = \"Hello, World!\"\n",
    "# ah = hash(a)\n",
    "# print(f\"Hash of '{a}' is {ah}\")\n",
    "\n",
    "\n",
    "a = tuple(\"Hello, World!\")\n",
    "ah = hash(a)\n",
    "print(f\"Hash of '{a}' is {ah}\")\n",
    "\n"
   ]
  },
  {
   "cell_type": "code",
   "execution_count": 28,
   "id": "8ec744d9",
   "metadata": {},
   "outputs": [
    {
     "ename": "TypeError",
     "evalue": "unhashable type: 'set'",
     "output_type": "error",
     "traceback": [
      "\u001b[1;31m---------------------------------------------------------------------------\u001b[0m",
      "\u001b[1;31mTypeError\u001b[0m                                 Traceback (most recent call last)",
      "Cell \u001b[1;32mIn[28], line 19\u001b[0m\n\u001b[0;32m     16\u001b[0m setD \u001b[38;5;241m=\u001b[39m \u001b[38;5;28mset\u001b[39m(\u001b[38;5;124m\"\u001b[39m\u001b[38;5;124mHello\u001b[39m\u001b[38;5;124m\"\u001b[39m)\n\u001b[0;32m     18\u001b[0m a \u001b[38;5;241m=\u001b[39m {\u001b[38;5;241m1\u001b[39m,\u001b[38;5;241m2\u001b[39m,\u001b[38;5;241m3\u001b[39m,\u001b[38;5;241m4\u001b[39m,\u001b[38;5;241m5\u001b[39m}\n\u001b[1;32m---> 19\u001b[0m setX \u001b[38;5;241m=\u001b[39m { \u001b[38;5;241m1\u001b[39m, \u001b[38;5;241m2\u001b[39m, \u001b[38;5;241m3\u001b[39m, \u001b[38;5;241m4\u001b[39m, \u001b[38;5;241m5\u001b[39m, \u001b[38;5;124m\"\u001b[39m\u001b[38;5;124m안녕\u001b[39m\u001b[38;5;124m\"\u001b[39m, \u001b[38;5;241m1.1\u001b[39m , \u001b[38;5;28;01mTrue\u001b[39;00m, (\u001b[38;5;241m1\u001b[39m, \u001b[38;5;241m2\u001b[39m),a }\n\u001b[0;32m     20\u001b[0m \u001b[38;5;28;01mfor\u001b[39;00m i \u001b[38;5;129;01min\u001b[39;00m setX:\n\u001b[0;32m     21\u001b[0m     \u001b[38;5;28mprint\u001b[39m(i, \u001b[38;5;28mtype\u001b[39m(i)) \n",
      "\u001b[1;31mTypeError\u001b[0m: unhashable type: 'set'"
     ]
    }
   ],
   "source": [
    "# 선언 방법 1\n",
    "# { 값,,,,} 과 같이 대괄호({ })로 묶어서 선언\n",
    "setA = {1, 2, 3, 4, 5}\n",
    "\n",
    "# 선언 방법 2\n",
    "# set() 함수를 사용하여 선언\n",
    "# parameter로 iterable 객체를 전달\n",
    "setB = set([1, 2, 3, 4, 5])\n",
    "\n",
    "# 선언 방법 3\n",
    "# set() 함수에 iterable 객체를 전달하여 선언\n",
    "setC = set(range(1, 6))\n",
    "\n",
    "# 선언 방법 4\n",
    "# set() 함수에 문자열을 전달하여 선언\n",
    "setD = set(\"Hello\")\n",
    "\n",
    "a = {1,2,3,4,5}\n",
    "setX = { 1, 2, 3, 4, 5, \"안녕\", 1.1 , True, (1, 2),a }\n",
    "for i in setX:\n",
    "    print(i, type(i)) \n",
    "    "
   ]
  },
  {
   "cell_type": "code",
   "execution_count": null,
   "id": "08a2cb39",
   "metadata": {},
   "outputs": [],
   "source": [
    "# 선언 방법 5\n",
    "# set() 함수에 튜플을 전달하여 선언\n",
    "setE = set((1, 2, 3, 4, 5))\n",
    "# 선언 방법 6\n",
    "# set() 함수에 딕셔너리를 전달하여 선언\n",
    "setF = set({'a': 1, 'b': 2, 'c': 3})\n",
    "# 선언 방법 7\n",
    "# set() 함수에 집합을 전달하여 선언\n",
    "setG = set(setA)\n",
    "# 선언 방법 8"
   ]
  },
  {
   "cell_type": "code",
   "execution_count": 13,
   "id": "f5f210e9",
   "metadata": {},
   "outputs": [
    {
     "data": {
      "text/plain": [
       "{1, 2, 3, 4, 5, 10}"
      ]
     },
     "execution_count": 13,
     "metadata": {},
     "output_type": "execute_result"
    }
   ],
   "source": [
    "setA = {1, 2, 3, 10,  4, 4,4, 5}\n",
    "\n",
    "setA\n"
   ]
  },
  {
   "cell_type": "code",
   "execution_count": null,
   "id": "baff72ec",
   "metadata": {},
   "outputs": [
    {
     "name": "stdout",
     "output_type": "stream",
     "text": [
      "<class 'list'> [1, 2, 3, 4, 4, 4]\n",
      "<class 'set'> {1, 2, 3, 4}\n",
      "6 4\n"
     ]
    }
   ],
   "source": [
    "a = [1,2, 3,4,4,4]\n",
    "\n",
    "print(type(a), a)  ## list는 중복된 값을 가질 수 있다\n",
    "\n",
    "\n",
    "b = {1,2, 3,4,4,4}\n",
    "print(type(b), b)  ## set은 중복된 값을 허용하지 않는다\n",
    "\n",
    "\n",
    "print(len(a), len(b))  ## 길이 비교\n"
   ]
  }
 ],
 "metadata": {
  "kernelspec": {
   "display_name": "Python 3",
   "language": "python",
   "name": "python3"
  },
  "language_info": {
   "codemirror_mode": {
    "name": "ipython",
    "version": 3
   },
   "file_extension": ".py",
   "mimetype": "text/x-python",
   "name": "python",
   "nbconvert_exporter": "python",
   "pygments_lexer": "ipython3",
   "version": "3.12.3"
  }
 },
 "nbformat": 4,
 "nbformat_minor": 5
}

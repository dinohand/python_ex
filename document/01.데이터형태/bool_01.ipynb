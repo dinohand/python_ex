{
 "cells": [
  {
   "cell_type": "code",
   "execution_count": 2,
   "metadata": {},
   "outputs": [
    {
     "name": "stdout",
     "output_type": "stream",
     "text": [
      "1\n",
      "0\n",
      "True\n",
      "False\n"
     ]
    }
   ],
   "source": [
    "# 데이터의 형태 확인 (3)\n",
    "# boolena : bool (True / False)\n",
    "\n",
    "a = True\n",
    "b = False\n",
    "\n",
    "# print(type(a))\n",
    "# print(type(b))\n",
    "\n",
    "\n",
    "print(a*a)\n",
    "print(a*b)\n",
    "\n",
    "\n",
    "\n",
    "s = {\"하나\",\"둘\",\"셋\"}\n",
    "print(\"하나\" in s)\n",
    "print(\"하나둘\" in s)\n",
    "\n",
    "\n"
   ]
  }
 ],
 "metadata": {
  "kernelspec": {
   "display_name": "Python 3",
   "language": "python",
   "name": "python3"
  },
  "language_info": {
   "codemirror_mode": {
    "name": "ipython",
    "version": 3
   },
   "file_extension": ".py",
   "mimetype": "text/x-python",
   "name": "python",
   "nbconvert_exporter": "python",
   "pygments_lexer": "ipython3",
   "version": "3.12.3"
  }
 },
 "nbformat": 4,
 "nbformat_minor": 2
}

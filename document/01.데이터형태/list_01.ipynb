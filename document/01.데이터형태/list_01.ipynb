{
 "cells": [
  {
   "cell_type": "code",
   "execution_count": null,
   "id": "99fa33bd",
   "metadata": {},
   "outputs": [],
   "source": [
    "# 리스트 선언\n",
    "\n",
    "ls = [1, 2, 3]\n",
    "# or\n",
    "ls2 = list([1, 2, 3])\n"
   ]
  },
  {
   "cell_type": "code",
   "execution_count": null,
   "id": "f2433e8a",
   "metadata": {},
   "outputs": [
    {
     "name": "stdout",
     "output_type": "stream",
     "text": [
      "[0, 1, 2, -1, -2]\n",
      "[-2, -1, 0, 1, 2]\n",
      "Error: '<' not supported between instances of 'int' and 'str'\n"
     ]
    }
   ],
   "source": [
    "# my_list = [3, 1, 4, 1, 5]\n",
    "# my_list.append(9)          # [3, 1, 4, 1, 5, 9]\n",
    "# my_list.remove(1)          # [3, 4, 1, 5, 9]\n",
    "# my_list.sort()             # [1, 3, 4, 5, 9]\n",
    "# my_list.reverse()          # [9, 5, 4, 3, 1]\n",
    "\n",
    "\n",
    "# print(my_list)\n",
    "\n",
    "# list.append() 메서드를 사용하여 리스트에 아이템을 추가한다.\n",
    "# list.append(object) -> None\n",
    "\n",
    "\n",
    "ls = []       # [] - empty list\n",
    "\n",
    "# append() 메서드를 사용하여 리스트에 아이템을 추가한다.\n",
    "# 0, 1, 2을 추가한다\n",
    "for i in range(3):\n",
    "    ls.append(i)  # [0], [0, 1], [0, 1, 2]\n",
    "\n",
    "ls.append(-1) \n",
    "ls.append(-2)\n",
    "\n",
    "print(ls)  # -> [0, 1, 2, -1, -2]"
   ]
  },
  {
   "cell_type": "code",
   "execution_count": null,
   "id": "6f684c2a",
   "metadata": {},
   "outputs": [
    {
     "name": "stdout",
     "output_type": "stream",
     "text": [
      "[-2, -1, 0, 1, 3]\n",
      "Error: '<' not supported between instances of 'str' and 'int'\n"
     ]
    },
    {
     "ename": "",
     "evalue": "",
     "output_type": "error",
     "traceback": [
      "\u001b[1;31mThe Kernel crashed while executing code in the current cell or a previous cell. \n",
      "\u001b[1;31mPlease review the code in the cell(s) to identify a possible cause of the failure. \n",
      "\u001b[1;31mClick <a href='https://aka.ms/vscodeJupyterKernelCrash'>here</a> for more info. \n",
      "\u001b[1;31mView Jupyter <a href='command:jupyter.viewOutput'>log</a> for further details."
     ]
    }
   ],
   "source": [
    "# list.sort() 메서드를 사용하여 리스트의 아이템을 정렬한다.\n",
    "ls = [ 0, 1, 3, -2, -1]\n",
    "ls.sort() # -> 리스트의 아이템을 순서대로 정렬한다\n",
    "print(ls)\n",
    "\n",
    "try:\n",
    "    ls.append('A')  # str타입을 추가\n",
    "    ls.sort()\n",
    "except TypeError as e:\n",
    "    print(f\"Error: {e}\")   \n"
   ]
  },
  {
   "cell_type": "code",
   "execution_count": 4,
   "id": "71be11b7",
   "metadata": {},
   "outputs": [
    {
     "name": "stdout",
     "output_type": "stream",
     "text": [
      "[1, 2, 3, 4, 5, 6]\n"
     ]
    }
   ],
   "source": [
    "# list.extend() # 리스트에 다른 리스트의 아이템을 추가한다.\n",
    "# list.extend(iterable) -> None\n",
    "ls_1 = [1, 2, 3]\n",
    "ls_2 = [4, 5, 6]\n",
    "\n",
    "# ls_1.extend(ls_2) \n",
    "# print(ls_1)\n",
    "\n",
    "\n",
    "ls_1 = ls_1 + ls_2\n",
    "print(ls_1)  # -> [1, 2, 3, 4, 5, 6]"
   ]
  },
  {
   "cell_type": "code",
   "execution_count": 7,
   "id": "215a349f",
   "metadata": {},
   "outputs": [
    {
     "name": "stdout",
     "output_type": "stream",
     "text": [
      "Popped item: 1\n",
      "List after pop: [2, 3, 4, 5]\n"
     ]
    }
   ],
   "source": [
    "# list.pop() # 리스트의 마지막 아이템을 제거하고 반환한다.\n",
    "# list.pop([index]) -> item\n",
    "ls = [1, 2, 3, 4, 5]\n",
    "popped_item = ls.pop(0)  # index번째 아이템을 제거하고 반환한다.\n",
    "\n",
    "print(f'Popped item: {popped_item}')\n",
    "print(f'List after pop: {ls}')\n"
   ]
  },
  {
   "cell_type": "code",
   "execution_count": 14,
   "id": "8db3304f",
   "metadata": {},
   "outputs": [
    {
     "name": "stdout",
     "output_type": "stream",
     "text": [
      "List after removing 3: [1, 2, 5, 4]\n"
     ]
    }
   ],
   "source": [
    "# list.remvove()# 특정 아이템을 제거한다.\n",
    "ls = [1, 3, 2, 5, 4]\n",
    "ls.remove(3)  # 특정 아이템을 제거한다.\n",
    "print(f\"List after removing 3: {ls}\")\n"
   ]
  },
  {
   "cell_type": "code",
   "execution_count": null,
   "id": "e7a48091",
   "metadata": {},
   "outputs": [
    {
     "name": "stdout",
     "output_type": "stream",
     "text": [
      "Reversed list: [0, 3, 2, 1]\n"
     ]
    }
   ],
   "source": [
    "# list.reverse() 리스트의 아이템 순서를 반대로 뒤집는다.\n",
    "ls = [1, 2, 3, 0]\n",
    "ls.reverse() \n",
    "print(f\"Reversed list: {ls}\")"
   ]
  },
  {
   "cell_type": "code",
   "execution_count": null,
   "id": "fca25791",
   "metadata": {},
   "outputs": [
    {
     "name": "stdout",
     "output_type": "stream",
     "text": [
      "[1, 2, 3, 4, 5]\n",
      "[2, 3, 4, 5]\n",
      "[1]\n",
      "[1]\n",
      "[1, 5]\n",
      "[1, 4]\n",
      "[1, 3, 5]\n",
      "[1, 2, 3, 4, 5]\n"
     ]
    }
   ],
   "source": [
    "# list 연산\n",
    "\n",
    "ls = [1,2,3,4,5]\n",
    "\n",
    "print( ls[:])   # => 리스트 아이템 전체를 출력한다\n",
    "print( ls[1:])  # => ls[1: len(ls)]과 같음\n",
    "\n",
    "\n",
    "print(ls[0::5])\n",
    "\n",
    "for i in range(5, 0, -1):\n",
    "    print(ls[0::i])\n",
    "    \n",
    "    \n",
    "\n",
    "# list 연산\n",
    "\n",
    "l1 = [1, 2, 3]\n",
    "l2 = [4, 5, 6] \n",
    "l3 = l1 + l2  # 리스트를 합친다.\n",
    "print(f\"Combined list: {l3}\")  # [1, 2, 3, 4, 5, 6]\n",
    "\n",
    "l4 = l1 * 2  # 리스트를 두 번 반복한다.\n",
    "print(f\"Repeated list: {l4}\")  # [1, 2,\n",
    "\n",
    "l5 = l1 * l2\n",
    "\n",
    "\n",
    "\n",
    "\n",
    "# -\t더하기( + )\n",
    "# -\t반복하기( * )\n",
    "# -\t포함 여부 알아내기( in , not in )\n",
    "# -\t슬라이싱 – 특정 부분만 잘라내기\n",
    "# -\t최대값, 최소값, 합계 (max, min, sum)\n",
    "# -\t길이 구하기( len )\n",
    "# -\t아이템 삭제 ( del )\n"
   ]
  },
  {
   "cell_type": "code",
   "execution_count": 3,
   "id": "a44ae417",
   "metadata": {},
   "outputs": [
    {
     "name": "stdout",
     "output_type": "stream",
     "text": [
      "3\n"
     ]
    }
   ],
   "source": [
    "# 2 차원 리스트\n",
    "list_2d = [\n",
    "    [1,3,5,7,9],\n",
    "    [0,2,4,6,8]\n",
    "]\n",
    "\n",
    "print(list_2d[0][1] )\n"
   ]
  },
  {
   "cell_type": "code",
   "execution_count": null,
   "id": "0f993666",
   "metadata": {},
   "outputs": [
    {
     "name": "stdout",
     "output_type": "stream",
     "text": [
      "List after clear: []\n",
      "Original list: [1, 2, 3, 4, 5]\n",
      "Copied list: [1, 2, 3, 4, 5]\n",
      "Count of 1 in list: 3\n",
      "Index of 3 in list: 2\n"
     ]
    }
   ],
   "source": [
    "# clear()\n",
    "# copy()\n",
    "# count()\n",
    "# index()\n",
    "\n",
    "ls = [1, 2, 3, 4, 5]\n",
    "\n",
    "# clear() 메서드를 사용하여 리스트의 모든 아이템을 제거한다.\n",
    "ls.clear()  # -> 리스트의 모든 아이템을 제거한다\n",
    "print(f\"List after clear: {ls}\")  # [] \n",
    "\n",
    "# copy() 메서드를 사용하여 리스트의 얕은 복사본을 만든다.\n",
    "ls = [1, 2, 3, 4, 5]\n",
    "ls_copy = ls.copy()  # -> 리스트의 얕은 복사본을 만든다\n",
    "print(f\"Original list: {ls}\")  # [1, 2, 3, 4, 5]\n",
    "print(f\"Copied list: {ls_copy}\")  # [1, 2, 3, 4, 5]\n",
    "\n",
    "# count() 메서드를 사용하여 리스트에서 특정 아이템의 개수를 센다.\n",
    "ls = [1, 2, 3, 1, 2, 1]\n",
    "ls_cnt = ls.count(1)  # -> 리스트에서 1의 개수를 센다\n",
    "print(f\"Count of 1 in list: {ls_cnt}\")  # 3   \n",
    "\n",
    "# index() 메서드를 사용하여 리스트에서 특정 아이템의 인덱스를 찾는다.\n",
    "ls = [1, 2, 3, 4, 5, 4, 3, 2, 1]\n",
    "ls_idx = ls.index(3)  # -> 리스트에서 3의 인덱스를 찾는다\n",
    "print(f\"Index of 3 in list: {ls_idx}\")  # -> 2 , 첫 번째로 발견된 인덱스만 반환된다\n",
    "\n"
   ]
  }
 ],
 "metadata": {
  "kernelspec": {
   "display_name": "Python 3",
   "language": "python",
   "name": "python3"
  },
  "language_info": {
   "codemirror_mode": {
    "name": "ipython",
    "version": 3
   },
   "file_extension": ".py",
   "mimetype": "text/x-python",
   "name": "python",
   "nbconvert_exporter": "python",
   "pygments_lexer": "ipython3",
   "version": "3.12.3"
  }
 },
 "nbformat": 4,
 "nbformat_minor": 5
}

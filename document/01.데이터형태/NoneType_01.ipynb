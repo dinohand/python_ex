{
 "cells": [
  {
   "cell_type": "code",
   "execution_count": 10,
   "id": "fa9c794a",
   "metadata": {},
   "outputs": [
    {
     "name": "stdout",
     "output_type": "stream",
     "text": [
      "10\n",
      "11\n",
      "12\n",
      "13\n",
      "14\n",
      "None은 계산할 수 없습니다\n",
      "15\n"
     ]
    }
   ],
   "source": [
    "Something = [0, 1,2,3,4,None,5]\n",
    "\n",
    "for item in Something:\n",
    "    if item is not None:\n",
    "        print(item + 10)\n",
    "    else:\n",
    "        print('None은 계산할 수 없습니다')"
   ]
  },
  {
   "cell_type": "code",
   "execution_count": 17,
   "id": "d0a12ad3",
   "metadata": {},
   "outputs": [
    {
     "name": "stdout",
     "output_type": "stream",
     "text": [
      "None\n"
     ]
    }
   ],
   "source": [
    "what= None\n",
    "\n",
    "if what:\n",
    "    print(\"Not None\")\n",
    "else:\n",
    "    print(\"None\")\n"
   ]
  }
 ],
 "metadata": {
  "kernelspec": {
   "display_name": "Python 3",
   "language": "python",
   "name": "python3"
  },
  "language_info": {
   "codemirror_mode": {
    "name": "ipython",
    "version": 3
   },
   "file_extension": ".py",
   "mimetype": "text/x-python",
   "name": "python",
   "nbconvert_exporter": "python",
   "pygments_lexer": "ipython3",
   "version": "3.12.3"
  }
 },
 "nbformat": 4,
 "nbformat_minor": 5
}

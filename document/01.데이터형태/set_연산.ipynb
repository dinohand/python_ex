{
 "cells": [
  {
   "cell_type": "code",
   "execution_count": null,
   "id": "748182ec",
   "metadata": {},
   "outputs": [
    {
     "name": "stdout",
     "output_type": "stream",
     "text": [
      "{1, 2, 3, 4, 7}\n"
     ]
    }
   ],
   "source": [
    "# set.add() : 집합형 데이터에 element를 추가한다\n",
    "\n",
    "st = { 1,2,3,4 }\n",
    "\n",
    "st.add(4)   # 기존에 4가 있으므로 추가하여도 중복하여 존재할 수 없다\n",
    "st.add(7)\n",
    "\n",
    "\n",
    "print(st)\n"
   ]
  },
  {
   "cell_type": "code",
   "execution_count": null,
   "id": "5b809bc2",
   "metadata": {},
   "outputs": [
    {
     "name": "stdout",
     "output_type": "stream",
     "text": [
      "set()\n"
     ]
    }
   ],
   "source": [
    "# set.clear() : 모든 elements를 제거한다\n",
    "\n",
    "st = { 1,2,3,4 }\n",
    "\n",
    "st.clear()\n",
    "\n",
    "print(st)\n"
   ]
  },
  {
   "cell_type": "code",
   "execution_count": null,
   "id": "d217c836",
   "metadata": {},
   "outputs": [
    {
     "name": "stdout",
     "output_type": "stream",
     "text": [
      "{1, 2, 3}\n"
     ]
    }
   ],
   "source": [
    "# set.copy() : 집합형 데이터를 복사한다.\n",
    "\n",
    "st = { 1,2,3 }\n",
    "st_copied = st.copy()   # 값을 복제하여 반환한다. reference를 반환하는 것이 아님\n",
    "\n",
    "st.add(4)\n",
    "\n",
    "print(st_copied)\n"
   ]
  },
  {
   "cell_type": "code",
   "execution_count": null,
   "id": "4e55c48b",
   "metadata": {},
   "outputs": [
    {
     "name": "stdout",
     "output_type": "stream",
     "text": [
      "{1, 2, 3}\n"
     ]
    }
   ],
   "source": [
    "# set.discard() -> None : 특정 요소가 존재한다면 제거한다\n",
    "\n",
    "st = { 1,2,3 }\n",
    "\n",
    "st.discard(4)    # 4가 존재하기에 집합에서 제거한다\n",
    "st.discard(5)    # 5가 존재하지 않기에 아무 일도 일어나지 않는다.\n",
    "\n",
    "print(st)\n"
   ]
  },
  {
   "cell_type": "code",
   "execution_count": 16,
   "id": "ca910336",
   "metadata": {},
   "outputs": [
    {
     "name": "stdout",
     "output_type": "stream",
     "text": [
      "st_01와 st_02은 공통요소가 없나요 ->  False\n",
      "st_01와 st_03은 공통요소가 없나요 ->  True\n"
     ]
    }
   ],
   "source": [
    "# set.isdisjoint() : 두 set이 공통된 요소가 없으면(disjoint) True를 반환한다.\n",
    "\n",
    "st_01 = { 1,2,3}\n",
    "st_02 = { 2,3,4,5}\n",
    "st_03 = { 4,5,6,7}\n",
    "\n",
    "\n",
    "print('st_01와 st_02은 공통요소가 없나요 -> ', st_01.isdisjoint(st_02))   # st_01 과 st_02는 2,3이 공통된 요소가 존재하므로 False를 반환한다.\n",
    "print('st_01와 st_03은 공통요소가 없나요 -> ', st_01.isdisjoint(st_03))   # st_01 과 st_03은 서로 공통된 요소가 없으므로(disjoint) True를 반환한다.\n",
    "\n",
    "\n"
   ]
  },
  {
   "cell_type": "code",
   "execution_count": null,
   "id": "a89f3bc1",
   "metadata": {},
   "outputs": [],
   "source": [
    "# set.issubset()"
   ]
  }
 ],
 "metadata": {
  "kernelspec": {
   "display_name": "Python 3",
   "language": "python",
   "name": "python3"
  },
  "language_info": {
   "codemirror_mode": {
    "name": "ipython",
    "version": 3
   },
   "file_extension": ".py",
   "mimetype": "text/x-python",
   "name": "python",
   "nbconvert_exporter": "python",
   "pygments_lexer": "ipython3",
   "version": "3.12.3"
  }
 },
 "nbformat": 4,
 "nbformat_minor": 5
}

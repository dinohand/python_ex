{
 "cells": [
  {
   "cell_type": "code",
   "execution_count": 16,
   "id": "a7e2383b",
   "metadata": {},
   "outputs": [
    {
     "name": "stdout",
     "output_type": "stream",
     "text": [
      "합집합 :  frozenset({3, 4})\n",
      "교집합 :  frozenset({1, 2, 3, 4, 5, 6})\n",
      "차집힙 :  frozenset({1, 2})\n"
     ]
    }
   ],
   "source": [
    "A = frozenset( { 1, 2, 3, 4} )\n",
    "B=  set( { 3, 4, 5, 6} )\n",
    "\n",
    "print ( '합집합 : ', A & B )\n",
    "print ( '교집합 : ', A | B )\n",
    "print ( '차집힙 : ', A - B ) "
   ]
  }
 ],
 "metadata": {
  "kernelspec": {
   "display_name": "Python 3",
   "language": "python",
   "name": "python3"
  },
  "language_info": {
   "codemirror_mode": {
    "name": "ipython",
    "version": 3
   },
   "file_extension": ".py",
   "mimetype": "text/x-python",
   "name": "python",
   "nbconvert_exporter": "python",
   "pygments_lexer": "ipython3",
   "version": "3.12.3"
  }
 },
 "nbformat": 4,
 "nbformat_minor": 5
}

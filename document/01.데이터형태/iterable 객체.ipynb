{
 "cells": [
  {
   "cell_type": "markdown",
   "id": "09bef056",
   "metadata": {},
   "source": [
    "Python에서 iterable 객체는 반복 가능하는 의미로 반복문에서 loop가 돌면서 저장된 값을 하나씩 차례로 리턴해 줄 수 있는 객체를 말한다.\n",
    "\n",
    "\n",
    "iterable 객체에는 \n",
    "list, dict, set 등과 같이 저장될 값을 변경할 수 있는(mutable) 객체와\n",
    "str, tuple 와 같은 값을 변경할 수 없는(immutable) 객체가 있다.\n",
    "\n",
    "range() 함수에 의해 리턴되는 range 객체도 immutable iterable 객체이다 \n"
   ]
  },
  {
   "cell_type": "code",
   "execution_count": null,
   "id": "5c322e97",
   "metadata": {},
   "outputs": [],
   "source": []
  },
  {
   "cell_type": "code",
   "execution_count": null,
   "id": "1eee287a",
   "metadata": {},
   "outputs": [],
   "source": [
    "# str도 iterable이다.\n",
    "# 따라서 for문을 통해 각 문자에 접근할 수 있다.\n",
    "a = \"Hello\"\n",
    "\n",
    "for i in a:\n",
    "    print(i)"
   ]
  },
  {
   "cell_type": "code",
   "execution_count": null,
   "id": "803859a1",
   "metadata": {},
   "outputs": [],
   "source": [
    "r = range(5)\n",
    "# range도 iterable이다.\n",
    "for i in r:\n",
    "    print(i)\n",
    "\n",
    "print(hash(r))  # range 객체의 해시값을 출력\n"
   ]
  },
  {
   "cell_type": "code",
   "execution_count": null,
   "id": "e9a84afc",
   "metadata": {},
   "outputs": [],
   "source": []
  }
 ],
 "metadata": {
  "kernelspec": {
   "display_name": "Python 3",
   "language": "python",
   "name": "python3"
  },
  "language_info": {
   "codemirror_mode": {
    "name": "ipython",
    "version": 3
   },
   "file_extension": ".py",
   "mimetype": "text/x-python",
   "name": "python",
   "nbconvert_exporter": "python",
   "pygments_lexer": "ipython3",
   "version": "3.12.3"
  }
 },
 "nbformat": 4,
 "nbformat_minor": 5
}

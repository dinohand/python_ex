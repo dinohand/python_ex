{
 "cells": [
  {
   "cell_type": "code",
   "execution_count": 7,
   "metadata": {},
   "outputs": [
    {
     "name": "stdout",
     "output_type": "stream",
     "text": [
      "A is False\n"
     ]
    }
   ],
   "source": [
    "# True 로 간주/인정되는 것들\n",
    "\n",
    "# A = 0+ 0j\n",
    "A = \"\"\n",
    "\n",
    "if A :\n",
    "    print(\"A is True\")\n",
    "else:\n",
    "    print(\"A is False\")\n",
    "    "
   ]
  },
  {
   "cell_type": "code",
   "execution_count": 16,
   "metadata": {},
   "outputs": [
    {
     "name": "stdout",
     "output_type": "stream",
     "text": [
      "True is True\n",
      "1 is True\n",
      "a is True\n",
      "A is True\n",
      "0j is False\n",
      "[1, 2] is True\n",
      "(1, 2) is True\n",
      "{1, 2} is True\n",
      "{1: 'a'} is True\n",
      "{1, 2, 3} is True\n",
      "False is False\n",
      "0 is False\n",
      "0.0 is False\n",
      "0j is False\n",
      " is False\n",
      "[] is False\n",
      "() is False\n",
      "set() is False\n",
      "frozenset() is False\n",
      "{} is False\n",
      "None is False\n"
     ]
    }
   ],
   "source": [
    "# True 로 간주/인정되는 것들\n",
    "True_list = [True, 1, \"a\", \"A\", 0-0.0j, [1, 2], (1, 2), {1, 2}, {1: \"a\"}, {1, 2, 3}]\n",
    "\n",
    "for i in True_list:\n",
    "    if i:\n",
    "        print(f\"{i} is True\")\n",
    "    else:\n",
    "        print(f\"{i} is False\")  \n",
    "        \n",
    "# False 로 간주/인정되는 것들\n",
    "False_list = [False, 0, 0.0, 0j, \"\", [], (), set(), frozenset(), {}, None]\n",
    "for i in False_list:\n",
    "    if i:\n",
    "        print(f\"{i} is True\")\n",
    "    else:\n",
    "        print(f\"{i} is False\")"
   ]
  },
  {
   "cell_type": "code",
   "execution_count": 20,
   "metadata": {},
   "outputs": [
    {
     "name": "stdout",
     "output_type": "stream",
     "text": [
      "True <class 'bool'>\n"
     ]
    }
   ],
   "source": [
    "something = bool(\"False\")\n",
    "print(something , type(something))\n"
   ]
  }
 ],
 "metadata": {
  "kernelspec": {
   "display_name": "Python 3",
   "language": "python",
   "name": "python3"
  },
  "language_info": {
   "codemirror_mode": {
    "name": "ipython",
    "version": 3
   },
   "file_extension": ".py",
   "mimetype": "text/x-python",
   "name": "python",
   "nbconvert_exporter": "python",
   "pygments_lexer": "ipython3",
   "version": "3.12.3"
  }
 },
 "nbformat": 4,
 "nbformat_minor": 2
}

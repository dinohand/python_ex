{
 "cells": [
  {
   "cell_type": "code",
   "execution_count": 35,
   "id": "5270e11e",
   "metadata": {},
   "outputs": [
    {
     "name": "stdout",
     "output_type": "stream",
     "text": [
      "20 <class 'int'>\n",
      "20 <class 'int'>\n",
      "20 <class 'int'>\n",
      "40\n"
     ]
    }
   ],
   "source": [
    "# 2 진수\n",
    "bn = 0b10100\n",
    "print(bn, type(bn)) \n",
    "\n",
    "# 8 진수\n",
    "on = 0o24\n",
    "print(on, type(on)) \n",
    "\n",
    "# 16 진수\n",
    "hn = 0x14\n",
    "print(hn, type(hn)) \n",
    "\n",
    "\n",
    "print(bn + on)"
   ]
  },
  {
   "cell_type": "code",
   "execution_count": 64,
   "id": "760cfff6",
   "metadata": {},
   "outputs": [
    {
     "name": "stdout",
     "output_type": "stream",
     "text": [
      "30 <class 'int'>\n",
      "30 <class 'int'>\n",
      "30 <class 'int'>\n",
      "0b11110 0b\n"
     ]
    }
   ],
   "source": [
    "num = 30\n",
    "\n",
    "b_num = bin(num)\n",
    "o_num = oct(num)\n",
    "h_num = hex(num)\n",
    "\n",
    "# print(b_num, type(b_num))\n",
    "# print(o_num, type(o_num))\n",
    "# print(h_num, type(h_num))\n",
    "\n",
    "\n",
    "ib = int(b_num, 2)\n",
    "io = int(o_num, 8)\n",
    "ih = int(h_num, 16)\n",
    "\n",
    "\n",
    "print(ib, type(ib))\n",
    "print(io, type(io))\n",
    "print(ih, type(ih))\n",
    "\n",
    "\n",
    "print(  b_num, b_num[:2] )    \n",
    "    "
   ]
  },
  {
   "cell_type": "code",
   "execution_count": null,
   "id": "fb1d225b",
   "metadata": {},
   "outputs": [
    {
     "name": "stdout",
     "output_type": "stream",
     "text": [
      "True <class 'bool'>\n",
      "1\n",
      "0\n",
      "True\n",
      "False\n"
     ]
    }
   ],
   "source": [
    "a = {}\n"
   ]
  }
 ],
 "metadata": {
  "kernelspec": {
   "display_name": "Python 3",
   "language": "python",
   "name": "python3"
  },
  "language_info": {
   "codemirror_mode": {
    "name": "ipython",
    "version": 3
   },
   "file_extension": ".py",
   "mimetype": "text/x-python",
   "name": "python",
   "nbconvert_exporter": "python",
   "pygments_lexer": "ipython3",
   "version": "3.12.3"
  }
 },
 "nbformat": 4,
 "nbformat_minor": 5
}

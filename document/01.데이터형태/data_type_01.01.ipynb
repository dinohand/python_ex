{
 "cells": [
  {
   "cell_type": "code",
   "execution_count": null,
   "metadata": {},
   "outputs": [
    {
     "name": "stdout",
     "output_type": "stream",
     "text": [
      "안녕 Python\n",
      "\n",
      "입력한 값은 hello 입니다\n"
     ]
    }
   ],
   "source": [
    "## 입출력\n",
    "'''\n",
    "1. 함수 :\n",
    "    - print()\n",
    "    - input()\n",
    "2. ide에서 python 코드 실행 : Ctrl + Enter or Play button\n",
    "'''\n",
    "# console 입출력\n",
    "# 출력 : print\n",
    "print(\"안녕 Python\" )\n",
    "print(\"\")\n",
    "\n",
    "# 입력 : input()\n",
    "what = input('입력해주세요')\n",
    "print(f'입력한 값은', what , '입니다')  ## 출력되는 것을 사이에 ' '이 존재함함\n",
    "# print(f'입력한 값은 \"{what}\" 입니다')"
   ]
  },
  {
   "cell_type": "code",
   "execution_count": null,
   "metadata": {},
   "outputs": [],
   "source": []
  },
  {
   "cell_type": "code",
   "execution_count": null,
   "metadata": {},
   "outputs": [
    {
     "name": "stdout",
     "output_type": "stream",
     "text": [
      "1223 <class 'str'>\n"
     ]
    }
   ],
   "source": [
    "\n",
    "a = input('숫자를 입력해주세요')\n",
    "print(a, type(a))  # 입력한 값은 문자열로 저장됨"
   ]
  },
  {
   "cell_type": "code",
   "execution_count": null,
   "metadata": {},
   "outputs": [
    {
     "name": "stdout",
     "output_type": "stream",
     "text": [
      "3.141592653589793 <class 'float'>\n",
      "1.4142135623730951 <class 'float'>\n"
     ]
    }
   ],
   "source": [
    "import math\n",
    "\n",
    "# π (파이)\n",
    "pi_value = math.pi\n",
    "print( pi_value, type(pi_value) )  \n",
    "\n",
    "# √2 (루트 2)\n",
    "sqrt_2 = math.sqrt(2)\n",
    "print( sqrt_2 , type(sqrt_2) ) \n",
    "\n"
   ]
  },
  {
   "cell_type": "code",
   "execution_count": null,
   "metadata": {},
   "outputs": [
    {
     "name": "stdout",
     "output_type": "stream",
     "text": [
      "π 값 (정확): 3.141592653589793\n",
      "√2 값 (정확): sqrt(2)\n"
     ]
    }
   ],
   "source": [
    "# pip install sympy\n",
    "from sympy import pi, sqrt\n",
    "\n",
    "# π (파이)\n",
    "import numpy as np\n",
    "\n",
    "\n",
    "print(\"π 값 (정확):\", np.pi)\n",
    "\n",
    "# √2 (루트 2)\n",
    "print(\"√2 값 (정확):\", sqrt(2))"
   ]
  },
  {
   "cell_type": "code",
   "execution_count": null,
   "metadata": {},
   "outputs": [
    {
     "name": "stdout",
     "output_type": "stream",
     "text": [
      "3.141592653589793115997963468544185161590576171875 <class 'float'>\n",
      "1.4142135623730951454746218587388284504413604736328125 <class 'float'>\n"
     ]
    }
   ],
   "source": [
    "import math\n",
    "\n",
    "# π (파이)\n",
    "pi_value = math.pi\n",
    "print(f\"%.48f\"%pi_value, type(pi_value))\n",
    "\n",
    "# √2 (루트 2)\n",
    "sqrt_2 = math.sqrt(2)\n",
    "print(f\"%.52f\"%sqrt_2 , type(sqrt_2))\n"
   ]
  },
  {
   "cell_type": "code",
   "execution_count": 39,
   "metadata": {},
   "outputs": [
    {
     "name": "stdout",
     "output_type": "stream",
     "text": [
      "1j\n",
      "(-1+0j)\n",
      "(-0-1j)\n",
      "(1-0j)\n"
     ]
    }
   ],
   "source": [
    "# complex(실수부, 허수부)\n",
    "a =  0  + 1.0j\n",
    "\n",
    "print( a )\n",
    "print( a * a )\n",
    "print( a * a * a )\n",
    "print( a * a * a * a )\n"
   ]
  },
  {
   "cell_type": "code",
   "execution_count": null,
   "metadata": {},
   "outputs": [
    {
     "ename": "TypeError",
     "evalue": "object of type 'float' has no len()",
     "output_type": "error",
     "traceback": [
      "\u001b[1;31m---------------------------------------------------------------------------\u001b[0m",
      "\u001b[1;31mTypeError\u001b[0m                                 Traceback (most recent call last)",
      "Cell \u001b[1;32mIn[47], line 5\u001b[0m\n\u001b[0;32m      2\u001b[0m c \u001b[38;5;241m=\u001b[39m \u001b[38;5;28mcomplex\u001b[39m(\u001b[38;5;241m1\u001b[39m\u001b[38;5;241m+\u001b[39m\u001b[38;5;241m1\u001b[39mj)\n\u001b[0;32m      4\u001b[0m d \u001b[38;5;241m=\u001b[39m \u001b[38;5;241m12.12121212\u001b[39m\n\u001b[1;32m----> 5\u001b[0m \u001b[38;5;28mprint\u001b[39m(\u001b[38;5;28;43mlen\u001b[39;49m\u001b[43m(\u001b[49m\u001b[43md\u001b[49m\u001b[43m)\u001b[49m)\n",
      "\u001b[1;31mTypeError\u001b[0m: object of type 'float' has no len()"
     ]
    }
   ],
   "source": []
  }
 ],
 "metadata": {
  "kernelspec": {
   "display_name": "Python 3",
   "language": "python",
   "name": "python3"
  },
  "language_info": {
   "codemirror_mode": {
    "name": "ipython",
    "version": 3
   },
   "file_extension": ".py",
   "mimetype": "text/x-python",
   "name": "python",
   "nbconvert_exporter": "python",
   "pygments_lexer": "ipython3",
   "version": "3.12.3"
  }
 },
 "nbformat": 4,
 "nbformat_minor": 2
}

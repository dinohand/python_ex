{
 "cells": [
  {
   "cell_type": "code",
   "execution_count": 12,
   "id": "b12a30f1",
   "metadata": {},
   "outputs": [
    {
     "name": "stdout",
     "output_type": "stream",
     "text": [
      "Sum of lists: [1, 2, 3, 4, 5, 6, 7, 8, 9, 10]\n",
      "Repeated list: [1, 2, 3, 1, 2, 3, 1, 2, 3]\n",
      "Is 3 in list? True\n",
      "Is 3 not in list? False\n",
      "Max: 5, Min: 1, Sum: 15\n",
      "Length of list: 5\n",
      "List after deletion: [1, 2, 4, 5]\n"
     ]
    }
   ],
   "source": [
    "# -\t더하기( + )\n",
    "# -\t반복하기( * )\n",
    "# -\t포함 여부 알아내기( in , not in )\n",
    "# -\t슬라이싱 – 특정 부분만 잘라내기\n",
    "# -\t최대값, 최소값, 합계 (max, min, sum)\n",
    "# -\t길이 구하기( len )\n",
    "# -\t아이템 삭제 ( del )\n",
    "\n",
    "# 리스트 더하기\n",
    "# 리스트를 더하면 두 리스트가 합쳐진 새로운 리스트가 생성된다.\n",
    "ls_1 = [1, 2, 3, 4, 5]\n",
    "ls_2 = [6, 7, 8, 9, 10]\n",
    "ls_result  = ls_1 + ls_2  # 리스트 더하기\n",
    "print(f\"Sum of lists: {ls_result}\")  # [1, 2, 3, 4, 5, 6, 7, 8, 9, 10]\n",
    "\n",
    "\n",
    "# 리스트 반복하기\n",
    "# 리스트를 반복하면 리스트의 아이템이 반복된 새로운 리스트가 생성된다.\n",
    "ls = [1, 2, 3 ]\n",
    "ls *= 3  # 리스트 반복하기\n",
    "print(f\"Repeated list: {ls}\")  # [1, 2, 3, 1, 2, 3, 1, 2, 3]\n",
    "\n",
    "# 포함 여부 알아내기\n",
    "# in 연산자를 사용하여 리스트에 특정 아이템이 포함되어 있는지 확인할 수 있다.\n",
    "ls = [1, 2, 3, 4, 5]\n",
    "no = 3\n",
    "is_in_list = no in ls  # 포함 여부 확인\n",
    "print(f\"Is {no} in list? {is_in_list}\")  # True\n",
    "\n",
    "is_not_in_list = no not in ls  # 불포함 여부 확인\n",
    "print(f\"Is {no} not in list? {is_not_in_list}\") \n",
    "\n",
    "# max, min, sum\n",
    "# max, min, sum 함수를 사용하여 리스트의 최대값, 최소값, 합계를 구할 수 있다.\n",
    "ls = [1, 2, 3, 4, 5]\n",
    "max_value = max(ls)  # 최대값\n",
    "min_value = min(ls)  # 최소값\n",
    "sum_value = sum(ls)  # 합계\n",
    "print(f\"Max: {max_value}, Min: {min_value}, Sum: {sum_value}\")  # Max: 5, Min: 1, Sum: 15\n",
    "\n",
    "\n",
    "# 길이 구하기(len)\n",
    "# len 함수를 사용하여 리스트의 길이를 구할 수 있다.\n",
    "ls = [1, 2, 3, 4, 5]\n",
    "length = len(ls)  # 길이 구하기\n",
    "print(f\"Length of list: {length}\")  # Length of list: 5\n",
    "\n",
    "# 아이템 삭제(del)\n",
    "# del 키워드를 사용하여 리스트의 특정 아이템을 삭제할 수 있다.\n",
    "ls = [1, 2, 3, 4, 5]\n",
    "del ls[2]  # 인덱스 2의 아이템 삭제\n",
    "print(f\"List after deletion: {ls}\")  # List after deletion: [1, 2, 4, 5]\n",
    "\n"
   ]
  },
  {
   "cell_type": "code",
   "execution_count": null,
   "id": "925e5654",
   "metadata": {},
   "outputs": [
    {
     "name": "stdout",
     "output_type": "stream",
     "text": [
      "Original list: [1, 2, 3, 4, 5, 3]\n",
      "Original list: [1, 2, 4, 5, 3]\n"
     ]
    }
   ],
   "source": [
    "# del, remove 차이\n",
    "\n",
    "ls = [1, 2, 3, 4, 5,3 ]\n",
    "# del은 인덱스를 사용하여 아이템을 삭제하고, remove는 아이템의 값을 사용하여 삭제한다.\n",
    "\n",
    "print(f\"Original list: {ls}\")  # [1, 2, 3, 4, 5, 3]\n",
    "ls.remove(3)  # 값으로 아이템 삭제\n",
    "print(f\"Original list: {ls}\")  # [1, 2, 3, 4, 5, 3]\n",
    "\n",
    "\n"
   ]
  }
 ],
 "metadata": {
  "kernelspec": {
   "display_name": "Python 3",
   "language": "python",
   "name": "python3"
  },
  "language_info": {
   "codemirror_mode": {
    "name": "ipython",
    "version": 3
   },
   "file_extension": ".py",
   "mimetype": "text/x-python",
   "name": "python",
   "nbconvert_exporter": "python",
   "pygments_lexer": "ipython3",
   "version": "3.12.3"
  }
 },
 "nbformat": 4,
 "nbformat_minor": 5
}

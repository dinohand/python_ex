{
 "cells": [
  {
   "cell_type": "code",
   "execution_count": null,
   "metadata": {},
   "outputs": [
    {
     "name": "stdout",
     "output_type": "stream",
     "text": [
      "김연아 피겨선수\n",
      "{'송혜교': '여자', '김연아': '피겨선수', 'BTS': '보이그룹'}\n",
      "송혜교 여자\n",
      "{'송혜교': '여배우', '김연아': '피겨선수', 'BTS': '보이그룹'}\n",
      "1 : {'apple': '사과'}\n",
      "2 : {'banana': '바나나나'}\n",
      "dict : {'soccer': '축구', 'cycle': '자전거', 'swim': '수영'}\n",
      "list : ['a', 'b', 'c']\n"
     ]
    }
   ],
   "source": [
    "# dictionary\n",
    "# key : value 쌍으로 이루어진 data type\n",
    "# {    } 에 각각의 key_value 쌍을 \",\" 로 열거함\n",
    "# 예) { key1:value1, key2:value\n",
    "# e2 }\n",
    "\n",
    "# 선언 1\n",
    "im_dict = {\n",
    "        \"송혜교\" : \"배우\",\n",
    "        \"김연아\" : \"피겨선수\" ,\n",
    "        \"BTS\" : \"보이그룹\",\n",
    "        \"송혜교\": \"여자\"                  # key가 중복되면 \"송혜교\" : \"배우\" => \"송혜교\" : \"여자\" 로 재정의 됨\n",
    "}\n",
    "\n",
    "who = \"김연아\"\n",
    "print(who, im_dict[who])\n",
    "print(im_dict)\n",
    "# 중복된 key가 존재한다면, 하나만 출력하게 됨\n",
    "# key:value로 됨 아이템을 재정의함\n",
    "who = \"송혜교\"\n",
    "print(who, im_dict[who])\n",
    "\n",
    "\n",
    "im_dict[who] = '여배우'\n",
    "print(im_dict)\n",
    "\n",
    "###\n",
    "\n",
    "# value에 또 다른 데이터 형태의 값이 올 수 있다다\n",
    "complex_dict = { 1 : {'apple' : '사과'} ,\n",
    "                 2 : {'banana' : '바나나나'},\n",
    "                'dict'  : {'soccer' :'축구', 'cycle' : '자전거', 'swim' : '수영'},\n",
    "                'list' : ['a','b','c']\n",
    "                 }\n",
    "\n",
    "for key in complex_dict:\n",
    "        print( key , ':', complex_dict[key])"
   ]
  },
  {
   "cell_type": "code",
   "execution_count": 12,
   "metadata": {},
   "outputs": [
    {
     "name": "stdout",
     "output_type": "stream",
     "text": [
      "{'송혜교': '배우', '김연아': '피겨선수', 'BTS': '보이그룹'}\n"
     ]
    }
   ],
   "source": [
    "\n",
    "# 선언 2 dict() 생성자 사용\n",
    "# key 를 \"\" 로 감싸면 안됨\n",
    "new_dict = dict( 송혜교 = \"배우\", 김연아 =\"피겨선수\" , BTS =  \"보이그룹\")\n",
    "print(new_dict)\n",
    " \n"
   ]
  },
  {
   "cell_type": "code",
   "execution_count": null,
   "metadata": {},
   "outputs": [
    {
     "name": "stdout",
     "output_type": "stream",
     "text": [
      "넷\n",
      "one\n",
      "two\n",
      "three\n"
     ]
    }
   ],
   "source": [
    "# 변수를 사용한 dict 정의의\n",
    "one = \"one\"\n",
    "two = \"two\"\n",
    "three = \"three\"  \n",
    "\n",
    "num_dict = {     ## dictionary가 정의될 시점의 값으로 정의된다다\n",
    "    one : 1,\n",
    "    two : 2,\n",
    "    three : 3 \n",
    "}\n",
    "\n",
    "three = '넷'  \n",
    "print(three)    ## 변수 three는 '넷'으로 재정의됨\n",
    "\n",
    "for i in num_dict:\n",
    "    print(i)    #  num_dict 가 정의될 시점에서의 값을 가지고 있다다\n",
    "    "
   ]
  },
  {
   "cell_type": "code",
   "execution_count": 7,
   "metadata": {},
   "outputs": [
    {
     "name": "stdout",
     "output_type": "stream",
     "text": [
      "======================\n",
      "one\n",
      "two\n",
      "three\n",
      "======================\n",
      "one\n",
      "two\n",
      "three\n",
      "======================\n",
      "1\n",
      "2\n",
      "3\n",
      "======================\n",
      "1\n",
      "2\n",
      "3\n",
      "======================\n",
      "one : 1\n",
      "two : 2\n",
      "three : 3\n"
     ]
    }
   ],
   "source": [
    "han_dict = {     ## dictionary가 정의될 시점의 값으로 정의된다다\n",
    "    \"one\" : \"하나\",\n",
    "    \"two\" : \"둘\",\n",
    "    \"three\" : \"셋\" \n",
    "}\n",
    "\n",
    "\n",
    "# 접근 방법\n",
    "\n",
    "# key 접근\n",
    "# 1\n",
    "print('======================')\n",
    "for key in num_dict:\n",
    "    print(key)\n",
    "print('======================')\n",
    "# 2\n",
    "for key in num_dict.keys():\n",
    "    print(key)\n",
    "    \n",
    "print('======================')\n",
    "# value 접근\n",
    "for value in num_dict.values():\n",
    "    print(value)\n",
    "\n",
    "print('======================')\n",
    "for key in num_dict:\n",
    "    print(num_dict[key])\n",
    "\n",
    "\n",
    "# key, value 동시 접근\n",
    "# items() 함수는 key, value를 동시에 리턴한다. 먼저 오는 것이 key, 나중이 value이다다\n",
    "\n",
    "print('======================')\n",
    "for k, v in num_dict.items():\n",
    "    print(k, ':', v)\n"
   ]
  }
 ],
 "metadata": {
  "kernelspec": {
   "display_name": "Python 3",
   "language": "python",
   "name": "python3"
  },
  "language_info": {
   "codemirror_mode": {
    "name": "ipython",
    "version": 3
   },
   "file_extension": ".py",
   "mimetype": "text/x-python",
   "name": "python",
   "nbconvert_exporter": "python",
   "pygments_lexer": "ipython3",
   "version": "3.12.3"
  }
 },
 "nbformat": 4,
 "nbformat_minor": 2
}

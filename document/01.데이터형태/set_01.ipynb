{
 "cells": [
  {
   "cell_type": "code",
   "execution_count": 6,
   "id": "4468961a",
   "metadata": {},
   "outputs": [
    {
     "name": "stdout",
     "output_type": "stream",
     "text": [
      "{'하나', '둘', '셋'} <class 'set'>\n",
      "{'하나', '둘', '셋'} <class 'set'>\n",
      "{'하나', '둘', '셋'} <class 'set'>\n"
     ]
    }
   ],
   "source": [
    "# set 선언\n",
    "# set은 중복을 허용하지 않는 데이터 구조입니다.\n",
    "# st = {\"하나\",\"둘\",\"셋\"}\n",
    "\n",
    "st_1 = set( (\"하나\",\"둘\",\"셋\") )\n",
    "st_2 = set( [\"하나\",\"둘\",\"셋\"] )\n",
    "st_3 = set( {\"하나\",\"둘\",\"셋\"} )\n",
    "\n",
    "print(st_1, type(st_1) )\n",
    "print(st_2, type(st_2) ) \n",
    "print(st_3, type(st_3) )\n"
   ]
  },
  {
   "cell_type": "code",
   "execution_count": null,
   "id": "d359ebf0",
   "metadata": {},
   "outputs": [
    {
     "name": "stdout",
     "output_type": "stream",
     "text": [
      "range(1, 5) <class 'range'>\n",
      "{1, 2, 3, 4} <class 'set'>\n"
     ]
    },
    {
     "ename": "",
     "evalue": "",
     "output_type": "error",
     "traceback": [
      "\u001b[1;31mThe Kernel crashed while executing code in the current cell or a previous cell. \n",
      "\u001b[1;31mPlease review the code in the cell(s) to identify a possible cause of the failure. \n",
      "\u001b[1;31mClick <a href='https://aka.ms/vscodeJupyterKernelCrash'>here</a> for more info. \n",
      "\u001b[1;31mView Jupyter <a href='command:jupyter.viewOutput'>log</a> for further details."
     ]
    }
   ],
   "source": [
    "# range 선언\n",
    "rg = range(1, 5)\n",
    "print(rg, type(rg) )\n",
    "\n",
    "# set으로 변환\n",
    "st =set( rg )\n",
    "print(st, type(st) )\n",
    "\n"
   ]
  },
  {
   "cell_type": "code",
   "execution_count": null,
   "id": "aa67298c",
   "metadata": {},
   "outputs": [
    {
     "name": "stdout",
     "output_type": "stream",
     "text": [
      "{1, 4, 5, 6, 7}\n"
     ]
    }
   ],
   "source": [
    "# set의 element는 유니크하다. 중복된 값이 존재하지 않는다\n",
    "\n",
    "st = {1,2,4,5,6,6}\n",
    "\n",
    "\n",
    "st.add(7)     # element 추가\n",
    "st.remove(2)  # element 삭제\n",
    "\n",
    "\n",
    "\n",
    "print(st)\n"
   ]
  },
  {
   "cell_type": "code",
   "execution_count": 24,
   "id": "6086dea2",
   "metadata": {},
   "outputs": [
    {
     "name": "stdout",
     "output_type": "stream",
     "text": [
      "& - 교집합은  {2, 3}\n",
      "intersection() 교집합은  {2, 3}\n",
      "{1, 2, 3}\n",
      "intersection_update() 교집합은  None\n",
      "{2, 3}\n"
     ]
    }
   ],
   "source": [
    "# & : operand (교집합 구하기)   *** '*' operand를 사용하면 안된다\n",
    "# instersection -> set\n",
    "# intersection_update() -> None\n",
    "\n",
    "st_01 = { 1,2,3}\n",
    "st_02 = { 2,3,4,5}\n",
    "\n",
    "\n",
    "st_rs = st_01 & st_02\n",
    "\n",
    "print(\"& - 교집합은 \",st_rs)\n",
    "\n",
    "print(\"intersection() 교집합은 \",st_01.intersection(st_02) )\n",
    "print(st_01)\n",
    "\n",
    "\n",
    "print(\"intersection_update() 교집합은 \",st_01.intersection_update(st_02) )\n",
    "print(st_01)\n",
    "\n"
   ]
  },
  {
   "cell_type": "code",
   "execution_count": 22,
   "id": "dffa6b5d",
   "metadata": {},
   "outputs": [
    {
     "name": "stdout",
     "output_type": "stream",
     "text": [
      "| -합집합은  {1, 2, 3, 4, 5}\n",
      "union() 합집합은  {1, 2, 3, 4, 5}\n"
     ]
    }
   ],
   "source": [
    "# | : operand (합집합 구하기)  *** '+' operand를 사용하면 안된다\n",
    "\n",
    "\n",
    "st_01 = { 1,2,3}\n",
    "st_02 = { 2,3,4,5}\n",
    "\n",
    "\n",
    "st_rs = st_01 | st_02\n",
    "\n",
    "print(\"| -합집합은 \",st_rs)\n",
    "\n",
    "print(\"union() 합집합은 \",st_01.union(st_02) )\n",
    "\n"
   ]
  },
  {
   "cell_type": "code",
   "execution_count": null,
   "id": "fa377a2e",
   "metadata": {},
   "outputs": [
    {
     "name": "stdout",
     "output_type": "stream",
     "text": [
      "- -차집합은  {4, 5}\n",
      "difference() 차집합은  {1, 2}\n",
      "{1, 2, 3}\n",
      "difference_update() 차집합은  None\n",
      "{1, 2}\n"
     ]
    }
   ],
   "source": [
    "# - : operand (여집합 구하기)\n",
    "# differnce() : 차집합 반환\n",
    "# differnce_update() : 차집합 갱신 & None 반환\n",
    "\n",
    "\n",
    "st_01 = { 1,2,3}\n",
    "st_02 = { 3,4,5}\n",
    "\n",
    "\n",
    "st_rs =  st_02 - st_01\n",
    "\n",
    "print(\"- -여집합은 \",st_rs)\n",
    "\n",
    "print(\"difference() 차집합은 \",st_01.difference(st_02) ) # difference() -> new set ( 새로운 set 을 반환한다)\n",
    "print(st_01)  # st_01의 값(element)은 변합이 없다\n",
    "\n",
    "print(\"difference_update() 차집합은 \",st_01.difference_update(st_02) )  # difference_update() -> None (차비합을 구하여 호출한 set의 값을 갱신하지만 결과는 None을 반환한디)\n",
    "print(st_01)\n"
   ]
  }
 ],
 "metadata": {
  "kernelspec": {
   "display_name": "Python 3",
   "language": "python",
   "name": "python3"
  },
  "language_info": {
   "codemirror_mode": {
    "name": "ipython",
    "version": 3
   },
   "file_extension": ".py",
   "mimetype": "text/x-python",
   "name": "python",
   "nbconvert_exporter": "python",
   "pygments_lexer": "ipython3",
   "version": "3.12.3"
  }
 },
 "nbformat": 4,
 "nbformat_minor": 5
}

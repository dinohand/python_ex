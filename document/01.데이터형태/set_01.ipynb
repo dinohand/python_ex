{
 "cells": [
  {
   "cell_type": "code",
   "execution_count": null,
   "id": "9237dfc2",
   "metadata": {},
   "outputs": [
    {
     "name": "stdout",
     "output_type": "stream",
     "text": [
      "{1, 2, 3, 4, 5, 6}\n",
      "{1, 2, 3, 4, 5, 6}\n"
     ]
    }
   ],
   "source": [
    "A = { 1, 2, 3, 4}\n",
    "B = { 3, 4, 5, 6}\n",
    "\n",
    "print( A | B )\n",
    "print( A.union(B) )\n",
    "\n",
    "{1, 2, 3, 4, 5, 6}"
   ]
  },
  {
   "cell_type": "code",
   "execution_count": null,
   "id": "5f4e26e5",
   "metadata": {},
   "outputs": [
    {
     "name": "stdout",
     "output_type": "stream",
     "text": [
      "{3, 4}\n",
      "{3, 4}\n"
     ]
    }
   ],
   "source": [
    "print( A & B )               # {3, 4}\n",
    "print( A.intersection(B) )   # {3, 4}"
   ]
  },
  {
   "cell_type": "code",
   "execution_count": null,
   "id": "14c68cd1",
   "metadata": {},
   "outputs": [
    {
     "name": "stdout",
     "output_type": "stream",
     "text": [
      "{1, 2}\n",
      "{1, 2}\n"
     ]
    }
   ],
   "source": [
    "print( A - B )             # {1, 2}\n",
    "print( A.difference(B) )   # {1, 2}"
   ]
  },
  {
   "cell_type": "code",
   "execution_count": 21,
   "id": "3cb6d2c1",
   "metadata": {},
   "outputs": [
    {
     "name": "stdout",
     "output_type": "stream",
     "text": [
      "{1, 2, 5, 6}\n",
      "{1, 2, 5, 6}\n"
     ]
    }
   ],
   "source": [
    "print( A ^ B)                       # {1, 2, 5, 6} 출력\n",
    "print( A.symmetric_difference(B) )  # {1, 2, 5, 6} 출력"
   ]
  },
  {
   "cell_type": "code",
   "execution_count": null,
   "id": "6e1b984b",
   "metadata": {},
   "outputs": [
    {
     "name": "stdout",
     "output_type": "stream",
     "text": [
      "True\n",
      "True\n",
      "False\n"
     ]
    }
   ],
   "source": [
    "C = { 1, 2}\n",
    "D = { 3, 4}\n",
    "E = { 1, 2, 3}\n",
    "\n",
    "# # 부분집합 여부\n",
    "# print( C <= E )             # True 출력\n",
    "# print( C.issubset(D) )      # False 출력\n",
    "# print( C.issubset(E) )      # True 출력\n",
    "\n",
    "# 상위집합 여부\n",
    "print( E >= C )               # True 출력\n",
    "print( E.issuperset(C) )      # True 출력\n",
    "print( E.issuperset(D) )      # False 출력\n",
    "\n",
    "\n",
    "\n"
   ]
  },
  {
   "cell_type": "code",
   "execution_count": null,
   "id": "84ee90de",
   "metadata": {},
   "outputs": [
    {
     "name": "stdout",
     "output_type": "stream",
     "text": [
      "True\n",
      "False\n"
     ]
    }
   ],
   "source": [
    "F = { 1, 2, 3}\n",
    "\n",
    "print( 1 in F )        # 1은 집합 F에 있으므로 True를 출력\n",
    "print( 3 not in F )    # 3은 집합 F에 있으므로 'not in\"은 False가 됨\n"
   ]
  },
  {
   "cell_type": "code",
   "execution_count": 6,
   "id": "4468961a",
   "metadata": {},
   "outputs": [
    {
     "name": "stdout",
     "output_type": "stream",
     "text": [
      "{'하나', '둘', '셋'} <class 'set'>\n",
      "{'하나', '둘', '셋'} <class 'set'>\n",
      "{'하나', '둘', '셋'} <class 'set'>\n"
     ]
    }
   ],
   "source": [
    "# set 선언\n",
    "# set은 중복을 허용하지 않는 데이터 구조입니다.\n",
    "# st = {\"하나\",\"둘\",\"셋\"}\n",
    "\n",
    "st_1 = set( (\"하나\",\"둘\",\"셋\") )\n",
    "st_2 = set( [\"하나\",\"둘\",\"셋\"] )\n",
    "st_3 = set( {\"하나\",\"둘\",\"셋\"} )\n",
    "\n",
    "print(st_1, type(st_1) )\n",
    "print(st_2, type(st_2) ) \n",
    "print(st_3, type(st_3) )\n"
   ]
  },
  {
   "cell_type": "code",
   "execution_count": null,
   "id": "d359ebf0",
   "metadata": {},
   "outputs": [
    {
     "name": "stdout",
     "output_type": "stream",
     "text": [
      "range(1, 5) <class 'range'>\n",
      "{1, 2, 3, 4} <class 'set'>\n"
     ]
    },
    {
     "ename": "",
     "evalue": "",
     "output_type": "error",
     "traceback": [
      "\u001b[1;31mThe Kernel crashed while executing code in the current cell or a previous cell. \n",
      "\u001b[1;31mPlease review the code in the cell(s) to identify a possible cause of the failure. \n",
      "\u001b[1;31mClick <a href='https://aka.ms/vscodeJupyterKernelCrash'>here</a> for more info. \n",
      "\u001b[1;31mView Jupyter <a href='command:jupyter.viewOutput'>log</a> for further details."
     ]
    }
   ],
   "source": [
    "# range 선언\n",
    "rg = range(1, 5)\n",
    "print(rg, type(rg) )\n",
    "\n",
    "# set으로 변환\n",
    "st =set( rg )\n",
    "print(st, type(st) )\n",
    "\n"
   ]
  },
  {
   "cell_type": "code",
   "execution_count": null,
   "id": "aa67298c",
   "metadata": {},
   "outputs": [
    {
     "name": "stdout",
     "output_type": "stream",
     "text": [
      "{1, 4, 5, 6, 7}\n"
     ]
    }
   ],
   "source": [
    "# set의 element는 유니크하다. 중복된 값이 존재하지 않는다\n",
    "\n",
    "st = {1,2,4,5,6,6}\n",
    "\n",
    "\n",
    "st.add(7)     # element 추가\n",
    "st.remove(2)  # element 삭제\n",
    "\n",
    "\n",
    "\n",
    "print(st)\n"
   ]
  },
  {
   "cell_type": "code",
   "execution_count": null,
   "id": "6086dea2",
   "metadata": {},
   "outputs": [
    {
     "name": "stdout",
     "output_type": "stream",
     "text": [
      "{3, 4}\n",
      "{1, 2, 3, 4}\n",
      "None\n",
      "{3, 4}\n"
     ]
    }
   ],
   "source": [
    "# & : operand (교집합 구하기)   *** '*' operand를 사용하면 안된다\n",
    "# instersection -> set\n",
    "# intersection_update() -> None\n",
    "\n",
    "st_01 = { 1, 2, 3, 4}\n",
    "st_02 = { 3, 4, 5, 6}\n",
    "\n",
    "print(st_01.intersection(st_02))\n",
    "print(st_01)\n",
    "print(st_01.intersection_update(st_02))  # intersection_update -> None\n",
    "print(st_01)\n",
    "\n",
    "# st_rs = st_01 & st_02\n",
    "\n",
    "# print(\"& - 교집합은 \",st_rs)\n",
    "\n",
    "# print(\"intersection() 교집합은 \",st_01.intersection(st_02) )\n",
    "# print(st_01)\n",
    "\n",
    "\n",
    "# print(\"intersection_update() 교집합은 \",st_01.intersection_update(st_02) )\n",
    "# print(st_01)\n",
    "\n"
   ]
  },
  {
   "cell_type": "code",
   "execution_count": 22,
   "id": "dffa6b5d",
   "metadata": {},
   "outputs": [
    {
     "name": "stdout",
     "output_type": "stream",
     "text": [
      "| -합집합은  {1, 2, 3, 4, 5}\n",
      "union() 합집합은  {1, 2, 3, 4, 5}\n"
     ]
    }
   ],
   "source": [
    "# | : operand (합집합 구하기)  *** '+' operand를 사용하면 안된다\n",
    "\n",
    "\n",
    "st_01 = { 1,2,3}\n",
    "st_02 = { 2,3,4,5}\n",
    "\n",
    "\n",
    "st_rs = st_01 | st_02\n",
    "\n",
    "print(\"| -합집합은 \",st_rs)\n",
    "\n",
    "print(\"union() 합집합은 \",st_01.union(st_02) )\n",
    "\n"
   ]
  },
  {
   "cell_type": "code",
   "execution_count": null,
   "id": "fa377a2e",
   "metadata": {},
   "outputs": [
    {
     "name": "stdout",
     "output_type": "stream",
     "text": [
      "- -여집합은  {4, 5}\n",
      "difference() 차집합은  {1, 2} {1, 2}\n",
      "difference() 차집합은  {4, 5}\n"
     ]
    }
   ],
   "source": [
    "# - : operand (여집합 구하기)\n",
    "# differnce() : 차집합 반환\n",
    "# differnce_update() : 차집합 갱신 & None 반환\n",
    "\n",
    "st_01 = { 1, 2, 3}\n",
    "st_02 = { 3, 4, 5}\n",
    "\n",
    "st_rs =  st_02 - st_01\n",
    "\n",
    "print(\"- -여집합은 \",st_rs)\n",
    "\n",
    "print(\"difference() 차집합은 \",st_01.difference(st_02),  st_01 - st_02 ) # difference() -> new set ( 새로운 set 을 반환한다)\n",
    "\n",
    "print(\"difference() 차집합은 \",st_02.difference(st_01) ) # difference() -> new set ( 새로운 set 을 반환한다)\n",
    "\n",
    "\n",
    "# print(st_01)  # st_01의 값(element)은 변합이 없다\n",
    "\n",
    "# print(\"difference_update() 차집합은 \",st_01.difference_update(st_02) )  # difference_update() -> None (차비합을 구하여 호출한 set의 값을 갱신하지만 결과는 None을 반환한디)\n",
    "# print(st_01)\n"
   ]
  },
  {
   "cell_type": "code",
   "execution_count": null,
   "id": "fef7d385",
   "metadata": {},
   "outputs": [
    {
     "name": "stdout",
     "output_type": "stream",
     "text": [
      "{'o', 'l', 'H', 'e'} {'하', '요', '세', '녕', '안'}\n",
      "['H', 'e', 'l', 'o'] <class 'list'>\n"
     ]
    },
    {
     "ename": "",
     "evalue": "",
     "output_type": "error",
     "traceback": [
      "\u001b[1;31mThe Kernel crashed while executing code in the current cell or a previous cell. \n",
      "\u001b[1;31mPlease review the code in the cell(s) to identify a possible cause of the failure. \n",
      "\u001b[1;31mClick <a href='https://aka.ms/vscodeJupyterKernelCrash'>here</a> for more info. \n",
      "\u001b[1;31mView Jupyter <a href='command:jupyter.viewOutput'>log</a> for further details."
     ]
    }
   ],
   "source": [
    "set_e = set(\"Hello\")\n",
    "set_h = set(\"안녕하세요\")\n",
    "\n",
    "\n",
    "print(set_e, set_h)\n",
    "\n",
    "print(sorted(set_e), type(sorted(set_h)))\n"
   ]
  },
  {
   "cell_type": "code",
   "execution_count": 11,
   "id": "5a57f1c3",
   "metadata": {},
   "outputs": [
    {
     "name": "stdout",
     "output_type": "stream",
     "text": [
      "['안', '녕', '하', '세', '요', '요', '요']\n",
      "{'하', '요', '세', '녕', '안'}\n"
     ]
    }
   ],
   "source": [
    "a = list(\"안녕하세요요요\")\n",
    "b = set(\"안녕하세요요요\")\n",
    "\n",
    "print(a)\n",
    "print(b)"
   ]
  },
  {
   "cell_type": "code",
   "execution_count": null,
   "id": "71e84834",
   "metadata": {},
   "outputs": [
    {
     "name": "stdout",
     "output_type": "stream",
     "text": [
      "None {1, 3, 4}\n"
     ]
    },
    {
     "ename": "KeyError",
     "evalue": "0",
     "output_type": "error",
     "traceback": [
      "\u001b[1;31m---------------------------------------------------------------------------\u001b[0m",
      "\u001b[1;31mKeyError\u001b[0m                                  Traceback (most recent call last)",
      "Cell \u001b[1;32mIn[9], line 7\u001b[0m\n\u001b[0;32m      4\u001b[0m \u001b[38;5;28mprint\u001b[39m( st_01\u001b[38;5;241m.\u001b[39mdiscard(\u001b[38;5;241m2\u001b[39m), st_01)\n\u001b[0;32m      6\u001b[0m st \u001b[38;5;241m=\u001b[39m { \u001b[38;5;241m1\u001b[39m, \u001b[38;5;241m2\u001b[39m, \u001b[38;5;241m3\u001b[39m, \u001b[38;5;241m4\u001b[39m}\n\u001b[1;32m----> 7\u001b[0m \u001b[38;5;28mprint\u001b[39m(\u001b[43mst\u001b[49m\u001b[38;5;241;43m.\u001b[39;49m\u001b[43mremove\u001b[49m\u001b[43m(\u001b[49m\u001b[38;5;241;43m0\u001b[39;49m\u001b[43m)\u001b[49m)\n",
      "\u001b[1;31mKeyError\u001b[0m: 0"
     ]
    }
   ],
   "source": [
    "# discard() & remove() : 모두 특정 아이템을 삭제한다. 아이템이 존재하지 않으면 remove는 exception을 발생시키지만, discard는 exception을 발생시키지 않는다.\n",
    "\n",
    "st_01 = { 1, 2, 3, 4}\n",
    "st_02 = { 3, 4, 5, 6}\n",
    "\n",
    "print( st_01.discard(2), st_01)\n",
    "\n",
    "st = { 1, 2, 3, 4}\n",
    "\n",
    "print(st.remove(0))\n",
    "\n",
    "\n",
    "\n"
   ]
  }
 ],
 "metadata": {
  "kernelspec": {
   "display_name": "Python 3",
   "language": "python",
   "name": "python3"
  },
  "language_info": {
   "codemirror_mode": {
    "name": "ipython",
    "version": 3
   },
   "file_extension": ".py",
   "mimetype": "text/x-python",
   "name": "python",
   "nbconvert_exporter": "python",
   "pygments_lexer": "ipython3",
   "version": "3.12.3"
  }
 },
 "nbformat": 4,
 "nbformat_minor": 5
}

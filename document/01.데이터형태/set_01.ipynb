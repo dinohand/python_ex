{
 "cells": [
  {
   "cell_type": "code",
   "execution_count": 6,
   "id": "4468961a",
   "metadata": {},
   "outputs": [
    {
     "name": "stdout",
     "output_type": "stream",
     "text": [
      "{'하나', '둘', '셋'} <class 'set'>\n",
      "{'하나', '둘', '셋'} <class 'set'>\n",
      "{'하나', '둘', '셋'} <class 'set'>\n"
     ]
    }
   ],
   "source": [
    "# set 선언\n",
    "# set은 중복을 허용하지 않는 데이터 구조입니다.\n",
    "# st = {\"하나\",\"둘\",\"셋\"}\n",
    "\n",
    "st_1 = set( (\"하나\",\"둘\",\"셋\") )\n",
    "st_2 = set( [\"하나\",\"둘\",\"셋\"] )\n",
    "st_3 = set( {\"하나\",\"둘\",\"셋\"} )\n",
    "\n",
    "print(st_1, type(st_1) )\n",
    "print(st_2, type(st_2) ) \n",
    "print(st_3, type(st_3) )\n"
   ]
  },
  {
   "cell_type": "code",
   "execution_count": null,
   "id": "d359ebf0",
   "metadata": {},
   "outputs": [
    {
     "name": "stdout",
     "output_type": "stream",
     "text": [
      "range(1, 5) <class 'range'>\n",
      "{1, 2, 3, 4} <class 'set'>\n"
     ]
    },
    {
     "ename": "",
     "evalue": "",
     "output_type": "error",
     "traceback": [
      "\u001b[1;31mThe Kernel crashed while executing code in the current cell or a previous cell. \n",
      "\u001b[1;31mPlease review the code in the cell(s) to identify a possible cause of the failure. \n",
      "\u001b[1;31mClick <a href='https://aka.ms/vscodeJupyterKernelCrash'>here</a> for more info. \n",
      "\u001b[1;31mView Jupyter <a href='command:jupyter.viewOutput'>log</a> for further details."
     ]
    }
   ],
   "source": [
    "# range 선언\n",
    "rg = range(1, 5)\n",
    "print(rg, type(rg) )\n",
    "\n",
    "# set으로 변환\n",
    "st =set( rg )\n",
    "print(st, type(st) )\n",
    "\n"
   ]
  }
 ],
 "metadata": {
  "kernelspec": {
   "display_name": "Python 3",
   "language": "python",
   "name": "python3"
  },
  "language_info": {
   "codemirror_mode": {
    "name": "ipython",
    "version": 3
   },
   "file_extension": ".py",
   "mimetype": "text/x-python",
   "name": "python",
   "nbconvert_exporter": "python",
   "pygments_lexer": "ipython3",
   "version": "3.12.3"
  }
 },
 "nbformat": 4,
 "nbformat_minor": 5
}

{
 "cells": [
  {
   "cell_type": "code",
   "execution_count": null,
   "id": "e283edce",
   "metadata": {},
   "outputs": [
    {
     "name": "stdout",
     "output_type": "stream",
     "text": [
      "Task executed!\n"
     ]
    },
    {
     "name": "stdout",
     "output_type": "stream",
     "text": [
      "Task executed!\n",
      "Task executed!\n",
      "Task executed!\n",
      "Task executed!\n"
     ]
    }
   ],
   "source": [
    "import threading\n",
    "\n",
    "def job():\n",
    "    print(\"Task executed!\")\n",
    "    # Schedule the next execution\n",
    "    threading.Timer(10, job).start()\n",
    "\n",
    "# Start the first execution\n",
    "job()"
   ]
  }
 ],
 "metadata": {
  "kernelspec": {
   "display_name": "Python 3",
   "language": "python",
   "name": "python3"
  },
  "language_info": {
   "codemirror_mode": {
    "name": "ipython",
    "version": 3
   },
   "file_extension": ".py",
   "mimetype": "text/x-python",
   "name": "python",
   "nbconvert_exporter": "python",
   "pygments_lexer": "ipython3",
   "version": "3.13.0"
  }
 },
 "nbformat": 4,
 "nbformat_minor": 5
}

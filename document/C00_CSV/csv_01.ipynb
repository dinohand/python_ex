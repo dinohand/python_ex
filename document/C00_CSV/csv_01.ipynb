{
 "cells": [
  {
   "cell_type": "code",
   "execution_count": null,
   "id": "2e10c127",
   "metadata": {},
   "outputs": [
    {
     "name": "stdout",
     "output_type": "stream",
     "text": [
      "과일 : 배 , 판매단위 : 상자 , 가격 : 25000 , \n",
      "과일 : 수박 , 판매단위 : 개 , 가격 : 12000 , \n",
      "과일 : 참외 , 판매단위 : 상자 , 가격 : 8000 , \n",
      "과일 : 바나나 , 판매단위 : 묶음 , 가격 : 3200 , \n",
      "과일 : 포도 , 판매단위 : 상자 , 가격 : 16000 , \n"
     ]
    }
   ],
   "source": [
    "import csv ## built-in lib\n",
    "import chardet # pip install chardet\n",
    " \n",
    "\n",
    "\n",
    "\n",
    "# f = open('test.csv',  encoding='utf-8')\n",
    "f = open('test.csv')\n",
    "\n",
    "\n",
    "chardet.detect(f.read().encode())\n",
    "\n",
    "\n",
    "csv_data = csv.reader(f) \n",
    "\n",
    "col_name = next(csv_data) \n",
    "col_name2 = next(csv_data) \n",
    "\n",
    "\n",
    "col_cnt = len(col_name)\n",
    "\n",
    "\n",
    "for row in csv_data:\n",
    "    for i in range(col_cnt):\n",
    "        print(col_name[i],\":\", row[i], end=' , ')\n",
    "    print(\"\")\n",
    "\n",
    "f.close()"
   ]
  },
  {
   "cell_type": "code",
   "execution_count": null,
   "id": "e33bba49",
   "metadata": {},
   "outputs": [
    {
     "name": "stdout",
     "output_type": "stream",
     "text": [
      "<class 'str'> 과일,판매단위,가격\n",
      "사과,상자,\"20,000\"\n",
      "배,상자,25000\n",
      "수박,개,12000\n",
      "참외,상자,8000\n",
      "바나나,묶음,3200\n",
      "포도,상자,16000\n",
      "\n",
      "<class '_csv.reader'> <_csv.reader object at 0x00000190AF96BB80>\n",
      "과일 : 과일 , 판매단위 : 판매단위 , 가격 : 가격 , \n",
      "과일 : 사과 , 판매단위 : 상자 , 가격 : 20,000 , \n",
      "과일 : 배 , 판매단위 : 상자 , 가격 : 25000 , \n",
      "과일 : 수박 , 판매단위 : 개 , 가격 : 12000 , \n",
      "과일 : 참외 , 판매단위 : 상자 , 가격 : 8000 , \n",
      "과일 : 바나나 , 판매단위 : 묶음 , 가격 : 3200 , \n",
      "과일 : 포도 , 판매단위 : 상자 , 가격 : 16000 , \n"
     ]
    }
   ],
   "source": [
    "import csv ## built-in lib\n",
    " \n",
    "\n",
    "# f = open('test.csv',  encoding='utf-8')\n",
    "# str 읽기\n",
    "with open('test.csv', mode='r', encoding='utf-8') as f:\n",
    "    fdata = f.read()\n",
    "f.close()\n",
    "\n",
    "print(type(fdata), fdata)\n",
    "\n",
    "# csv.reader()  : 2차원 리스트\n",
    "with open('test.csv', mode='r', encoding='utf-8') as f:\n",
    "    csv_data = csv.reader(f) \n",
    "\n",
    "    print(type(csv_data), csv_data)\n",
    "    \n",
    "    col_cnt = len(col_name)\n",
    "\n",
    "    for row in csv_data:\n",
    "        for i in range(col_cnt):\n",
    "            print(col_name[i],\":\", row[i], end=' , ')\n",
    "        print(\"\")\n",
    "f.close()\n",
    "\n"
   ]
  },
  {
   "cell_type": "code",
   "execution_count": null,
   "id": "e52cf737",
   "metadata": {},
   "outputs": [
    {
     "data": {
      "text/plain": [
       "['사과', '상자', '20,000']"
      ]
     },
     "execution_count": 22,
     "metadata": {},
     "output_type": "execute_result"
    }
   ],
   "source": [
    "import chardet # pip install chardet"
   ]
  },
  {
   "cell_type": "code",
   "execution_count": null,
   "id": "f3eb6191",
   "metadata": {},
   "outputs": [
    {
     "ename": "StopIteration",
     "evalue": "",
     "output_type": "error",
     "traceback": [
      "\u001b[1;31m---------------------------------------------------------------------------\u001b[0m",
      "\u001b[1;31mStopIteration\u001b[0m                             Traceback (most recent call last)",
      "Cell \u001b[1;32mIn[2], line 8\u001b[0m\n\u001b[0;32m      5\u001b[0m writer \u001b[38;5;241m=\u001b[39m csv\u001b[38;5;241m.\u001b[39mwriter(f)  \n\u001b[0;32m      6\u001b[0m data \u001b[38;5;241m=\u001b[39m csv\u001b[38;5;241m.\u001b[39mreader(\u001b[38;5;28mopen\u001b[39m(\u001b[38;5;124m'\u001b[39m\u001b[38;5;124mdata.csv\u001b[39m\u001b[38;5;124m'\u001b[39m, \u001b[38;5;124m'\u001b[39m\u001b[38;5;124mr\u001b[39m\u001b[38;5;124m'\u001b[39m))    \n\u001b[1;32m----> 8\u001b[0m header \u001b[38;5;241m=\u001b[39m \u001b[38;5;28;43mnext\u001b[39;49m\u001b[43m(\u001b[49m\u001b[43mdata\u001b[49m\u001b[43m)\u001b[49m\n\u001b[0;32m      9\u001b[0m \u001b[38;5;28;01mfor\u001b[39;00m row \u001b[38;5;129;01min\u001b[39;00m data:\n\u001b[0;32m     10\u001b[0m     \u001b[38;5;28;01mif\u001b[39;00m row[\u001b[38;5;241m0\u001b[39m] \u001b[38;5;241m==\u001b[39m \u001b[38;5;124m'\u001b[39m\u001b[38;5;124m1\u001b[39m\u001b[38;5;124m'\u001b[39m:\n",
      "\u001b[1;31mStopIteration\u001b[0m: "
     ]
    }
   ],
   "source": [
    "import csv\n",
    "\n",
    "\n",
    "f = open('data.csv', 'w', newline='')\n",
    "writer = csv.writer(f)  \n",
    "data = csv.reader(open('data.csv', 'r'))    \n",
    "\n",
    "header = next(data)\n",
    "for row in data:\n",
    "    print(row)\n",
    "# print()5\n",
    "f.close()"
   ]
  }
 ],
 "metadata": {
  "kernelspec": {
   "display_name": "Python 3",
   "language": "python",
   "name": "python3"
  },
  "language_info": {
   "codemirror_mode": {
    "name": "ipython",
    "version": 3
   },
   "file_extension": ".py",
   "mimetype": "text/x-python",
   "name": "python",
   "nbconvert_exporter": "python",
   "pygments_lexer": "ipython3",
   "version": "3.12.3"
  }
 },
 "nbformat": 4,
 "nbformat_minor": 5
}

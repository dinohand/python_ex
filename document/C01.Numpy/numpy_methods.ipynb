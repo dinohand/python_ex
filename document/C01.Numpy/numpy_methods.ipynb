{
 "cells": [
  {
   "cell_type": "markdown",
   "id": "8c7bdcf2",
   "metadata": {},
   "source": [
    "Array Creation\n",
    "np.array(): Creates an array from a list or tuple.\n",
    "np.zeros(shape): Creates an array filled with zeros.\n",
    "np.ones(shape): Creates an array filled with ones.\n",
    "np.arange(start, stop, step): Creates an array with evenly spaced values.\n",
    "np.linspace(start, stop, num): Creates an array with a specified number of evenly spaced values.\n",
    "np.eye(n): Creates an identity matrix.\n",
    "\n",
    "Array Manipulation\n",
    "np.reshape(array, new_shape): Reshapes an array without changing its data.\n",
    "np.transpose(array): Transposes the array (flips rows and columns).\n",
    "np.concatenate((a, b), axis): Joins arrays along a specified axis.\n",
    "np.split(array, indices_or_sections): Splits an array into multiple sub-arrays.\n",
    "np.flatten(): Flattens a multi-dimensional array into a 1D array.\n",
    "Mathematical Operations\n",
    "np.sum(array, axis): Computes the sum along a specified axis.\n",
    "np.mean(array, axis): Computes the mean along a specified axis.\n",
    "np.median(array): Computes the median.\n",
    "np.std(array): Computes the standard deviation.\n",
    "np.dot(a, b): Computes the dot product of two arrays.\n",
    "np.sqrt(array): Computes the square root of each element.\n",
    "\n",
    "Indexing and Slicing\n",
    "array[index]: Accesses elements using indices.\n",
    "array[start:stop:step]: Slices the array.\n",
    "np.where(condition): Returns indices where the condition is true.\n",
    "np.take(array, indices): Extracts elements at specified indices.\n",
    "Random Number Generation\n",
    "np.random.rand(d0, d1, ...): Generates random numbers in [0, 1).\n",
    "np.random.randint(low, high, size): Generates random integers.\n",
    "np.random.normal(mean, std, size): Generates random numbers from a normal distribution.\n",
    "\n",
    "Logical Operations\n",
    "np.all(array, axis): Checks if all elements are true.\n",
    "np.any(array, axis): Checks if any element is true.\n",
    "np.logical_and(a, b): Performs element-wise logical AND.\n",
    "np.logical_or(a, b): Performs element-wise logical OR.\n",
    "These methods are just the tip of the iceberg! NumPy is incredibly versatile and powerful for numerical computations. Let me know if you'd like examples or further details on any of these! 😊\n",
    "\n"
   ]
  },
  {
   "cell_type": "code",
   "execution_count": null,
   "id": "c8180be2",
   "metadata": {},
   "outputs": [
    {
     "name": "stdout",
     "output_type": "stream",
     "text": [
      "Array of zeros with shape (3, 2) :\n",
      " [[0. 0.]\n",
      " [0. 0.]\n",
      " [0. 0.]]\n",
      "[[1 2]\n",
      " [3 4]\n",
      " [5 6]]\n",
      "[[[0. 0. 0. 0.]\n",
      "  [0. 0. 0. 0.]\n",
      "  [0. 0. 0. 0.]\n",
      "  [0. 0. 0. 0.]]\n",
      "\n",
      " [[0. 0. 0. 0.]\n",
      "  [0. 0. 0. 0.]\n",
      "  [0. 0. 0. 0.]\n",
      "  [0. 0. 0. 0.]]]\n",
      "[[0 0]\n",
      " [0 0]\n",
      " [0 0]]\n",
      "(2, 4, 4)\n"
     ]
    }
   ],
   "source": [
    "# Array Creation\n",
    "# np.array(): Creates an array from a list or tuple.\n",
    "# np.zeros(shape): Creates an array filled with zeros.\n",
    "# np.ones(shape): Creates an array filled with ones.\n",
    "# np.arange(start, stop, step): Creates an array with evenly spaced values.\n",
    "# np.linspace(start, stop, num): Creates an array with a specified number of evenly spaced values.\n",
    "# np.eye(n): Creates an identity matrix.\n",
    "\n",
    "# pip install numpy\n",
    "# shape, \n",
    "import numpy # as np\n",
    "\n",
    "\n",
    "arr_org  = numpy.array([ [1, 2], [3, 4], [5,6]])\n",
    "arr_zero = numpy.zeros([2,4,4])\n",
    "arr_zero_like  = numpy.zeros_like(arr_org)\n",
    "# numpy.zeros example\n",
    "arr_zeros = numpy.zeros(arr_org.shape)\n",
    "print(\"Array of zeros with shape\", arr_org.shape, \":\\n\", arr_zeros)\n",
    "\n",
    "print(arr_org)\n",
    "print(arr_zero)\n",
    "print(arr_zero_like)\n",
    "print(arr_zero.shape)\n",
    "\n"
   ]
  }
 ],
 "metadata": {
  "kernelspec": {
   "display_name": "Python 3",
   "language": "python",
   "name": "python3"
  },
  "language_info": {
   "codemirror_mode": {
    "name": "ipython",
    "version": 3
   },
   "file_extension": ".py",
   "mimetype": "text/x-python",
   "name": "python",
   "nbconvert_exporter": "python",
   "pygments_lexer": "ipython3",
   "version": "3.13.0"
  }
 },
 "nbformat": 4,
 "nbformat_minor": 5
}

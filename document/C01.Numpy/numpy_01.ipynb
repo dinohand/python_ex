{
 "cells": [
  {
   "cell_type": "markdown",
   "id": "e5efcae7",
   "metadata": {},
   "source": [
    "\n",
    "NumPy(\"넘파이\"라 읽는다)는 행렬이나 일반적으로 대규모 다차원 배열을 쉽게 처리할 수 있도록 지원하는 파이썬의 라이브러리이다. NumPy는 데이터 구조 외에도 수치 계산을 위해 효율적으로 구현된 기능을 제공한다\n",
    "- 위키백과(https://ko.wikipedia.org/wiki/NumPy)\n"
   ]
  },
  {
   "cell_type": "code",
   "execution_count": 11,
   "id": "75c79a85",
   "metadata": {},
   "outputs": [
    {
     "name": "stdout",
     "output_type": "stream",
     "text": [
      "[[ 1  4]\n",
      " [ 9 16]\n",
      " [25 36]]\n"
     ]
    }
   ],
   "source": [
    "import numpy as np\n",
    "\n",
    "\n",
    "a = np.array([ [1, 2], [3, 4], [5,6]])\n",
    "b = np.array([6, 7, 8, 9, 10]) \n",
    "al = [1, 2, 3, 4, 5]\n",
    "\n",
    "\n",
    "print (a ** 2)\n"
   ]
  },
  {
   "cell_type": "code",
   "execution_count": 13,
   "id": "89904e9e",
   "metadata": {},
   "outputs": [
    {
     "name": "stdout",
     "output_type": "stream",
     "text": [
      "1000\n"
     ]
    }
   ],
   "source": [
    "print ( 10 **3)"
   ]
  },
  {
   "cell_type": "code",
   "execution_count": 1,
   "id": "2556195c",
   "metadata": {},
   "outputs": [
    {
     "name": "stdout",
     "output_type": "stream",
     "text": [
      "Original Array: [1 2 3 4 5]\n",
      "Array + 2: [3 4 5 6 7]\n",
      "Array * 3: [ 3  6  9 12 15]\n",
      "Mean of Array: 3.0\n",
      "Sum of Array: 15\n",
      "\n",
      "2D Array (Matrix):\n",
      " [[1 2 3]\n",
      " [4 5 6]]\n",
      "Transposed Matrix:\n",
      " [[1 4]\n",
      " [2 5]\n",
      " [3 6]]\n",
      "Element-wise Multiplication:\n",
      " [[ 2  4  6]\n",
      " [ 8 10 12]]\n"
     ]
    }
   ],
   "source": [
    "import numpy as np   ## pip install numpy\n",
    "\n",
    "# Create a NumPy array\n",
    "array = np.array([1, 2, 3, 4, 5])\n",
    "\n",
    "# Perform basic operations\n",
    "print(\"Original Array:\", array)\n",
    "print(\"Array + 2:\", array + 2)  # Add 2 to each element\n",
    "print(\"Array * 3:\", array * 3)  # Multiply each element by 3\n",
    "print(\"Mean of Array:\", np.mean(array))  # Calculate the mean\n",
    "print(\"Sum of Array:\", np.sum(array))  # Calculate the sum\n",
    "\n",
    "# Create a 2D array\n",
    "matrix = np.array([[1, 2, 3], [4, 5, 6]])\n",
    "print(\"\\n2D Array (Matrix):\\n\", matrix)\n",
    "\n",
    "# Transpose the matrix\n",
    "print(\"Transposed Matrix:\\n\", matrix.T)\n",
    "\n",
    "# Element-wise multiplication\n",
    "print(\"Element-wise Multiplication:\\n\", matrix * 2)"
   ]
  },
  {
   "cell_type": "code",
   "execution_count": 2,
   "id": "23401853",
   "metadata": {},
   "outputs": [
    {
     "name": "stdout",
     "output_type": "stream",
     "text": [
      "(4,)\n",
      "(2, 3)\n",
      "1\n"
     ]
    }
   ],
   "source": [
    "import numpy as np\n",
    " \n",
    "list1 = [1, 2, 3, 4]\n",
    "a = np.array(list1)\n",
    "print(a.shape) # (4, )\n",
    " \n",
    "b = np.array([[1,2,3],[4,5,6]])\n",
    "print(b.shape) # (2, 3)\n",
    "print(b[0,0])  # 1    "
   ]
  },
  {
   "cell_type": "code",
   "execution_count": 3,
   "id": "7f43646f",
   "metadata": {},
   "outputs": [
    {
     "ename": "ModuleNotFoundError",
     "evalue": "No module named 'pandas'",
     "output_type": "error",
     "traceback": [
      "\u001b[1;31m---------------------------------------------------------------------------\u001b[0m",
      "\u001b[1;31mModuleNotFoundError\u001b[0m                       Traceback (most recent call last)",
      "Cell \u001b[1;32mIn[3], line 1\u001b[0m\n\u001b[1;32m----> 1\u001b[0m \u001b[38;5;28;01mimport\u001b[39;00m \u001b[38;5;21;01mpandas\u001b[39;00m \u001b[38;5;28;01mas\u001b[39;00m \u001b[38;5;21;01mpd\u001b[39;00m\n\u001b[0;32m      3\u001b[0m \u001b[38;5;66;03m# Create a pandas DataFrame from the NumPy array 'b'\u001b[39;00m\n\u001b[0;32m      4\u001b[0m df \u001b[38;5;241m=\u001b[39m pd\u001b[38;5;241m.\u001b[39mDataFrame(b, columns\u001b[38;5;241m=\u001b[39m[\u001b[38;5;124m'\u001b[39m\u001b[38;5;124mColumn1\u001b[39m\u001b[38;5;124m'\u001b[39m, \u001b[38;5;124m'\u001b[39m\u001b[38;5;124mColumn2\u001b[39m\u001b[38;5;124m'\u001b[39m, \u001b[38;5;124m'\u001b[39m\u001b[38;5;124mColumn3\u001b[39m\u001b[38;5;124m'\u001b[39m])\n",
      "\u001b[1;31mModuleNotFoundError\u001b[0m: No module named 'pandas'"
     ]
    }
   ],
   "source": [
    "import pandas as pd\n",
    "\n",
    "# Create a pandas DataFrame from the NumPy array 'b'\n",
    "df = pd.DataFrame(b, columns=['Column1', 'Column2', 'Column3'])\n",
    "\n",
    "# Add a new column to the DataFrame using the NumPy array 'a'\n",
    "df['NewColumn'] = a[:df.shape[0]]  # Use slicing to match the number of rows\n",
    "\n",
    "# Perform some operations on the DataFrame\n",
    "df['Sum'] = df.sum(axis=1)  # Add a new column with the sum of each row\n",
    "\n",
    "print(\"DataFrame created from NumPy array 'b':\\n\", df)"
   ]
  },
  {
   "cell_type": "code",
   "execution_count": 4,
   "id": "2ceb09ed",
   "metadata": {},
   "outputs": [
    {
     "name": "stdout",
     "output_type": "stream",
     "text": [
      "Collecting pandas\n",
      "  Downloading pandas-2.2.3-cp312-cp312-win_amd64.whl.metadata (19 kB)\n",
      "Requirement already satisfied: numpy>=1.26.0 in c:\\users\\jk.youk\\appdata\\local\\programs\\python\\python312\\lib\\site-packages (from pandas) (2.2.4)\n",
      "Requirement already satisfied: python-dateutil>=2.8.2 in c:\\users\\jk.youk\\appdata\\roaming\\python\\python312\\site-packages (from pandas) (2.9.0.post0)\n",
      "Collecting pytz>=2020.1 (from pandas)\n",
      "  Downloading pytz-2025.2-py2.py3-none-any.whl.metadata (22 kB)\n",
      "Collecting tzdata>=2022.7 (from pandas)\n",
      "  Downloading tzdata-2025.2-py2.py3-none-any.whl.metadata (1.4 kB)\n",
      "Requirement already satisfied: six>=1.5 in c:\\users\\jk.youk\\appdata\\roaming\\python\\python312\\site-packages (from python-dateutil>=2.8.2->pandas) (1.16.0)\n",
      "Downloading pandas-2.2.3-cp312-cp312-win_amd64.whl (11.5 MB)\n",
      "   ---------------------------------------- 0.0/11.5 MB ? eta -:--:--\n",
      "   ------------------- -------------------- 5.5/11.5 MB 23.9 MB/s eta 0:00:01\n",
      "   ------------------------------- -------- 9.2/11.5 MB 19.7 MB/s eta 0:00:01\n",
      "   ---------------------------------------  11.3/11.5 MB 17.6 MB/s eta 0:00:01\n",
      "   ---------------------------------------- 11.5/11.5 MB 15.0 MB/s eta 0:00:00\n",
      "Downloading pytz-2025.2-py2.py3-none-any.whl (509 kB)\n",
      "Downloading tzdata-2025.2-py2.py3-none-any.whl (347 kB)\n",
      "Installing collected packages: pytz, tzdata, pandas\n",
      "Successfully installed pandas-2.2.3 pytz-2025.2 tzdata-2025.2\n"
     ]
    }
   ],
   "source": [
    "!pip install pandas"
   ]
  }
 ],
 "metadata": {
  "kernelspec": {
   "display_name": "Python 3",
   "language": "python",
   "name": "python3"
  },
  "language_info": {
   "codemirror_mode": {
    "name": "ipython",
    "version": 3
   },
   "file_extension": ".py",
   "mimetype": "text/x-python",
   "name": "python",
   "nbconvert_exporter": "python",
   "pygments_lexer": "ipython3",
   "version": "3.12.3"
  }
 },
 "nbformat": 4,
 "nbformat_minor": 5
}

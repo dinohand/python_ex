{
 "cells": [
  {
   "cell_type": "markdown",
   "id": "fcb2f6ab",
   "metadata": {},
   "source": [
    "```python\n",
    "import numpy as np\n",
    "```\n",
    "\n",
    "``sh\n",
    "pip install numpy\n",
    "```\n",
    "\n",
    "\n",
    "np.nan ?\n",
    "\\\n",
    "\n",
    "\n",
    "tensor ==> (3차원이상의 ) 다차원 행렬을 의미미\n",
    "\n",
    "\n",
    "loc ==> 명식적 인덱스\n",
    "\n",
    "iloc ==> 순서 \n",
    "\n",
    "\n",
    "np.nan ::: 결측값"
   ]
  },
  {
   "cell_type": "code",
   "execution_count": null,
   "id": "e6dbacba",
   "metadata": {},
   "outputs": [],
   "source": [
    "import numpy as np"
   ]
  },
  {
   "cell_type": "code",
   "execution_count": null,
   "id": "9a5e55c1",
   "metadata": {},
   "outputs": [],
   "source": [
    "import numpy as np\n",
    "import pandas as pd\n",
    "\n",
    "\n",
    "pd.DataFrame"
   ]
  }
 ],
 "metadata": {
  "language_info": {
   "name": "python"
  }
 },
 "nbformat": 4,
 "nbformat_minor": 5
}

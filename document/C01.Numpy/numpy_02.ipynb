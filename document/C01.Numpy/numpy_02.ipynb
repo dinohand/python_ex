{
 "cells": [
  {
   "cell_type": "code",
   "execution_count": null,
   "id": "75c79a85",
   "metadata": {},
   "outputs": [
    {
     "name": "stdout",
     "output_type": "stream",
     "text": [
      "[[ 0  1  2  3]\n",
      " [ 4  5  6  7]\n",
      " [ 8  9 10 11]\n",
      " [12 13 14 15]\n",
      " [16 17 18 19]]\n",
      "6\n"
     ]
    }
   ],
   "source": [
    "import numpy as np\n",
    "\n",
    "\n",
    "a = np.arange(20).reshape(5, 4)\n",
    "print(a)\n",
    "print(a[1][2])\n"
   ]
  },
  {
   "cell_type": "code",
   "execution_count": null,
   "id": "b60583e3",
   "metadata": {},
   "outputs": [
    {
     "name": "stdout",
     "output_type": "stream",
     "text": [
      "[[1 2]\n",
      " [3 4]]\n",
      "nan\n",
      "0\n",
      "4\n"
     ]
    }
   ],
   "source": [
    "b = np.array([[1, 2], [3, 4]])\n",
    "print(b)\n",
    "print(np.nan)\n",
    "\n",
    "\n",
    "\n",
    "# vs list\n",
    "\n",
    "c = [1,2,3,4,5]\n",
    "# print(type(c))\n",
    "c[1] = c[1] * 2\n",
    "print(c[1])\n"
   ]
  },
  {
   "cell_type": "code",
   "execution_count": null,
   "id": "3ddeb67f",
   "metadata": {},
   "outputs": [],
   "source": [
    "## numpuy 함수\n",
    "\n",
    "## array 생성\n",
    "arr2 = np.array([[1, 2, 3, 4, 5], [2,3,4,5,6]] )  ## 2차원 배열\n",
    "\n",
    "arr3 = np.array([[1, 2, 3, 4, 5], [2,3,4,5,6], [3,4,5,6,7] ] )  ## 3차원 배열\n",
    "\n",
    "print('arr2=', arr2)\n",
    "print('arr3=', arr3)\n",
    "\n",
    "\n",
    "print( np.mean(arr2) )  ## 평균\n",
    "print( np.median(arr2) )  ## 중앙값\n",
    "print( np.std(arr2) )  ## 표준편차\n",
    "print( np.var(arr2) )  ## 분산\n",
    "\n",
    "print( np.sum(arr2) )  ## 합계\n",
    "print( np.max(arr3) )  ## 최대값\n",
    "print( np.min(arr2) )  ## 최소값\n",
    "print( np.argmax(arr2) )  ## 최대값의 인덱스\n",
    "print( np.argmin(arr2) )  ## 최소값의 인덱스\n"
   ]
  },
  {
   "cell_type": "code",
   "execution_count": 78,
   "id": "35f480f4",
   "metadata": {},
   "outputs": [
    {
     "name": "stdout",
     "output_type": "stream",
     "text": [
      "0   NaN\n",
      "1   NaN\n",
      "2   NaN\n",
      "Name: 비고, dtype: float64\n",
      "   A  B  C  D  합계    평균  비고\n",
      "1  2  6  7  8  23  5.75 NaN\n",
      "2  8  9  5  7  29  7.25 NaN\n"
     ]
    }
   ],
   "source": [
    "# pandas\n",
    "# pandas는 데이터 분석을 위한 라이브러리로, 데이터프레임(DataFrame)이라는 자료구조를 사용하여 데이터를 다룬다.\n",
    "import numpy as np\n",
    "import pandas as pd\n",
    "\n",
    "# a = np.random.rand(3, 4)  # 3x4 행렬 생성\n",
    "# print(a)\n",
    "\n",
    "b = np.random.randint(1, 10, (3, 4))  # 1부터 10까지의 정수로 이루어진 3x4 행렬 생성\n",
    "# print(b)\n",
    "\n",
    "\n",
    "# d = pd.DataFrame(b, columns=['A', 'B', 'C', 'D'], index=['row1', 'row2', 'row3'])\n",
    "df = pd.DataFrame(b, columns=['A', 'B', 'C', 'D'])\n",
    "# df.index = ['row1', 'row2', 'row3']  \n",
    "# print(d['A'])  # 'A' 열 선택\n",
    "\n",
    "# da = d['A']\n",
    "# print(da)  # 'A' 열 선택\n",
    "\n",
    "\n",
    "\n",
    "df['합계'] = df['A'] +  df['B'] + df['C'] +  df['D']\n",
    "df['평균'] = round(df['합계'] / 4, 2)\n",
    "df['비고'] = np.nan\n",
    "\n",
    "print(df['비고'])\n",
    "# df\n",
    "\n",
    "# df[ df['평균'] > 5]\n",
    "# print(df2)\n",
    "\n",
    "\n",
    "df2 = df[ df.평균 > 5]\n",
    "print(df2)\n",
    "\n",
    "# df"
   ]
  },
  {
   "cell_type": "markdown",
   "id": "58ae4ae8",
   "metadata": {},
   "source": [
    "결측값 np.nan\n"
   ]
  },
  {
   "cell_type": "code",
   "execution_count": null,
   "id": "6b60a427",
   "metadata": {},
   "outputs": [],
   "source": [
    "# 결측값 다루기\n",
    "# inplace = True : 원본 데이터프레임을 수정\n",
    "# inplace = False : 원본 데이터프레임을 수정하지 않고 새로운 데이터프레임을 반환\n",
    "\n",
    "np.dropna(df, axis=0, inplace=True)  # 결측값이 있는 행 삭제\n",
    "np.fillna(df, 0, inplace=True)  # 결측값을 0으로 대체\n"
   ]
  },
  {
   "cell_type": "code",
   "execution_count": null,
   "id": "35357430",
   "metadata": {},
   "outputs": [],
   "source": [
    "# 멀티 인덱스\n",
    "# 멀티 인덱스는 데이터프레임의 행 인덱스에 여러 개의 레벨을 추가하여 계층적인 구조를 만드는 방법이다.\n",
    "# 멀티 컬럼\n",
    "\n",
    "\n"
   ]
  }
 ],
 "metadata": {
  "kernelspec": {
   "display_name": "Python 3",
   "language": "python",
   "name": "python3"
  },
  "language_info": {
   "codemirror_mode": {
    "name": "ipython",
    "version": 3
   },
   "file_extension": ".py",
   "mimetype": "text/x-python",
   "name": "python",
   "nbconvert_exporter": "python",
   "pygments_lexer": "ipython3",
   "version": "3.12.3"
  }
 },
 "nbformat": 4,
 "nbformat_minor": 5
}

{
 "cells": [
  {
   "cell_type": "code",
   "execution_count": null,
   "metadata": {},
   "outputs": [
    {
     "name": "stdout",
     "output_type": "stream",
     "text": [
      "<class 'int'> <class 'str'>\n",
      "str casting :  (10+1j) <class 'complex'> (10+1j) <class 'str'>\n",
      "bool casting :  True False\n",
      "bool casting :  True\n",
      "float casting :  1.001 0.0 1.0\n",
      "int casting :  1 1 1\n",
      "int casting / round:  2\n"
     ]
    }
   ],
   "source": [
    "# Python에서의 castingdms 다른 데이터 형태로 변환하는 것을 말함\n",
    "\n",
    "# str(): 문자로 변환\n",
    "a = 123\n",
    "print(type(a), type(str(a)))\n",
    "\n",
    "b = 10 +1j\n",
    "print('str casting : ', b, type(b), str(b), type(str(b)))\n",
    "\n",
    "# bool\n",
    "a = 1   # if a != 0 =>  True\n",
    "b = 0.0   # if b == 0 then False\n",
    "print('bool casting : ', bool(a), bool(b))\n",
    "\n",
    "c = 'False'   # 문자는 True\n",
    "print('bool casting : ', bool(c))\n",
    "\n",
    "\n",
    "# float\n",
    "# real number 가능, 허수는 안됨\n",
    "# Boolean 가능\n",
    "# \n",
    "a = '1.001'\n",
    "b =  0\n",
    "c = True\n",
    "\n",
    "print('float casting : ',float(a), float(b), float(c))\n",
    "\n",
    "# int\n",
    "a = '1'\n",
    "b =  1.614   # 소수점 이하는 모두 절삭되어 변환된다\n",
    "c = True\n",
    "\n",
    "print('int casting : ', int(a), int(b), int(c))\n",
    "print('int casting / round: ', int(round(b)) , int(round(b) ))\n",
    "\n",
    "\n",
    "# # complex\n",
    "# # complex는 real 또는 imag 부분을 문리해서 casting할 수 있담담\n",
    "# a = 10 + 1j\n",
    "# b = a * a\n",
    "# print('complex casting : ',b, float(d.real), int(d.imag))\n",
    "\n",
    "# c = 20\n",
    "# print('complex casting : ', complex(c))\n"
   ]
  }
 ],
 "metadata": {
  "kernelspec": {
   "display_name": "Python 3",
   "language": "python",
   "name": "python3"
  },
  "language_info": {
   "codemirror_mode": {
    "name": "ipython",
    "version": 3
   },
   "file_extension": ".py",
   "mimetype": "text/x-python",
   "name": "python",
   "nbconvert_exporter": "python",
   "pygments_lexer": "ipython3",
   "version": "3.12.3"
  }
 },
 "nbformat": 4,
 "nbformat_minor": 2
}

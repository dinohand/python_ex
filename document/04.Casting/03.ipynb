{
 "cells": [
  {
   "cell_type": "code",
   "execution_count": 16,
   "id": "fc59120d",
   "metadata": {},
   "outputs": [
    {
     "name": "stdout",
     "output_type": "stream",
     "text": [
      "c는 Parent의 인스턴스입니다.\n",
      "c는 Child의 타입입니다.\n"
     ]
    }
   ],
   "source": [
    "# 부모 클래스\n",
    "class Parent:\n",
    "    pass\n",
    "\n",
    "# 자식 클래스 : 부모 클래스를 상속받음\n",
    "class Child(Parent):\n",
    "    pass\n",
    "\n",
    "p = Parent()\n",
    "c = Child()\n",
    "\n",
    "if isinstance(c, Parent):\n",
    "    print(\"c는 Parent의 인스턴스입니다.\")\n",
    "\n",
    "if type(c) is Parent:\n",
    "    print(\"c는 Parent의 타입입니다.\")\n",
    "elif type(c) is Child:\n",
    "    print(\"c는 Child의 타입입니다.\")\n",
    "else:\n",
    "    pass\n",
    "\n"
   ]
  }
 ],
 "metadata": {
  "kernelspec": {
   "display_name": "Python 3",
   "language": "python",
   "name": "python3"
  },
  "language_info": {
   "codemirror_mode": {
    "name": "ipython",
    "version": 3
   },
   "file_extension": ".py",
   "mimetype": "text/x-python",
   "name": "python",
   "nbconvert_exporter": "python",
   "pygments_lexer": "ipython3",
   "version": "3.12.3"
  }
 },
 "nbformat": 4,
 "nbformat_minor": 5
}

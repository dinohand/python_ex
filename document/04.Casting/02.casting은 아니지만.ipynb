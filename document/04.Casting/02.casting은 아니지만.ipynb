{
 "cells": [
  {
   "cell_type": "code",
   "execution_count": null,
   "metadata": {},
   "outputs": [
    {
     "name": "stdout",
     "output_type": "stream",
     "text": [
      "3.142\n",
      "4\n",
      "3\n"
     ]
    }
   ],
   "source": [
    "# round, ceil, floor\n",
    "\n",
    "# round 반올림\n",
    "\n",
    "p = 3.1415926535\n",
    "print(round(p,3))  # 소수점이하 3자리까지 반올림함\n",
    "\n",
    "\n",
    "# ceil / floor : 가까운 정수로 올려서/내려서 변환\n",
    "# ceil 가까운 정수로 올림\n",
    "# floor 가까운 정수로 올림\n",
    "# 내장함수가 아님. math를 import하여야 함\n",
    "import math\n",
    "\n",
    "print(math.ceil(p)) \n",
    "print(math.floor(p)) "
   ]
  },
  {
   "cell_type": "markdown",
   "metadata": {},
   "source": []
  }
 ],
 "metadata": {
  "kernelspec": {
   "display_name": "Python 3",
   "language": "python",
   "name": "python3"
  },
  "language_info": {
   "codemirror_mode": {
    "name": "ipython",
    "version": 3
   },
   "file_extension": ".py",
   "mimetype": "text/x-python",
   "name": "python",
   "nbconvert_exporter": "python",
   "pygments_lexer": "ipython3",
   "version": "3.12.3"
  }
 },
 "nbformat": 4,
 "nbformat_minor": 2
}

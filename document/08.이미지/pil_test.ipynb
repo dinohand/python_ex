{
 "cells": [
  {
   "cell_type": "markdown",
   "metadata": {},
   "source": [
    "# PIL => pip install Pillow\n",
    "\n",
    "https://pillow.readthedocs.io/en/stable/\n",
    "\n",
    "예제 참조 : https://pillow.readthedocs.io/en/stable/handbook/tutorial.html\n",
    "\n",
    "\n"
   ]
  },
  {
   "cell_type": "code",
   "execution_count": 12,
   "metadata": {},
   "outputs": [
    {
     "name": "stdout",
     "output_type": "stream",
     "text": [
      "JPEG (1200, 800) RGB\n"
     ]
    }
   ],
   "source": [
    "from PIL import Image\n",
    "\n",
    "# local image file open\n",
    "img_file = '../test.jpg'\n",
    "\n",
    "img = PIL.Image.open(img_file)\n",
    "\n",
    "print(img.format, img.size, img.mode)\n",
    "\n",
    "img.show()\n",
    "img.close()"
   ]
  },
  {
   "cell_type": "code",
   "execution_count": 16,
   "metadata": {},
   "outputs": [],
   "source": [
    "# image convert\n",
    "from PIL import Image\n",
    "\n",
    "# local image file open\n",
    "img_file = '../test.jpg'\n",
    "\n",
    "with Image.open(img_file) as img:\n",
    "    img.save('../test.png')\n"
   ]
  },
  {
   "cell_type": "code",
   "execution_count": null,
   "metadata": {},
   "outputs": [],
   "source": [
    "# image convert\n",
    "from PIL import Image\n",
    "\n",
    "# local image file open\n",
    "img_file = '../test.jpg'\n",
    "\n",
    "img = Image.open(img_file)\n",
    "img.show()                      ## 원본 사이즈\n",
    "\n",
    "img.thumbnail((128,128))        ## thumnail 사이즈\n",
    "img.show()\n"
   ]
  },
  {
   "cell_type": "code",
   "execution_count": 19,
   "metadata": {},
   "outputs": [],
   "source": [
    "# url을 통한 image file\n",
    "\n",
    "from PIL import Image\n",
    "from urllib.request import urlopen\n",
    "\n",
    "\n",
    "# import base64\n",
    "# import requests\n",
    "# from io import BytesIO\n",
    "\n",
    "img_url = 'https://www.google.com/images/branding/googlelogo/2x/googlelogo_color_272x92dp.png'\n",
    "\n",
    "img = Image.open(urlopen(img_url))   ## 'PIL.PngImagePlugin.PngImageFile을 만든다\n",
    "try:\n",
    "    img.save('../test_url.png')\n",
    "except Exception as e:\n",
    "    print(e)\n"
   ]
  },
  {
   "cell_type": "code",
   "execution_count": null,
   "metadata": {},
   "outputs": [],
   "source": [
    "# bit image <=> array \n",
    "\n",
    "\n",
    "from PIL import Image\n",
    "import numpy as np\n",
    "\n",
    "# Open an image file\n",
    "img = Image.open('../square.png')\n",
    "\n",
    "width, height = img.size   ## img의 size (tuple 타입) 속성\n",
    "# img.show()\n",
    "\n",
    "print (width, height)\n",
    "# Convert the image to a NumPy array\n",
    "image_array = np.array(img)\n",
    "\n",
    "## array -> Image\n",
    "arr2im = Image.fromarray(image_array)\n",
    "# arr2im.show()\n",
    "\n",
    "print(image_array)\n",
    "\n",
    "# for i in  image_array:\n",
    "    \n",
    "#     break\n",
    "# # print(image_array)"
   ]
  }
 ],
 "metadata": {
  "kernelspec": {
   "display_name": "Python 3",
   "language": "python",
   "name": "python3"
  },
  "language_info": {
   "codemirror_mode": {
    "name": "ipython",
    "version": 3
   },
   "file_extension": ".py",
   "mimetype": "text/x-python",
   "name": "python",
   "nbconvert_exporter": "python",
   "pygments_lexer": "ipython3",
   "version": "3.12.3"
  }
 },
 "nbformat": 4,
 "nbformat_minor": 2
}

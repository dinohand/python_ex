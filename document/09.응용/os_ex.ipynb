{
 "cells": [
  {
   "cell_type": "code",
   "execution_count": null,
   "metadata": {},
   "outputs": [
    {
     "name": "stdout",
     "output_type": "stream",
     "text": [
      "현재 디렉토리는 \"c:\\Git\"입니다\n",
      "c:\\Git\n",
      "현재 디렉토리는 \"c:\\Git\"입니다\n"
     ]
    }
   ],
   "source": [
    "import os\n",
    "\n",
    "## os.getcwd() / getcwdb() : 바이트형식\n",
    "## Get Current Working Directory:\n",
    "print(f'현재 디렉토리는 \"{os.getcwd()}\"입니다' )\n",
    "\n",
    "print(os.path.abspath('.'))\n",
    "\n",
    "## Change working directory\n",
    "print(f'change directory \"{os.chdir('../')}\"입니다' )\n",
    "print(f'현재 디렉토리는 \"{os.getcwd()}\"입니다' )\n"
   ]
  },
  {
   "cell_type": "code",
   "execution_count": null,
   "metadata": {},
   "outputs": [
    {
     "name": "stdout",
     "output_type": "stream",
     "text": [
      "파일명 : os_ex.ipynb \n",
      "크기- 2570 byte ,\n",
      "생성일 - 1743055657.803018,\n",
      "수정일 - 2025-03-27 15:32:30.327182\n",
      "            \n",
      "파일명 : smtp_test.ipynb \n",
      "크기- 21311 byte ,\n",
      "생성일 - 1742789530.3812857,\n",
      "수정일 - 2025-03-27 15:07:43.770694\n",
      "            \n"
     ]
    }
   ],
   "source": [
    "# https://ko.ittrip.xyz/python/python-file-metadata-attributes 참조조\n",
    "import os\n",
    "import datetime ## datetime.datetime.fromtimestamp : float datetile(timestamp)을 날짜형으로 변환해줌\n",
    "\n",
    "CR = '\\n'\n",
    "\n",
    "path = \"./\"\n",
    "file_list = os.listdir(path)\n",
    "\n",
    "for f in file_list:\n",
    "    file_path = path + f\n",
    "    print(f'''파일명 : {f} {CR}크기- {os.path.getsize(file_path)} byte ,{CR}생성일 - {datetime.datetime.fromtimestamp( os.path.getctime(file_path))},{CR}수정일 - { datetime.datetime.fromtimestamp(os.path.getmtime(file_path))}\n",
    "\n",
    "            ''')"
   ]
  },
  {
   "cell_type": "code",
   "execution_count": null,
   "metadata": {},
   "outputs": [
    {
     "name": "stdout",
     "output_type": "stream",
     "text": [
      "datetime_ex.ipynb : \t33206 \t-rw-rw-rw- \t1743058236.0844667\n",
      "os_ex.ipynb : \t33206 \t-rw-rw-rw- \t1743055657.803018\n",
      "smtp_test.ipynb : \t33206 \t-rw-rw-rw- \t1742789530.3812857\n"
     ]
    }
   ],
   "source": [
    "## 함수를 사용하여 지정한 파일의 메타데이터 가져오기기\n",
    "## List Directory Contents:\n",
    "\n",
    "import os\n",
    "import stat\n",
    "\n",
    "path = \"./\"\n",
    "file_list = os.listdir(path)\n",
    "\n",
    "for f in file_list:\n",
    "    file_stat = os.stat(path + f)\n",
    "    readable_mode = stat.filemode( file_stat.st_mode )\n",
    "    print(f'''{f} : \\t{file_stat.st_mode} \\t{readable_mode} \\t{file_stat.st_ctime}''')\n"
   ]
  },
  {
   "cell_type": "code",
   "execution_count": null,
   "metadata": {},
   "outputs": [
    {
     "name": "stdout",
     "output_type": "stream",
     "text": [
      "Found\n"
     ]
    }
   ],
   "source": [
    "## 파일 존재 여부 파악악\n",
    "import os\n",
    "\n",
    "fname = 'test.txt'\n",
    "fpath = os.getcwd() + '/' + fname\n",
    "\n",
    "if os.path.exists(fpath):   ## 파일이 존재하면면\n",
    "    print('Found')\n",
    "    os.rename(fpath, fpath + '_renamed')\n",
    "else:                       ## 파일이 존재하지 않으면\n",
    "    print('Not Found')"
   ]
  },
  {
   "cell_type": "code",
   "execution_count": null,
   "metadata": {},
   "outputs": [],
   "source": [
    "import os\n",
    "\n",
    "## rename\n",
    "os.rename(old_name, new_name)\n",
    "\n",
    "## remove\n",
    "os.remove()\n"
   ]
  },
  {
   "cell_type": "code",
   "execution_count": 47,
   "metadata": {},
   "outputs": [
    {
     "name": "stdout",
     "output_type": "stream",
     "text": [
      "Found\n"
     ]
    }
   ],
   "source": [
    "# file copy 두 가지\n",
    "\n",
    "# 방법 1 - 파일을 읽어서 새로운 파일에 쓴다\n",
    "\n",
    "## 파일 존재 여부 파악악\n",
    "import os\n",
    "\n",
    "fname = 'test.txt'\n",
    "fpath = os.getcwd() + '/' + fname\n",
    "nfpath = os.getcwd() + '/new_' + fname\n",
    "\n",
    "if os.path.exists(fpath):   ## 파일이 존재하면면\n",
    "    print('Found')\n",
    "    with open(fpath, 'rb') as src:\n",
    "        with open(nfpath, 'wb') as dest:\n",
    "            dest.write(src.read())                ## byte로 파일에 쓴다\n",
    "            ## 파일 끝에 '==fine==' 문자열을 추가한다\n",
    "            dest.write(b'\\n==fine==')             ## byte형\n",
    "            \n",
    "else:                       ## 파일이 존재하지 않으면\n",
    "    print('Not Found')"
   ]
  },
  {
   "cell_type": "code",
   "execution_count": null,
   "metadata": {},
   "outputs": [
    {
     "name": "stdout",
     "output_type": "stream",
     "text": [
      "Found\n"
     ]
    }
   ],
   "source": [
    "# file copy 두 가지\n",
    "\n",
    "# 방법 2 - shutil\n",
    "\n",
    "## 파일 존재 여부 파악악\n",
    "import os, shutil\n",
    "\n",
    "fname = 'test.txt'\n",
    "fpath = os.getcwd() + '/' + fname\n",
    "nfpath = os.getcwd() + '/new_' + fname\n",
    "\n",
    "if os.path.exists(fpath):   ## 파일이 존재하면면\n",
    "    print('Found')\n",
    "    shutil.copyfile(fpath, nfpath)\n",
    "            \n",
    "else:                       ## 파일이 존재하지 않으면\n",
    "    print('Not Found')"
   ]
  },
  {
   "cell_type": "code",
   "execution_count": null,
   "metadata": {},
   "outputs": [],
   "source": [
    "\n",
    "\n",
    "Copy the code\n",
    "home_dir = os.getenv('HOME')\n",
    "print(\"Home Directory:\", home_dir)\n",
    "Set an Environment Variable:\n",
    "\n",
    "\n",
    "Copy the code\n",
    "os.environ['MY_VAR'] = 'my_value'\n",
    "4. Path Manipulations\n",
    "Join Paths:\n",
    "\n",
    "\n",
    "Copy the code\n",
    "full_path = os.path.join('/path/to/directory', 'file.txt')\n",
    "print(\"Full Path:\", full_path)\n",
    "Split Path:\n",
    "\n",
    "\n",
    "Copy the code\n",
    "directory, file_name = os.path.split('/path/to/directory/file.txt')\n",
    "print(\"Directory:\", directory)\n",
    "print(\"File Name:\", file_name)\n",
    "5. System Commands\n",
    "Execute a System Command:\n",
    "\n",
    "Copy the code\n",
    "os.system('echo Hello, World!')\n",
    "These are just a few examples of what you can do with the os module. It's a powerful tool for interacting with the operating system in a platform-independent way. If you have any specific tasks in mind, feel free to ask!\n"
   ]
  }
 ],
 "metadata": {
  "kernelspec": {
   "display_name": "Python 3",
   "language": "python",
   "name": "python3"
  },
  "language_info": {
   "codemirror_mode": {
    "name": "ipython",
    "version": 3
   },
   "file_extension": ".py",
   "mimetype": "text/x-python",
   "name": "python",
   "nbconvert_exporter": "python",
   "pygments_lexer": "ipython3",
   "version": "3.12.3"
  }
 },
 "nbformat": 4,
 "nbformat_minor": 2
}

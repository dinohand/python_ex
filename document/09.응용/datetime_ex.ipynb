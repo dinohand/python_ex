{
 "cells": [
  {
   "cell_type": "markdown",
   "metadata": {},
   "source": [
    "참조 : https://datascienceschool.net/01%20python/02.15%20%ED%8C%8C%EC%9D%B4%EC%8D%AC%EC%97%90%EC%84%9C%20%EB%82%A0%EC%A7%9C%EC%99%80%20%EC%8B%9C%EA%B0%84%20%EB%8B%A4%EB%A3%A8%EA%B8%B0.html\n",
    "\n",
    "날짜 및 시간 지정 문자열\n",
    "\n",
    "%Y 앞의 빈자리를 0으로 채우는 4자리 연도 숫자\n",
    "%m 앞의 빈자리를 0으로 채우는 2자리 월 숫자\n",
    "%d 앞의 빈자리를 0으로 채우는 2자리 일 숫자\n",
    "\n",
    "%H 앞의 빈자리를 0으로 채우는 24시간 형식 2자리 시간 숫자\n",
    "%M 앞의 빈자리를 0으로 채우는 2자리 분 숫자\n",
    "%S 앞의 빈자리를 0으로 채우는 2자리 초 숫자\n",
    "\n",
    "%A 영어로 된 요일 문자열\n",
    "%B 영어로 된 월 문자열"
   ]
  },
  {
   "cell_type": "code",
   "execution_count": null,
   "metadata": {},
   "outputs": [
    {
     "name": "stdout",
     "output_type": "stream",
     "text": [
      "2025-03-27 16:21:33.899745\n",
      "2025년 03월 27일 Thursday\n",
      "3\n"
     ]
    }
   ],
   "source": [
    "# 날짜/시간 관련\n",
    "\n",
    "import datetime\n",
    "\n",
    "now = datetime.datetime.now()\n",
    "print(now)\n",
    "print(now.strftime(\"%Y년 %m월 %d일 %A\"))\n",
    "\n"
   ]
  },
  {
   "cell_type": "code",
   "execution_count": 30,
   "metadata": {},
   "outputs": [
    {
     "name": "stdout",
     "output_type": "stream",
     "text": [
      "2025-03-27 16시 26분 목요일\n"
     ]
    }
   ],
   "source": [
    "# weekday: 요일 반환 (0:월, 1:화, 2:수, 3:목, 4:금, 5:토, 6:일)\n",
    "# strftime: 문자열 반환\n",
    "# date: 날짜 정보만 가지는 date 클래스 객체 반환\n",
    "# time: 시간 정보만 가지는 time 클래스 객체 반환\n",
    "\n",
    "import datetime\n",
    "\n",
    "wd = ['월','화','수','목','금','토','일']\n",
    "now = datetime.datetime.now()\n",
    "print(now.date(), now.strftime('%H시 %M분'), f\"{wd[now.weekday()]}요일\")\n",
    "\n"
   ]
  },
  {
   "cell_type": "code",
   "execution_count": null,
   "metadata": {},
   "outputs": [
    {
     "name": "stdout",
     "output_type": "stream",
     "text": [
      "2016-04-16 00:00:00\n"
     ]
    }
   ],
   "source": [
    "import dateutil\n",
    "print(dateutil.parser.parse('2016-04-16') )\n"
   ]
  },
  {
   "cell_type": "code",
   "execution_count": 40,
   "metadata": {},
   "outputs": [
    {
     "name": "stdout",
     "output_type": "stream",
     "text": [
      "2000-01-03 00:00:00\n",
      "22095 days, 16:33:02.106179\n"
     ]
    }
   ],
   "source": [
    "## 날짜 연산\n",
    "dt = datetime.datetime(2000, 1, 1)\n",
    "dt = dt + datetime.timedelta(days = 2)   ## dt에 2일을 더한다\n",
    "print(dt)\n",
    "\n",
    "\n",
    "## \n",
    "bday = datetime.datetime(1964, 9, 28)\n",
    "gday = datetime.datetime.now() - bday\n",
    "\n",
    "print(gday)\n"
   ]
  },
  {
   "cell_type": "code",
   "execution_count": null,
   "metadata": {},
   "outputs": [
    {
     "name": "stdout",
     "output_type": "stream",
     "text": [
      "파일명 : datetime_ex.ipynb \n",
      "크기- 0 byte ,\n",
      "생성일 - 2025-03-27 15:50:36.084467,\n",
      "수정일 - 2025-03-27 15:50:36.084467\n",
      "            \n",
      "파일명 : os_ex.ipynb \n",
      "크기- 2570 byte ,\n",
      "생성일 - 2025-03-27 15:07:37.803018,\n",
      "수정일 - 2025-03-27 15:32:30.327182\n",
      "            \n",
      "파일명 : smtp_test.ipynb \n",
      "크기- 21311 byte ,\n",
      "생성일 - 2025-03-24 13:12:10.381286,\n",
      "수정일 - 2025-03-27 15:07:43.770694\n",
      "            \n"
     ]
    }
   ],
   "source": [
    "# https://ko.ittrip.xyz/python/python-file-metadata-attributes 참조조\n",
    "import os\n",
    "import datetime ## datetime.datetime.fromtimestamp : float datetile(timestamp)을 날짜형으로 변환해줌\n",
    "\n",
    "CR = '\\n'\n",
    "\n",
    "path = \"./\"\n",
    "file_list = os.listdir(path)\n",
    "\n",
    "for f in file_list:\n",
    "    file_path = path + f\n",
    "    print(f'''파일명 : {f} {CR}크기 : {os.path.getsize(file_path)} byte ,{CR}생성일 - {datetime.datetime.fromtimestamp( os.path.getctime(file_path))},{CR}수정일 - { datetime.datetime.fromtimestamp(os.path.getmtime(file_path))}\n",
    "            ''')"
   ]
  }
 ],
 "metadata": {
  "kernelspec": {
   "display_name": "Python 3",
   "language": "python",
   "name": "python3"
  },
  "language_info": {
   "codemirror_mode": {
    "name": "ipython",
    "version": 3
   },
   "file_extension": ".py",
   "mimetype": "text/x-python",
   "name": "python",
   "nbconvert_exporter": "python",
   "pygments_lexer": "ipython3",
   "version": "3.12.3"
  }
 },
 "nbformat": 4,
 "nbformat_minor": 2
}

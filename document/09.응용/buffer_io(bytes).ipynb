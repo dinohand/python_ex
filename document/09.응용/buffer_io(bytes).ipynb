{
 "cells": [
  {
   "cell_type": "code",
   "execution_count": null,
   "metadata": {},
   "outputs": [
    {
     "name": "stdout",
     "output_type": "stream",
     "text": [
      "<class 'bytes'>\n",
      "bytes: b'\\xec\\x95\\x88\\xeb\\x85\\x95\\xed\\x95\\x98\\xec\\x84\\xb8\\xec\\x9a\\x94'\n",
      "str:안녕하세요\n"
     ]
    }
   ],
   "source": [
    "## 메모리 파일 다루기기\n",
    "import io\n",
    "\n",
    "# body_content = b'abc123456'\n",
    "message = '안녕하세요'\n",
    "\n",
    "# str 2 bytes\n",
    "# 1\n",
    "# body_content = bytes(message, 'utf-8')    ## bytes(string, encoding)를 이용하여 string을 bytes로 변경\n",
    "# 2\n",
    "body_content = message.encode('utf-8')\n",
    "\n",
    "print(type(body_content))\n",
    "\n",
    "buffer = io.BytesIO()        ## BytesIO 객체 생성\n",
    "buffer.write(body_content)   ## 파라메터로 bytes 데이터를 받는다\n",
    "\n",
    "buffer.seek(0)\n",
    "\n",
    "# buffer.close()  ## close하면 파일에 접근할 수 없다\n",
    "\n",
    "# print(buffer.read())\n",
    "bstr =buffer.read() \n",
    "print(f\"bytes: {bstr}\")      ## bytes 출력\n",
    "print(f\"str:{bstr.decode('utf-8')}\")  ## bytes 2 str 변환 후 출력\n",
    "\n",
    "\n"
   ]
  },
  {
   "cell_type": "code",
   "execution_count": 1,
   "metadata": {},
   "outputs": [
    {
     "name": "stdout",
     "output_type": "stream",
     "text": [
      "PNG (544, 184) RGBA\n"
     ]
    }
   ],
   "source": [
    "## 응용\n",
    "\n",
    "## buffer 메모리를 파일로 저장하기\n",
    "\n",
    "from PIL import Image                         #  Python의 Pillow 라이브러리\n",
    "from urllib.request import urlopen\n",
    "\n",
    "\n",
    "# import base64\n",
    "# import requests\n",
    "# from io import BytesIO\n",
    "\n",
    "img_url = 'https://www.google.com/images/branding/googlelogo/2x/googlelogo_color_272x92dp.png'\n",
    "\n",
    "img = Image.open(urlopen(img_url))   ## 'PIL.PngImagePlugin.PngImageFile을 만든다다\n",
    "\n",
    "\n",
    "# 이미지 정보 출력\n",
    "print(img.format, img.size, img.mode)\n",
    "\n",
    "\n",
    "local_img = 'test_google.png'\n",
    "img.show()                      ## 파일을 보여준다\n",
    "\n",
    "## image 파일을 local에 저장한다\n",
    "img.save(local_img)\n",
    "\n",
    "\n",
    "img2 = Image.open(local_img)\n",
    "img2.show()\n"
   ]
  },
  {
   "cell_type": "code",
   "execution_count": 1,
   "metadata": {},
   "outputs": [
    {
     "name": "stdout",
     "output_type": "stream",
     "text": [
      "안녕하세요\n"
     ]
    }
   ],
   "source": [
    "import io\n",
    "\n",
    "\n",
    "message = '안녕하세요'\n",
    "b_message = message.encode('utf-8')  # Convert string to bytes \n",
    "\n",
    "# Create an in-memory file object\n",
    "file_object = io.BytesIO()\n",
    "# Write data to the file object\n",
    "\n",
    "file_object.write(b_message)\n",
    "# Seek to the beginning of the file object\n",
    "file_object.seek(0)\n",
    "# Read the contents of the file object\n",
    "data = file_object.read()\n",
    "# Print the contents\n",
    "print(data.decode())\n",
    "\n",
    "with open('buffred_io.txt', 'wb') as f:\n",
    "    file_object.seek(0)  # Reset the pointer to the beginning\n",
    "    f.write(file_object.read())  # Write the contents to a file\n",
    "# Close the BytesIO object\n",
    "file_object.close()\n"
   ]
  }
 ],
 "metadata": {
  "kernelspec": {
   "display_name": "Python 3",
   "language": "python",
   "name": "python3"
  },
  "language_info": {
   "codemirror_mode": {
    "name": "ipython",
    "version": 3
   },
   "file_extension": ".py",
   "mimetype": "text/x-python",
   "name": "python",
   "nbconvert_exporter": "python",
   "pygments_lexer": "ipython3",
   "version": "3.12.3"
  }
 },
 "nbformat": 4,
 "nbformat_minor": 2
}

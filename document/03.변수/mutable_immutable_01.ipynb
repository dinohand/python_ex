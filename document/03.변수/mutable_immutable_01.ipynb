{
 "cells": [
  {
   "cell_type": "code",
   "execution_count": null,
   "id": "1bd8dc21",
   "metadata": {},
   "outputs": [
    {
     "name": "stdout",
     "output_type": "stream",
     "text": [
      "immutable i =  10\n",
      "mutable ls =  [1, 2, 3, 4]\n"
     ]
    }
   ],
   "source": [
    "# mutable vs immutable / call by reference vs call by value\n",
    "i = 10       # int\n",
    "ls = [1,2,3]  # list\n",
    "\n",
    "# argument : mutable object\n",
    "# Call by Reference로 호출됨\n",
    "def mutable_func(myList):\n",
    "    myList.append(4)\n",
    "\n",
    "# argument : immutable object\n",
    "def immutable_func(myInt):\n",
    "    myInt = myInt + 10\n",
    "\n",
    "# immutable object인 i 출력\n",
    "immutable_func(i)\n",
    "print(\"immutable i = \", i)\n",
    "\n",
    "# mutable object인 ls 출력\n",
    "mutable_func(ls)\n",
    "print(\"mutable ls = \", ls)"
   ]
  },
  {
   "cell_type": "code",
   "execution_count": null,
   "id": "3cd3da29",
   "metadata": {},
   "outputs": [
    {
     "name": "stdout",
     "output_type": "stream",
     "text": [
      "Bill\n"
     ]
    },
    {
     "ename": "",
     "evalue": "",
     "output_type": "error",
     "traceback": [
      "\u001b[1;31mThe Kernel crashed while executing code in the current cell or a previous cell. \n",
      "\u001b[1;31mPlease review the code in the cell(s) to identify a possible cause of the failure. \n",
      "\u001b[1;31mClick <a href='https://aka.ms/vscodeJupyterKernelCrash'>here</a> for more info. \n",
      "\u001b[1;31mView Jupyter <a href='command:jupyter.viewOutput'>log</a> for further details."
     ]
    }
   ],
   "source": [
    "# if = 1           # 예약어 사용\n",
    "str = 'Bill'     # 데이터 형(Data Type) 이름 사용\n",
    "# 1var = 2         # variable이 숫자로 시작됨\n",
    "# @_@_me = '누구'  # 특수문자 사용\n",
    "\n",
    "print(str)\n"
   ]
  }
 ],
 "metadata": {
  "kernelspec": {
   "display_name": "Python 3",
   "language": "python",
   "name": "python3"
  },
  "language_info": {
   "codemirror_mode": {
    "name": "ipython",
    "version": 3
   },
   "file_extension": ".py",
   "mimetype": "text/x-python",
   "name": "python",
   "nbconvert_exporter": "python",
   "pygments_lexer": "ipython3",
   "version": "3.12.3"
  }
 },
 "nbformat": 4,
 "nbformat_minor": 5
}

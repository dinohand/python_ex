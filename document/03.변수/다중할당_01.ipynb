{
 "cells": [
  {
   "cell_type": "code",
   "execution_count": null,
   "id": "46150b57",
   "metadata": {},
   "outputs": [
    {
     "name": "stdout",
     "output_type": "stream",
     "text": [
      "1 문자열\n",
      "1 문자열 [1, 2, 3]\n",
      "(1, '문자열', [1, 2, 3]) : <class 'tuple'>\n",
      "1\n",
      "문자열\n",
      "[1, 2, 3]\n"
     ]
    },
    {
     "ename": "",
     "evalue": "",
     "output_type": "error",
     "traceback": [
      "\u001b[1;31mThe Kernel crashed while executing code in the current cell or a previous cell. \n",
      "\u001b[1;31mPlease review the code in the cell(s) to identify a possible cause of the failure. \n",
      "\u001b[1;31mClick <a href='https://aka.ms/vscodeJupyterKernelCrash'>here</a> for more info. \n",
      "\u001b[1;31mView Jupyter <a href='command:jupyter.viewOutput'>log</a> for further details."
     ]
    }
   ],
   "source": [
    "# 다중할당(multiple assignment)\n",
    "a, b = 1, \"문자열\"   # 변수의 다중선언\n",
    "print( a, b)\n",
    "\n",
    "# 반환값이 여럿임\n",
    "def myFunc():\n",
    "    return 1,\"문자열\", [1,2,3]\n",
    "\n",
    " ## 함수에서 반환하는 값을 각각의 변수에 할당\n",
    "a, b, c = myFunc()   \n",
    "print(a, b, c)\n",
    "\n",
    "tuple_var = myFunc()  ## 여러개의 리턴값을 하나로 받으면 tuple 형태로 받는다\n",
    "print(tuple_var, ':', type(tuple_var))\n",
    "\n",
    "for item in tuple_var:\n",
    "    print(item)\n"
   ]
  }
 ],
 "metadata": {
  "kernelspec": {
   "display_name": "Python 3",
   "language": "python",
   "name": "python3"
  },
  "language_info": {
   "codemirror_mode": {
    "name": "ipython",
    "version": 3
   },
   "file_extension": ".py",
   "mimetype": "text/x-python",
   "name": "python",
   "nbconvert_exporter": "python",
   "pygments_lexer": "ipython3",
   "version": "3.12.3"
  }
 },
 "nbformat": 4,
 "nbformat_minor": 5
}

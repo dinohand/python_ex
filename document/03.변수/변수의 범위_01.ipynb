{
 "cells": [
  {
   "cell_type": "code",
   "execution_count": null,
   "id": "cedd4509",
   "metadata": {},
   "outputs": [
    {
     "name": "stdout",
     "output_type": "stream",
     "text": [
      "...누구\n",
      "누구\n",
      "3\n"
     ]
    }
   ],
   "source": [
    "# 변수의 범위 / LEGB 규칙/법칙\n",
    "# local vs global\n",
    "\n",
    "# 함수 또는 클래스에서 선언된 것은 함수내에서만 존재\n",
    "# del a\n",
    "\n",
    "def myFunc():\n",
    "    variable  = \"...\" + a\n",
    "    return variable\n",
    "\n",
    "class myClass():\n",
    "    a = 3\n",
    "    def __init__(self):\n",
    "        # self.a = 4\n",
    "        pass\n",
    "        \n",
    "    def print(self):\n",
    "        return self.a      # 클래스 내부에서 선언된 a를 나타냄. self.변수명 으로 접근할 수 있다\n",
    "\n",
    "    def calc(self):\n",
    "        self.a = self.a  * 2\n",
    "        return self.a      # 클래스 밖의 a를 나타냄\n",
    "\n",
    "    def exprint(self):\n",
    "        return a\n",
    "\n",
    "a = '누구'\n",
    "\n",
    "print(myFunc())\n",
    "\n",
    "\n",
    "print(a)\n",
    "print(myClass().a)\n",
    "   \n"
   ]
  }
 ],
 "metadata": {
  "kernelspec": {
   "display_name": "Python 3",
   "language": "python",
   "name": "python3"
  },
  "language_info": {
   "codemirror_mode": {
    "name": "ipython",
    "version": 3
   },
   "file_extension": ".py",
   "mimetype": "text/x-python",
   "name": "python",
   "nbconvert_exporter": "python",
   "pygments_lexer": "ipython3",
   "version": "3.12.3"
  }
 },
 "nbformat": 4,
 "nbformat_minor": 5
}

{
 "cells": [
  {
   "cell_type": "code",
   "execution_count": 18,
   "id": "f3eb6191",
   "metadata": {},
   "outputs": [
    {
     "name": "stdout",
     "output_type": "stream",
     "text": [
      "0\n",
      "1\n",
      "2 : ['11', '1']\n",
      "3 : ['12', '2']\n"
     ]
    }
   ],
   "source": [
    "import csv\n",
    "\n",
    "f = open('data.csv', 'r', newline='')    # 파일을 읽기 모드로 읽음\n",
    "writer = csv.writer(f)  \n",
    "data = csv.reader(open('data.csv', 'r'))    \n",
    "\n",
    "\n",
    "# if data.line_num > 0:  # 데이터가 있으면\n",
    "#     print('ddd')\n",
    "#     # passesle:\n",
    "# else:\n",
    "#     print(data.line_num)\n",
    "       \n",
    "print(data.line_num)\n",
    "header = next(data)\n",
    "print(data.line_num)\n",
    "for row in data:\n",
    "    print(data.line_num, \":\", row)\n",
    "\n",
    "f.close()"
   ]
  },
  {
   "cell_type": "code",
   "execution_count": null,
   "id": "a0043e32",
   "metadata": {},
   "outputs": [],
   "source": [
    "import csv\n",
    "\n"
   ]
  }
 ],
 "metadata": {
  "kernelspec": {
   "display_name": "Python 3",
   "language": "python",
   "name": "python3"
  },
  "language_info": {
   "codemirror_mode": {
    "name": "ipython",
    "version": 3
   },
   "file_extension": ".py",
   "mimetype": "text/x-python",
   "name": "python",
   "nbconvert_exporter": "python",
   "pygments_lexer": "ipython3",
   "version": "3.13.0"
  }
 },
 "nbformat": 4,
 "nbformat_minor": 5
}

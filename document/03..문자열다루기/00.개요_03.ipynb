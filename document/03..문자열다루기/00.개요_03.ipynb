{
 "cells": [
  {
   "cell_type": "code",
   "execution_count": null,
   "metadata": {},
   "outputs": [
    {
     "name": "stdout",
     "output_type": "stream",
     "text": [
      "2\n",
      "4\n"
     ]
    }
   ],
   "source": [
    "# 문자열 탐색에 사용되는 count, find, index 등 함수,\n",
    "\n",
    "# count() : 특정 문자가 몇개있는지를 리턴\n",
    "# 발생빈도\n",
    "a = '1234abcda234'\n",
    "print(a.count('a') )\n",
    "\n",
    "\n",
    "# index : 특정 문자가 몇번쨰에서 처음 발견되는지 리턴턴\n",
    "print(a.index('a') )  \n",
    "\n",
    "# 찾기\n",
    "# find() : 찾으면 index, 못찾으면 -1을 리턴한다 \n",
    "# find('찾을 문자열', )\n",
    "a = 'hi, Mary , Merry ChristMas !'\n",
    "print(a.find('M'))\n",
    "\n",
    "a_len = len(a)   # 문자 길이\n",
    "where = 0\n",
    "\n",
    "while where >= 0 :\n",
    "    where = a.find('M', where, a_len)\n",
    "    if where >=0 :\n",
    "        print('I found it at', where)\n",
    "        where = where + 1\n",
    "    # else:\n",
    "    #     print(where)\n",
    "\n",
    "\n"
   ]
  },
  {
   "cell_type": "code",
   "execution_count": 15,
   "metadata": {},
   "outputs": [
    {
     "name": "stdout",
     "output_type": "stream",
     "text": [
      "10\n",
      "1234456789\n",
      "123445678\n",
      "3445678\n",
      "==============\n",
      "12344567\n",
      "1346\n",
      "==============\n",
      "13468\n",
      "9876544321\n",
      "\n"
     ]
    }
   ],
   "source": [
    "# 문자열에서 부분 접근\n",
    "a = '1234456789'\n",
    "\n",
    "print(len(a))\n",
    "print(a[0:])\n",
    "print(a[:9])\n",
    "print(a[2:-1])  ## 2번째부터 , 뒤에서 -1번째까지\n",
    "\n",
    "\n",
    "print('==============')\n",
    "print(a[0:8])\n",
    "print(a[0:8:2])  # 0 부터8까지 2 step씩 접근 \n",
    "\n",
    "print('==============')\n",
    "\n",
    "print(a[::2])  # 처음부터 마지막까지 2step으로\n",
    "print(a[::-1])  # 역순\n",
    "\n",
    "print(a [1:9:-1])  # 1번째 부터 9번째까지 역순\n"
   ]
  }
 ],
 "metadata": {
  "kernelspec": {
   "display_name": "Python 3",
   "language": "python",
   "name": "python3"
  },
  "language_info": {
   "codemirror_mode": {
    "name": "ipython",
    "version": 3
   },
   "file_extension": ".py",
   "mimetype": "text/x-python",
   "name": "python",
   "nbconvert_exporter": "python",
   "pygments_lexer": "ipython3",
   "version": "3.13.2"
  }
 },
 "nbformat": 4,
 "nbformat_minor": 2
}

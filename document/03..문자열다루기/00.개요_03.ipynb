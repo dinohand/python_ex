{
 "cells": [
  {
   "cell_type": "code",
   "execution_count": null,
   "metadata": {},
   "outputs": [
    {
     "name": "stdout",
     "output_type": "stream",
     "text": [
      "2\n",
      "4\n"
     ]
    }
   ],
   "source": [
    "# 문자열 탐색에 사용되는 count, find, index 등 함수,\n",
    "\n",
    "# count() : 특정 문자가 몇개있는지를 리턴\n",
    "# 발생빈도\n",
    "a = '1234abcda234'\n",
    "print(a.count('a') )\n",
    "\n",
    "\n",
    "# index : 특정 문자가 몇번쨰에서 처음 발견되는지 리턴턴\n",
    "print(a.index('a') )  \n",
    "\n",
    "# 찾기\n",
    "# find() : 찾으면 index, 못찾으면 -1을 리턴한다 \n",
    "# find('찾을 문자열', )\n",
    "a = 'hi, Mary , Merry ChristMas !'\n",
    "print(a.find('M'))\n",
    "\n",
    "a_len = len(a)   # 문자 길이\n",
    "where = 0\n",
    "\n",
    "while where >= 0 :\n",
    "    where = a.find('M', where, a_len)\n",
    "    if where >=0 :\n",
    "        print('I found it at', where)\n",
    "        where = where + 1\n",
    "    # else:\n",
    "    #     print(where)\n",
    "\n",
    "\n"
   ]
  },
  {
   "cell_type": "code",
   "execution_count": null,
   "metadata": {},
   "outputs": [],
   "source": []
  }
 ],
 "metadata": {
  "kernelspec": {
   "display_name": "Python 3",
   "language": "python",
   "name": "python3"
  },
  "language_info": {
   "codemirror_mode": {
    "name": "ipython",
    "version": 3
   },
   "file_extension": ".py",
   "mimetype": "text/x-python",
   "name": "python",
   "nbconvert_exporter": "python",
   "pygments_lexer": "ipython3",
   "version": "3.12.3"
  }
 },
 "nbformat": 4,
 "nbformat_minor": 2
}

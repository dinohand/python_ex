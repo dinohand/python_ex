{
 "cells": [
  {
   "cell_type": "code",
   "execution_count": null,
   "metadata": {},
   "outputs": [
    {
     "name": "stdout",
     "output_type": "stream",
     "text": [
      "a: [ 대한민국 ] : 6 , b: [대한민국] : 4\n",
      "['대한민국', '만세', ' 만세', ' 만만세 !']\n",
      "['대한민국', '만세', ' 만세, 만만세 !']\n"
     ]
    }
   ],
   "source": [
    "# 공백 제거 strip\n",
    "\n",
    "a = \" 대한민국 \"\n",
    "b = a.strip()\n",
    "print(\"a: [\"+ a  + \"] :\", len(a), \",\" , \"b: [\"+ b + \"] :\" , len(b))\n",
    "\n",
    "\n",
    "# string 나누기 및 병합하기에 이용할 수 있는 split, join까지\n",
    "# split(구분자, 횟수)\n",
    "a = \"대한민국,만세, 만세, 만만세 !\"\n",
    "print( a.split(\",\") )\n",
    "print( a.split(\",\", 2) )\n",
    "\n",
    "# 결과\n",
    "# ['대한민국', '만세', ' 만세', ' 만만세 !']\n",
    "# ['대한민국', '만세', ' 만세, 만만세 !']\n",
    "\n",
    "\n",
    "# 합치기\n",
    "# join() :<----- 예제 보강 필요\n"
   ]
  }
 ],
 "metadata": {
  "kernelspec": {
   "display_name": "Python 3",
   "language": "python",
   "name": "python3"
  },
  "language_info": {
   "codemirror_mode": {
    "name": "ipython",
    "version": 3
   },
   "file_extension": ".py",
   "mimetype": "text/x-python",
   "name": "python",
   "nbconvert_exporter": "python",
   "pygments_lexer": "ipython3",
   "version": "3.12.3"
  }
 },
 "nbformat": 4,
 "nbformat_minor": 2
}

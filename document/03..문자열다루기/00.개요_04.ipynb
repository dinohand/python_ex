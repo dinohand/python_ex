{
 "cells": [
  {
   "cell_type": "code",
   "execution_count": 1,
   "metadata": {},
   "outputs": [
    {
     "name": "stdout",
     "output_type": "stream",
     "text": [
      "a: [ 대한민국 ] : 6 , b: [대한민국] : 4\n",
      "['대한민국', '만세', ' 만세', ' 만만세 !']\n",
      "['대한민국', '만세', ' 만세, 만만세 !']\n"
     ]
    }
   ],
   "source": [
    "# 공백 제거 strip\n",
    "\n",
    "a = \" 대한민국 \"\n",
    "b = a.strip()\n",
    "print(\"a: [\"+ a  + \"] :\", len(a), \",\" , \"b: [\"+ b + \"] :\" , len(b))\n",
    "\n",
    "\n",
    "# string 나누기 및 병합하기에 이용할 수 있는 split, join까지\n",
    "# split(구분자, 횟수)\n",
    "a = \"대한민국,만세, 만세, 만만세 !\"\n",
    "print( a.split(\",\") )\n",
    "print( a.split(\",\", 2) )\n",
    "\n",
    "# 결과\n",
    "# ['대한민국', '만세', ' 만세', ' 만만세 !']\n",
    "# ['대한민국', '만세', ' 만세, 만만세 !']\n",
    "\n",
    "\n",
    "# 합치기\n",
    "# join() :<----- 예제 보강 필요\n"
   ]
  },
  {
   "cell_type": "code",
   "execution_count": 2,
   "metadata": {},
   "outputs": [
    {
     "name": "stdout",
     "output_type": "stream",
     "text": [
      "Merry Christmas ?\n"
     ]
    },
    {
     "ename": "TypeError",
     "evalue": "maketrans expected at least 1 argument, got 0",
     "output_type": "error",
     "traceback": [
      "\u001b[1;31m---------------------------------------------------------------------------\u001b[0m",
      "\u001b[1;31mTypeError\u001b[0m                                 Traceback (most recent call last)",
      "Cell \u001b[1;32mIn[2], line 8\u001b[0m\n\u001b[0;32m      3\u001b[0m txt \u001b[38;5;241m=\u001b[39m \u001b[38;5;124m\"\u001b[39m\u001b[38;5;124mMerry Christmas !\u001b[39m\u001b[38;5;124m\"\u001b[39m\n\u001b[0;32m      5\u001b[0m \u001b[38;5;28mprint\u001b[39m( txt\u001b[38;5;241m.\u001b[39mtranslate(mydict) )\n\u001b[1;32m----> 8\u001b[0m \u001b[43mtxt\u001b[49m\u001b[38;5;241;43m.\u001b[39;49m\u001b[43mmaketrans\u001b[49m\u001b[43m(\u001b[49m\u001b[43m)\u001b[49m\n",
      "\u001b[1;31mTypeError\u001b[0m: maketrans expected at least 1 argument, got 0"
     ]
    }
   ],
   "source": [
    "# ascii 33 : ! ,  63 : ?\n",
    "mydict = { 33 : 63 }\n",
    "txt = \"Merry Christmas !\"\n",
    "\n",
    "print( txt.translate(mydict) )\n",
    "\n",
    "\n",
    "txt.maketrans()\n",
    "\n",
    "\n"
   ]
  },
  {
   "cell_type": "code",
   "execution_count": null,
   "metadata": {},
   "outputs": [
    {
     "name": "stdout",
     "output_type": "stream",
     "text": [
      "{97: 49, 98: 50, 99: 51}\n",
      "123def\n"
     ]
    }
   ],
   "source": [
    "trans_table = str.maketrans(\"abc\", \"123\")\n",
    "print(trans_table)\n",
    "\n",
    "txt=\"abcdef\"\n",
    "print(txt.translate(trans_table))"
   ]
  },
  {
   "cell_type": "code",
   "execution_count": null,
   "metadata": {},
   "outputs": [
    {
     "name": "stdout",
     "output_type": "stream",
     "text": [
      "원본 txt: 안녕하세요\n",
      "removeprefix -> 하세요\n",
      "removesuffix -> 안녕하세\n",
      "abcdef한글\n"
     ]
    }
   ],
   "source": [
    "# str.removeprefix() : 접두사 제거\n",
    "# str.removesuffix() : 접미사 제거\n",
    "\n",
    "# str.casefold() : 대소문자 구분 없이 비교하기 위한 문자열 변환\n",
    "txt = \"안녕하세요\"\n",
    "print(\"원본 txt:\", txt)\n",
    "print(\"removeprefix ->\", txt.removeprefix(\"안녕\"))\n",
    "print(\"removesuffix ->\", txt.removesuffix(\"요\"))\n",
    "\n",
    "txt = \"abcDEF한글\"\n",
    "print(txt.casefold())\n"
   ]
  },
  {
   "cell_type": "code",
   "execution_count": null,
   "metadata": {},
   "outputs": [],
   "source": [
    "# str.casefold() 예제\n",
    "\n",
    "# 이미 정의된 txt 사용 (값: '안녕하세요')\n",
    "print(\"원본 txt:\", txt)\n",
    "print(\"txt.casefold() ->\", txt.casefold())  # 한글은 변화 없음 (대/소문자 구분 없음)\n",
    "\n",
    "# 간단한 영어 비교 (case-insensitive)\n",
    "s1 = \"Hello\"\n",
    "s2 = \"hello\"\n",
    "print(\"\\n영어 비교:\", s1.casefold(), s2.casefold(), \"=> equal?\", s1.casefold() == s2.casefold())\n",
    "\n",
    "# 독일어 ß 처리 예제 ('Straße' vs 'Strasse')\n",
    "g1 = \"Straße\"\n",
    "g2 = \"Strasse\"\n",
    "print(\"\\n독일어 ß 처리:\", g1.casefold(), g2.casefold(), \"=> equal?\", g1.casefold() == g2.casefold())\n",
    "\n",
    "# 터키어/라틴 대문자 İ (dotted I) 예제\n",
    "t1 = \"İstanbul\"   # 대문자 dotted I\n",
    "t2 = \"istanbul\"\n",
    "print(\"\\n터키어 dotted I 처리:\", t1.casefold(), t2.casefold(), \"=> equal?\", t1.casefold() == t2.casefold())\n",
    "\n",
    "# 그리스어 최종 시그마 처리 예제 ('Σ' 위치에 따른 σ/ς)\n",
    "gk1 = \"ΟΣ\"      # sigma in non-final position\n",
    "gk2 = \"ΟΣΣ\"     # includes final sigma depending on position (demonstration)\n",
    "print(\"\\n그리스어 시그마 처리:\", gk1.casefold(), gk2.casefold())"
   ]
  },
  {
   "cell_type": "code",
   "execution_count": null,
   "metadata": {},
   "outputs": [
    {
     "name": "stdout",
     "output_type": "stream",
     "text": [
      "한국에서 만나자 !\n"
     ]
    }
   ],
   "source": [
    "# str.format_map() 예제\n",
    "\n",
    "info = { 'country': \"한국\",\n",
    "         'event': '만나자',\n",
    "         'exclaim': '!'}\n",
    "\n",
    "template = \"{country}에서 {event} {exclaim}\"\n",
    "\n",
    "print( template.format_map(info) )"
   ]
  },
  {
   "cell_type": "code",
   "execution_count": 34,
   "metadata": {},
   "outputs": [
    {
     "name": "stdout",
     "output_type": "stream",
     "text": [
      "[문제 10] 1 더하기 2은  3 입니다.\n"
     ]
    }
   ],
   "source": [
    "fmt_str = \"[문제 {no}] {} 더하기 {}은  {sum} 입니다.\".format(  1, 2 , sum=3, no = 10 ) \n",
    "print(fmt_str)\n"
   ]
  },
  {
   "cell_type": "code",
   "execution_count": null,
   "metadata": {},
   "outputs": [
    {
     "name": "stdout",
     "output_type": "stream",
     "text": [
      "나는 {중괄호} 입니다.\n"
     ]
    }
   ],
   "source": [
    "print(\"나는 {{{value}}} 입니다.\".format(value=\"중괄호\"))\n"
   ]
  },
  {
   "cell_type": "code",
   "execution_count": null,
   "metadata": {},
   "outputs": [
    {
     "name": "stdout",
     "output_type": "stream",
     "text": [
      "1_237.1234\n"
     ]
    }
   ],
   "source": [
    "a = 1237.1234\n",
    "\n",
    "b = format( a, '_') # -> str\n",
    "\n",
    "\n",
    "\n",
    "\n",
    "\n",
    "print(b)"
   ]
  }
 ],
 "metadata": {
  "kernelspec": {
   "display_name": "Python 3",
   "language": "python",
   "name": "python3"
  },
  "language_info": {
   "codemirror_mode": {
    "name": "ipython",
    "version": 3
   },
   "file_extension": ".py",
   "mimetype": "text/x-python",
   "name": "python",
   "nbconvert_exporter": "python",
   "pygments_lexer": "ipython3",
   "version": "3.12.3"
  }
 },
 "nbformat": 4,
 "nbformat_minor": 2
}

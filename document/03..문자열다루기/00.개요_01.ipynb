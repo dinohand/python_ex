{
 "cells": [
  {
   "cell_type": "code",
   "execution_count": 43,
   "metadata": {},
   "outputs": [
    {
     "name": "stdout",
     "output_type": "stream",
     "text": [
      "Merry Christmas\n",
      "Merry christmas\n",
      "merry christmas\n",
      "True\n"
     ]
    }
   ],
   "source": [
    "# 문자 다루기\n",
    "\n",
    "# 대/소문자\n",
    "# upper()  : 대문자료 변환\n",
    "# lower() : 소문자료 변환\n",
    "\n",
    "# capitalize() : 첫자만 대문자로\n",
    "# swapcase() : 대문자는 소문자로, 소문자는 대문자로\n",
    "# title() : 각 단어의 첫자를 대문자로\n",
    "\n",
    "\n",
    "# isascii() : ASCII 문자 여부\n",
    "# isalnum() : 알파벳 또는 숫자 여부\n",
    "# isalpha() : 알파벳 여부\n",
    "# isdecimal() : 10진수 숫자 여부\n",
    "# isdigit() : 숫자 여부\n",
    "# isnumeric() : 숫자 여부 (유니코드 숫자 포함)\n",
    "# isspace() : 공백 여부\n",
    "\n",
    "# isidentifier() : 유효한 식별자 여부\n",
    "# islower() : 소문자 여부\n",
    "# isupper() : 대문자 여부\n",
    "# isprintable() : 출력 가능한 문자 여부\n",
    "# istitle() : 각 단어의 첫자가 대문자인지 여부\n",
    "\n",
    "\n",
    "txt = \"merry christmas\"\n",
    "\n",
    "print( txt.title())\n",
    "print( txt.capitalize())\n",
    "print( txt)\n",
    "\n",
    "\n",
    "txt = \"10\"\n",
    "print( txt.isnumeric())\n",
    "\n"
   ]
  },
  {
   "cell_type": "code",
   "execution_count": 3,
   "metadata": {},
   "outputs": [
    {
     "name": "stdout",
     "output_type": "stream",
     "text": [
      "하나하나하나\n",
      "====================================================================================================\n"
     ]
    }
   ],
   "source": [
    "# 문자열의 반복 => *\n",
    "\n",
    "a = \"하나\"\n",
    "print(a * 3)\n",
    "\n",
    "print('=' * 100)"
   ]
  },
  {
   "cell_type": "code",
   "execution_count": 17,
   "metadata": {},
   "outputs": [
    {
     "name": "stdout",
     "output_type": "stream",
     "text": [
      "0\n",
      "6\n",
      "True\n"
     ]
    }
   ],
   "source": [
    "# 문자 길이 : len()\n",
    "# contains() : 특정 문자 포함 여부\n",
    "\n",
    "# startswith() : 특정 문자로 시작 여부\n",
    "# endswith() : 특정 문자로 끝나는지 여부\n",
    "# find() : 특정 문자의 위치\n",
    "txt = \"merry christmas\"\n",
    "print( txt.find(\"merry\"))  # 0\n",
    "print( txt.find(\"christmas\"))  # 6 \n",
    "print(txt.__contains__(\"merry\"))  # True\n"
   ]
  },
  {
   "cell_type": "code",
   "execution_count": null,
   "metadata": {},
   "outputs": [
    {
     "name": "stdout",
     "output_type": "stream",
     "text": [
      "w\n",
      "'d'\n",
      "1\n"
     ]
    }
   ],
   "source": [
    "# len() : 문자열 길이\n",
    "# max() : 가장 큰 문자 (아스키 코드 값 기준 )\n",
    "# min() : 가장 작은 문자 (아스키 코드 값 기준)\n",
    "str = \"helloworld\"\n",
    "\n",
    "# print(len(str))\n",
    "print(max(str))\n",
    "print(f\"'{min(str)}'\")"
   ]
  },
  {
   "cell_type": "code",
   "execution_count": 13,
   "metadata": {},
   "outputs": [],
   "source": [
    "# str.count() : 특정 문자의 개수\n",
    "\n",
    "# str.index() : 특정 문자의 위치 (없으면 에러)\n",
    "# str.rindex() : 특정 문자의 위치 (오른쪽부터 검색, 없으면 에러)\n",
    "\n",
    "# str.find() : 특정 문자의 위치 (없으면 -1 반환)\n",
    "# str.rfind() : 특정 문자의 위치 (오른쪽부터 검색, 없으면 -1 반환)\n",
    "\n",
    "# str.startswith() : 특정 문자로 시작하는지 여부\n",
    "# str.endswith() : 특정 문자로 끝나는지 여부\n",
    "\n",
    "txt = \"merry christmas\"\n"
   ]
  },
  {
   "cell_type": "code",
   "execution_count": 32,
   "metadata": {},
   "outputs": [
    {
     "name": "stdout",
     "output_type": "stream",
     "text": [
      "b'merry\\\\c christmas\\r \\xeb\\xa9\\x94\\xeb\\xa6\\xac\\xed\\x81\\xac\\xeb\\xa6\\xac\\xec\\x8a\\xa4\\xeb\\xa7\\x88\\xec\\x8a\\xa4'\n",
      " 메리크리스마스christmas\n",
      "['merry\\\\c christmas', ' 메리크리스마스']\n"
     ]
    },
    {
     "name": "stderr",
     "output_type": "stream",
     "text": [
      "<>:5: SyntaxWarning: invalid escape sequence '\\c'\n",
      "<>:5: SyntaxWarning: invalid escape sequence '\\c'\n",
      "C:\\Users\\JK.Youk\\AppData\\Local\\Temp\\ipykernel_29364\\2425581157.py:5: SyntaxWarning: invalid escape sequence '\\c'\n",
      "  txt = \"merry\\c christmas\\r 메리크리스마스\"\n"
     ]
    }
   ],
   "source": [
    "# str.encode() : 문자열을 바이트로 인코딩\n",
    "# str.format() : 문자열 포맷팅\n",
    "# str.format_map() : 딕셔너리로 문자열 포맷팅\n",
    "\n",
    "txt = \"merry\\c christmas\\r 메리크리스마스\"\n",
    "enc_txt = txt.encode(\"utf-8\")\n",
    "dec_txt = enc_txt.decode(\"utf-8\")\n",
    "\n",
    "\n",
    "print(enc_txt)\n",
    "print(dec_txt)\n",
    "\n",
    "print(txt.splitlines())\n"
   ]
  },
  {
   "cell_type": "code",
   "execution_count": null,
   "metadata": {},
   "outputs": [
    {
     "name": "stdout",
     "output_type": "stream",
     "text": [
      "0123456789ABCabc안녕123 <class 'str'>\n",
      "0123456789ABCabc안녕123\n"
     ]
    }
   ],
   "source": [
    "# str.join() : 특정 문자로 문자열 합치기\n",
    "# str.split() : 특정 문자로 문자열 나누기\n",
    "# str.strip() : 양쪽 공백 제거\n",
    "# str.lstrip() : 왼쪽 공백 제거\n",
    "# str.rstrip() : 오른쪽 공백 제거\n",
    "# str.replace() : 특정 문자 바꾸기\n",
    "\n",
    "\n",
    "\n",
    "\n",
    "# str.center() : 가운데 정렬\n",
    "# str.ljust() : 왼쪽 정렬\n",
    "# str.rjust() : 오른쪽 정렬\n",
    "\n",
    "# str.zfill() : 0 채우기\n",
    "\n",
    "# str.partition() : 특정 문자 기준으로 문자열 나누기 (3개로 분리)\n",
    "# str.rpartition() : 특정 문자 기준으로 문자열 나누기 (오른쪽부터, 3개로 분리)\n",
    "# str.splitlines() : 줄바꿈 문자 기준으로 문자열 나누기\n",
    "딩\n",
    "\n",
    "# str.format() : 문자열 포맷팅\n",
    "# str.format_map() : 딕셔너리로 문자열 포맷팅\n",
    "# str.maketrans() : 문자열 변환 테이블 만들기\n",
    "# str.translate() : 문자열 변환 테이블로 문자열 변환\n",
    "# str.removeprefix() : 접두사 제거\n",
    "# str.removesuffix() : 접미사 제거\n",
    "# str.casefold() : 대소문자 구분 없이 비교하기 위한 문자열 변환\n",
    "\n",
    "\n",
    "txt = '0123456789ABCabc안녕123'\n",
    "\n",
    "txt_n = '1234'\n",
    "txt_a = 'abcd'\n",
    "\n",
    "\n",
    "new_txt = txt.zfill(10)\n",
    "\n",
    "print(new_txt, type(new_txt))  # ['0', '23456789ABCabc안녕', '23'] <class 'list'>\n",
    "print(txt)  # ['0', '23456789ABCabc안녕', '23'] <class 'list'>\n",
    "\n",
    "\n",
    "\n"
   ]
  },
  {
   "cell_type": "code",
   "execution_count": null,
   "metadata": {},
   "outputs": [
    {
     "name": "stdout",
     "output_type": "stream",
     "text": [
      "안녕하세요\n"
     ]
    }
   ],
   "source": [
    "# str.zfill() : 0 채우기\n",
    "\n",
    "txt = '안녕하세요'\n",
    "new_txt = txt.zfill(10)\n",
    "print(new_txt)  # 00000안녕하세요"
   ]
  },
  {
   "cell_type": "code",
   "execution_count": null,
   "metadata": {},
   "outputs": [
    {
     "name": "stdout",
     "output_type": "stream",
     "text": [
      "('a', 'b', 'cabcabc') <class 'tuple'>\n",
      "['a', 'ca', 'ca', 'c'] <class 'list'>\n"
     ]
    }
   ],
   "source": [
    "# str.partition() : 특정 문자 기준으로 문자열 나누기 (3개로 분리)\n",
    "# str.rpartition() : 특정 문자 기준으로 문자열 나누기 (오른쪽부터, 3개로 분리)\n",
    "# str.splitlines() : 줄바꿈 문자 기준으로 문자열 나누기\n",
    "# str.split() : 특정 문자로 문자열 나누기\n",
    "txt = 'abcabcabc'\n",
    "tuple = txt.partition('b')\n",
    "list = txt.split('b')\n",
    "\n",
    "print(tuple, type(tuple))  # ('안하', '녕', '하세요')\n",
    "print(list, type(list))    # ['안하', '하세요'] <class 'list'>\n"
   ]
  }
 ],
 "metadata": {
  "kernelspec": {
   "display_name": "Python 3",
   "language": "python",
   "name": "python3"
  },
  "language_info": {
   "codemirror_mode": {
    "name": "ipython",
    "version": 3
   },
   "file_extension": ".py",
   "mimetype": "text/x-python",
   "name": "python",
   "nbconvert_exporter": "python",
   "pygments_lexer": "ipython3",
   "version": "3.12.3"
  }
 },
 "nbformat": 4,
 "nbformat_minor": 2
}

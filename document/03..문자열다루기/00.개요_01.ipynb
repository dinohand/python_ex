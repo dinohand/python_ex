{
 "cells": [
  {
   "cell_type": "code",
   "execution_count": null,
   "metadata": {},
   "outputs": [
    {
     "name": "stdout",
     "output_type": "stream",
     "text": [
      "HI 철수, MERRY CHRISTMAS !\n",
      "hi 철수, merry christmas !\n",
      "Hi 철수, merry christmas !\n",
      "1\n",
      "2\n",
      "3\n",
      "a\n",
      "b\n",
      "c\n",
      "하\n",
      "나\n",
      "둘\n"
     ]
    },
    {
     "ename": "IndexError",
     "evalue": "string index out of range",
     "output_type": "error",
     "traceback": [
      "\u001b[1;31m---------------------------------------------------------------------------\u001b[0m",
      "\u001b[1;31mIndexError\u001b[0m                                Traceback (most recent call last)",
      "Cell \u001b[1;32mIn[2], line 28\u001b[0m\n\u001b[0;32m     23\u001b[0m     \u001b[38;5;28mprint\u001b[39m(a[i])\n\u001b[0;32m     27\u001b[0m \u001b[38;5;66;03m# 잘못된 인덱스로의 접근은 out of range 에러를 발생시킨다\u001b[39;00m\n\u001b[1;32m---> 28\u001b[0m \u001b[38;5;28mprint\u001b[39m(\u001b[43ma\u001b[49m\u001b[43m[\u001b[49m\u001b[38;5;28;43mlen\u001b[39;49m\u001b[43m(\u001b[49m\u001b[43ma\u001b[49m\u001b[43m)\u001b[49m\u001b[43m]\u001b[49m)   \u001b[38;5;66;03m#  string index out of range 에러 발생 = >  a[len(a) -1] \u001b[39;00m\n",
      "\u001b[1;31mIndexError\u001b[0m: string index out of range"
     ]
    }
   ],
   "source": [
    "# 문자 다루기\n",
    "\n",
    "# 대/소문자\n",
    "# upper()  : 대문자료 변환\n",
    "# lower() : 소문자료 변환\n",
    "# capitalize() : 첫자만 대문자로\n",
    "# 문자 길이 : len()\n",
    "\n",
    "\n",
    "a = 'hi 철수, Merry ChristMas !'\n",
    "\n",
    "print(a.upper())\n",
    "print(a.lower())\n",
    "print(a.capitalize())\n",
    "\n",
    "\n",
    "\n",
    "# 문자열의 index(offset) - n번째 문자\n",
    "# 문자열[index]\n",
    "a = \"123abc하나둘\"\n",
    "\n",
    "for i in range(len(a)):\n",
    "    print(a[i])\n",
    "\n",
    "\n",
    "\n",
    "# 잘못된 인덱스로의 접근은 out of range 에러를 발생시킨다\n",
    "print(a[len(a)])   #  string index out of range 에러 발생 = >  a[len(a) -1] \n"
   ]
  },
  {
   "cell_type": "code",
   "execution_count": 3,
   "metadata": {},
   "outputs": [
    {
     "name": "stdout",
     "output_type": "stream",
     "text": [
      "하나하나하나\n",
      "====================================================================================================\n"
     ]
    }
   ],
   "source": [
    "# 문자열의 반복 => *\n",
    "\n",
    "a = \"하나\"\n",
    "print(a * 3)\n",
    "\n",
    "print('=' * 100)"
   ]
  }
 ],
 "metadata": {
  "kernelspec": {
   "display_name": "Python 3",
   "language": "python",
   "name": "python3"
  },
  "language_info": {
   "codemirror_mode": {
    "name": "ipython",
    "version": 3
   },
   "file_extension": ".py",
   "mimetype": "text/x-python",
   "name": "python",
   "nbconvert_exporter": "python",
   "pygments_lexer": "ipython3",
   "version": "3.12.3"
  }
 },
 "nbformat": 4,
 "nbformat_minor": 2
}

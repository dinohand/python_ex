{
 "cells": [
  {
   "cell_type": "code",
   "execution_count": null,
   "metadata": {},
   "outputs": [
    {
     "name": "stdout",
     "output_type": "stream",
     "text": [
      "Hello\n",
      "\tSon !\n",
      "----------------------------------------------------------------------------------------------------\n",
      "Hello\\n\\tSon !\n",
      "<class 'bytes'>\n"
     ]
    }
   ],
   "source": [
    "# r(raw)-string\n",
    "# raw : 날것의,익지 않은, 가공되지 않은\n",
    "# 가공되지 않은 있는 그대로의\n",
    "\n",
    "# escape 문자의 기능을 수행행\n",
    "txt = 'Hello\\n\\tSon !'\n",
    "print(txt)\n",
    "\n",
    "print('-'*100)\n",
    "\n",
    "# escape 문자를 표기 그대로 출력력\n",
    "txt = r'Hello\\n\\tSon !'\n",
    "print(txt)\n",
    "\n"
   ]
  },
  {
   "cell_type": "code",
   "execution_count": null,
   "metadata": {},
   "outputs": [],
   "source": []
  }
 ],
 "metadata": {
  "kernelspec": {
   "display_name": "Python 3",
   "language": "python",
   "name": "python3"
  },
  "language_info": {
   "codemirror_mode": {
    "name": "ipython",
    "version": 3
   },
   "file_extension": ".py",
   "mimetype": "text/x-python",
   "name": "python",
   "nbconvert_exporter": "python",
   "pygments_lexer": "ipython3",
   "version": "3.12.3"
  }
 },
 "nbformat": 4,
 "nbformat_minor": 2
}

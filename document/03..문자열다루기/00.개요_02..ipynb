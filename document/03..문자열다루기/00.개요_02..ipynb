{
 "cells": [
  {
   "cell_type": "code",
   "execution_count": null,
   "metadata": {},
   "outputs": [
    {
     "name": "stdout",
     "output_type": "stream",
     "text": [
      "Who ?\n",
      "Hello,Hello,JK !\n",
      "그리고\n",
      "2345\n",
      "12345\n",
      "56789\n",
      "56789\n",
      "9\n",
      "345\n",
      "89\n",
      "cf258\n",
      "ABCD\n",
      "아 서울, 서울로 여행가고 싶다\n",
      "아 서울, 서울로 여행가고 싶다\n",
      "아 제주, 제주로 여행가고 싶다\n"
     ]
    },
    {
     "ename": "TypeError",
     "evalue": "'str' object does not support item assignment",
     "output_type": "error",
     "traceback": [
      "\u001b[1;31m---------------------------------------------------------------------------\u001b[0m",
      "\u001b[1;31mTypeError\u001b[0m                                 Traceback (most recent call last)",
      "Cell \u001b[1;32mIn[8], line 69\u001b[0m\n\u001b[0;32m     66\u001b[0m \u001b[38;5;28mprint\u001b[39m( a\u001b[38;5;241m.\u001b[39mreplace(\u001b[38;5;124m\"\u001b[39m\u001b[38;5;124m부산\u001b[39m\u001b[38;5;124m\"\u001b[39m,\u001b[38;5;124m\"\u001b[39m\u001b[38;5;124m서울\u001b[39m\u001b[38;5;124m\"\u001b[39m) )   \u001b[38;5;66;03m# 매치되는 것이 없으면 그대로 리턴한다\u001b[39;00m\n\u001b[0;32m     68\u001b[0m \u001b[38;5;66;03m###\u001b[39;00m\n\u001b[1;32m---> 69\u001b[0m \u001b[43mf\u001b[49m\u001b[43m[\u001b[49m\u001b[38;5;241;43m1\u001b[39;49m\u001b[43m]\u001b[49m \u001b[38;5;241m=\u001b[39m \u001b[38;5;124m'\u001b[39m\u001b[38;5;124mS\u001b[39m\u001b[38;5;124m'\u001b[39m\n\u001b[0;32m     70\u001b[0m \u001b[38;5;28mprint\u001b[39m(f[\u001b[38;5;241m1\u001b[39m])\n\u001b[0;32m     72\u001b[0m \u001b[38;5;66;03m# 문자열 찾기\u001b[39;00m\n\u001b[0;32m     73\u001b[0m \u001b[38;5;66;03m#  find()\u001b[39;00m\n",
      "\u001b[1;31mTypeError\u001b[0m: 'str' object does not support item assignment"
     ]
    }
   ],
   "source": [
    "# concatenation : 문자와 문자를 연결하기/합치기 \n",
    "# slicing : 문자열에서 특정 구간만 뽑아내기기\n",
    "\n",
    "\n",
    "# 문자 합치기\n",
    "a = 'Who'\n",
    "SPACE = ' '\n",
    "b = '?'\n",
    "\n",
    "c = a + SPACE +  b\n",
    "\n",
    "print(c)\n",
    "\n",
    "\n",
    "## 문자열 반복\n",
    "## 더하기, 곱하기\n",
    "a = \"Hello,\"\n",
    "b = \"JK !\"\n",
    "print(a * 2 + b )\n",
    "\n",
    "#********************************\n",
    "\n",
    "\n",
    "\n",
    "#********************************\n",
    "# slicing : 문자열에서 특정 구간의 문자를 가져온다\n",
    "# 문자열[시작 인덱스: 끝 인덱스] - 시작인덱스에서 끝 인덱스 이전까지의 문자열을 가져온다\n",
    "# 문자열은  0부터 시작한다\n",
    "d = '그리고 아무 말도 하지 않았다'\n",
    "print(d[0:3])   ## 0번째부터 세번쨰 이전까지\n",
    "\n",
    "e = '123456789'\n",
    "print(e[1:5])\n",
    "\n",
    "# [ 시작 : 끝]\n",
    "# 시작 index 값이 없으면 0으로 간주\n",
    "# 끝 index 값이 없으면 문자열의 length값으로 인식, (-) 값이면 끝에서 역순으로의 서수(Ordinal Number)를 나타낸다다\n",
    "\n",
    "print(e[:5])\n",
    "\n",
    "print(e[4:])\n",
    "print(e[4:len(e)])\n",
    "\n",
    "print(len(e))\n",
    "\n",
    "\n",
    "print(e[2:-4])  ## 5번째 부터, 뒤에서 -4번쨰까지의 문자열\n",
    "print(e[-2:])  ## 뒤에서 -2번쨰부터 끝까지의 문자열을 리턴한다\n",
    "\n",
    "\n",
    "#  [ 시작 :: step ] -> 시작부터 step만큼 건너뛰면서 값을 리턴한다\n",
    "\n",
    "f  = 'abcdefg1234567890'\n",
    "print(f[2::3])   \n",
    "\n",
    "g  = 'AaBbCcDd'\n",
    "print(g[::2])  # 0 번쨰 부터 2 단계씩 건너뛰면서 값을 리턴한다\n",
    "\n",
    "# 문자열 치환\n",
    "# replace(old str, new str)\n",
    "a = \"아 제주, 제주로 여행가고 싶다\"\n",
    "\n",
    "print( a.replace(\"제주\",\"서울\") )      # 매치되는 문자열을 모두 바꾼다 \n",
    "print( a.replace(\"제주\",\"서울\", 2) )   # 매치되는 1 번째까지 바꾼다\n",
    "\n",
    "print( a.replace(\"부산\",\"서울\") )   # 매치되는 것이 없으면 그대로 리턴한다\n",
    "\n",
    "### index를 통한 수정 불가\n",
    "f[1] = 'S'   # index를 통한 수정이 불가하다/에러 발생\n",
    "print(f[1])\n",
    "\n",
    "# 문자열 찾기\n",
    "#  find()\n"
   ]
  },
  {
   "cell_type": "code",
   "execution_count": null,
   "metadata": {},
   "outputs": [],
   "source": []
  }
 ],
 "metadata": {
  "kernelspec": {
   "display_name": "Python 3",
   "language": "python",
   "name": "python3"
  },
  "language_info": {
   "codemirror_mode": {
    "name": "ipython",
    "version": 3
   },
   "file_extension": ".py",
   "mimetype": "text/x-python",
   "name": "python",
   "nbconvert_exporter": "python",
   "pygments_lexer": "ipython3",
   "version": "3.12.3"
  }
 },
 "nbformat": 4,
 "nbformat_minor": 2
}

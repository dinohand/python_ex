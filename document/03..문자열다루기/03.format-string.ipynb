{
 "cells": [
  {
   "cell_type": "code",
   "execution_count": 65,
   "metadata": {},
   "outputs": [
    {
     "name": "stdout",
     "output_type": "stream",
     "text": [
      "바나나는 3000원입니다.\n",
      "딸기는 10000원입니다.\n",
      "망고는 5000원입니다.\n"
     ]
    }
   ],
   "source": [
    "prd_list = [\"바나나\", \"딸기\", \"망고\" ]\n",
    "prc_list = [3000, 10000, 5000]\n",
    "\n",
    "txt = \"{product}는 {price}원입니다.\"\n",
    "\n",
    "for i in range(len(prd_list)):\n",
    "    print(txt.format( price=prc_list[i], product=prd_list[i]))\n",
    "\n"
   ]
  },
  {
   "cell_type": "code",
   "execution_count": null,
   "metadata": {},
   "outputs": [
    {
     "name": "stdout",
     "output_type": "stream",
     "text": [
      "Hello, Alice! You are 30 years old.\n",
      "Hello, Alice! You are 20 years old.\n",
      "Hello, 15, 홍길동! You are 15 years old. 홍길동\n"
     ]
    }
   ],
   "source": [
    "# format string\n",
    "# str.format()  # format()과 구분분\n",
    "# {} key가 없으면 순서대로 매핑\n",
    "# {key}와 같으면 str.format(key = something)과 같이 파라메터 전달과 같이 값을 매핑시킴킴\n",
    "\n",
    "# placeholder : [수학·논리학] 플레이스홀더: 어떤 집합의 임의의 원소의 명칭으로 바꾸어 놓을 수 있는 수식[논리식] 내의 기호\n",
    "\n",
    "# placeholder는 {}, {name}, {0}과 같이 이름을 비었거나(empty), 특정 이름을 가졌거나, index를 가질 수 있다.\n",
    "# {} 는 매핑되는 순서로 대상을 지정할 수고, {name}은 이름으로 {1}처럼 index 값으로 대상을 placeholder를 정확히 지정할 수 있다다\n",
    "\n",
    "# 참조 : https://www.w3schools.com/python/ref_string_format.asp\n",
    "\n",
    "name = \"Alice\"\n",
    "age = 30\n",
    "formatted_string = \"Hello, {}! You are {} years old.\".format(name, age)\n",
    "print(formatted_string)\n",
    "\n",
    "formatted_string = \"Hello, {name}! You are {age} years old.\".format( name=name, age=20)\n",
    "print(formatted_string)\n",
    "\n",
    "# {idx}에서 인덱스는 format() 에 오는 값의 순서이다다\n",
    "formatted_string = \"Hello, {0}, {0}! You are {1} years old. {0}\".format( \"홍길동\", 15)\n",
    "print(formatted_string)\n",
    "\n"
   ]
  },
  {
   "cell_type": "code",
   "execution_count": 15,
   "metadata": {},
   "outputs": [
    {
     "name": "stdout",
     "output_type": "stream",
     "text": [
      "Hello, 감돌이, 갑갑순이, Alice! You are 2 years old.좋은하루\n"
     ]
    }
   ],
   "source": [
    "\n",
    "# 혼합된 형태\n",
    "# {} 부터 차례대로 매핑하고, 파라메터명에 땨라 매핑함함\n",
    "formatted_string = \"Hello, {}, {}, {name}! You are {age} years old.{}\".format( \"감돌이\", \"갑갑순이\", \"좋은하루\",  2340, name=name, age=2)\n",
    "print(formatted_string)\n"
   ]
  },
  {
   "cell_type": "code",
   "execution_count": null,
   "metadata": {},
   "outputs": [],
   "source": [
    "# 참조 : https://www.w3schools.com/python/ref_string_format.asp\n",
    "\n",
    "Formatting Types\n",
    "Inside the placeholders you can add a formatting type to format the result:\n",
    "\n",
    ":<\t\tLeft aligns the result (within the available space)\n",
    ":>\t\tRight aligns the result (within the available space)\n",
    ":^\t\tCenter aligns the result (within the available space)\n",
    ":=\t\tPlaces the sign to the left most position\n",
    ":+\t\tUse a plus sign to indicate if the result is positive or negative\n",
    ":-\t\tUse a minus sign for negative values only\n",
    ": \t\tUse a space to insert an extra space before positive numbers (and a minus sign before negative numbers)\n",
    ":,\t\tUse a comma as a thousand separator\n",
    ":_\t\tUse a underscore as a thousand separator\n",
    ":b\t\tBinary format\n",
    ":c\t\tConverts the value into the corresponding unicode character\n",
    ":d\t\tDecimal format\n",
    ":e\t\tScientific format, with a lower case e\n",
    ":E\t\tScientific format, with an upper case E\n",
    ":f\t\tFix point number format\n",
    ":F\t\tFix point number format, in uppercase format (show inf and nan as INF and NAN)\n",
    ":g\t\tGeneral format\n",
    ":G\t\tGeneral format (using a upper case E for scientific notations)\n",
    ":o\t\tOctal format\n",
    ":x\t\tHex format, lower case\n",
    ":X\t\tHex format, upper case\n",
    ":n\t\tNumber format\n",
    ":%\t\tPercentage format\n"
   ]
  },
  {
   "cell_type": "code",
   "execution_count": null,
   "metadata": {},
   "outputs": [
    {
     "name": "stdout",
     "output_type": "stream",
     "text": [
      "11,223,344\n"
     ]
    }
   ],
   "source": [
    "# 내장 함수 format()\n",
    "a = 11223344\n",
    "\n",
    "# 에러 int.format()은 없음음\n",
    "# 'int' object has no attribute 'format\n",
    "#a.format(',d')  \n",
    "\n",
    "# 내장함수 format() \n",
    "print( format(a, ',d'))\n"
   ]
  },
  {
   "cell_type": "code",
   "execution_count": 3,
   "metadata": {},
   "outputs": [
    {
     "name": "stdout",
     "output_type": "stream",
     "text": [
      "안녕하세요 홍길동\n",
      "안녕하세요 {}\n"
     ]
    }
   ],
   "source": [
    "txt = '안녕하세요 {}'\n",
    "\n",
    "print( txt.format('홍길동'))\n",
    "print( txt)\n"
   ]
  },
  {
   "cell_type": "code",
   "execution_count": 7,
   "metadata": {},
   "outputs": [
    {
     "name": "stdout",
     "output_type": "stream",
     "text": [
      "-12,345,678\n",
      "-12_345_678\n"
     ]
    }
   ],
   "source": [
    "no = -12345678\n",
    "\n",
    "print(\"{:,}\".format(no))\n",
    "print(\"{:_}\".format(no))\n"
   ]
  },
  {
   "cell_type": "code",
   "execution_count": null,
   "metadata": {
    "vscode": {
     "languageId": "coffeescript"
    }
   },
   "outputs": [],
   "source": [
    "# Demonstrate the \":c\" format type (converts an integer to the corresponding Unicode character)\n",
    "# Uses existing variables: no (int, negative) and txt (str, '안녕하세요 {}')\n",
    "\n",
    "# # valid examples\n",
    "# print(\"format(65, 'c') ->\", format(65, 'c'))           # 'A'\n",
    "# print(\"format(0xAC00, 'c') ->\", format(0xAC00, 'c'))   # '가' (Korean syllable)\n",
    "\n",
    "# # use with existing txt variable\n",
    "# print(txt.format(format(0xAC00, 'c')))\n",
    "\n",
    "# # invalid/edge case: negative or out-of-range integers raise an error\n",
    "# try:\n",
    "#     print(\"format(no, 'c') ->\", format(no, 'c'))\n",
    "# except Exception as e:\n",
    "#     print(\"format(no, 'c') raised:\", type(e).__name__, e)\n",
    "\n",
    "# txt = '안녕하세요'\n",
    "    \n",
    "print( \"{:c} - unicode\".format(112 ))\n"
   ]
  },
  {
   "cell_type": "code",
   "execution_count": 34,
   "metadata": {},
   "outputs": [
    {
     "name": "stdout",
     "output_type": "stream",
     "text": [
      "113.000\n"
     ]
    }
   ],
   "source": [
    "print( \"{:.3F}\".format(113.0001 ))\n"
   ]
  },
  {
   "cell_type": "code",
   "execution_count": 48,
   "metadata": {},
   "outputs": [
    {
     "name": "stdout",
     "output_type": "stream",
     "text": [
      "23fd, 23FD\n"
     ]
    }
   ],
   "source": [
    "x = 9213\n",
    "\n",
    "print(\"{:x}, {:X}\".format(x,x))"
   ]
  },
  {
   "cell_type": "code",
   "execution_count": 57,
   "metadata": {},
   "outputs": [
    {
     "name": "stdout",
     "output_type": "stream",
     "text": [
      "12.35%\n"
     ]
    }
   ],
   "source": [
    "p = 0.12345\n",
    "\n",
    "print(\"{:.2%}\".format(p))"
   ]
  }
 ],
 "metadata": {
  "kernelspec": {
   "display_name": "Python 3",
   "language": "python",
   "name": "python3"
  },
  "language_info": {
   "codemirror_mode": {
    "name": "ipython",
    "version": 3
   },
   "file_extension": ".py",
   "mimetype": "text/x-python",
   "name": "python",
   "nbconvert_exporter": "python",
   "pygments_lexer": "ipython3",
   "version": "3.12.3"
  }
 },
 "nbformat": 4,
 "nbformat_minor": 2
}

{
 "cells": [
  {
   "cell_type": "code",
   "execution_count": null,
   "id": "75c8da2f",
   "metadata": {},
   "outputs": [
    {
     "name": "stdout",
     "output_type": "stream",
     "text": [
      "<class 'ZeroDivisionError'>\n",
      "0으로 나눌 수 없습니다.\n",
      "무조건 실해되는 부분분\n"
     ]
    }
   ],
   "source": [
    "# try:\n",
    "#      a = 1/0\n",
    "# except BaseException as e:\n",
    "#     match type(e).__name__:\n",
    "#         case 'ZeroDivisionError':\n",
    "#             print(\"0으로 나눌 수 없습니다.\")\n",
    "#         case 'ValueError':\n",
    "#             print(\"값이 잘못되었습니다.\")\n",
    "#         case 'TypeError':\n",
    "#             print(\"타입이 잘못되었습니다.\")\n",
    "#         case _: # 와일드 카드\n",
    "#             print(\"알 수 없는 오류입니다.\")        \n",
    "    \n",
    "# finally:\n",
    "#     print(\"무조건 실해되는 부분분\")\n",
    "\n",
    "try:\n",
    "     a = 1/0\n",
    "except BaseException as e:\n",
    "    match e:\n",
    "        case ZeroDivisionError():\n",
    "            print(\"0으로 나눌 수 없습니다.\")\n",
    "        case ValueError():\n",
    "            print(\"값이 잘못되었습니다.\")\n",
    "        case TypeError():\n",
    "            print(\"타입이 잘못되었습니다.\")\n",
    "        case _:\n",
    "            print(\"알 수 없는 오류입니다.\")        \n",
    "\n",
    "finally:\n",
    "    print(\"무조건 실해되는 부분분\")\n",
    "\n"
   ]
  },
  {
   "cell_type": "code",
   "execution_count": null,
   "id": "ce0d4fa6",
   "metadata": {},
   "outputs": [
    {
     "name": "stdout",
     "output_type": "stream",
     "text": [
      "0으로 나눌 수 없습니다.\n",
      "무조건 실해되는 부분분\n"
     ]
    }
   ],
   "source": [
    "try:\n",
    "     a = 1/0\n",
    "except ZeroDivisionError:\n",
    "    print(\"0으로 나눌 수 없습니다.\")\n",
    "except BaseException:\n",
    "    print(\"알 수 없는 오류입니다.\")\n",
    "\n",
    "finally:\n",
    "    print(\"무조건 실해되는 부분분\")\n"
   ]
  },
  {
   "cell_type": "code",
   "execution_count": 32,
   "id": "e5709dcc",
   "metadata": {},
   "outputs": [
    {
     "name": "stdout",
     "output_type": "stream",
     "text": [
      "오류 발생: ParamError\n"
     ]
    }
   ],
   "source": [
    "class ParamError(Exception):\n",
    "    def __init__(self, message):\n",
    "        super().__init__(message)\n",
    "        self.message = message\n",
    "    def __str__(self):\n",
    "        return f'파라미터 오류: {self.message}'   \n",
    "    \n",
    "    \n",
    "def do_something(age=0):\n",
    "    if not isinstance(age, int):\n",
    "        raise ParamError('파라메터 오류')\n",
    "    if age < 0 :\n",
    "        raise ValueError(\"나이는 0살 이상이여야 합니다.\")\n",
    "    else:\n",
    "        print(f'{age}살 입니다.')\n",
    "\n",
    "try:\n",
    "    do_something('안녕')\n",
    "except Exception as e:\n",
    "    print(f'오류 발생: {type(e).__name__}')\n",
    "\n",
    "\n"
   ]
  }
 ],
 "metadata": {
  "kernelspec": {
   "display_name": "Python 3",
   "language": "python",
   "name": "python3"
  },
  "language_info": {
   "codemirror_mode": {
    "name": "ipython",
    "version": 3
   },
   "file_extension": ".py",
   "mimetype": "text/x-python",
   "name": "python",
   "nbconvert_exporter": "python",
   "pygments_lexer": "ipython3",
   "version": "3.12.3"
  }
 },
 "nbformat": 4,
 "nbformat_minor": 5
}

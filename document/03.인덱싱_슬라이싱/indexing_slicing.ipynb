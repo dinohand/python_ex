{
 "cells": [
  {
   "cell_type": "code",
   "execution_count": 68,
   "id": "3ac23452",
   "metadata": {},
   "outputs": [
    {
     "name": "stdout",
     "output_type": "stream",
     "text": [
      "''\n"
     ]
    }
   ],
   "source": [
    "txt = \"안녕하세요\"\n",
    "\n",
    "# print(txt[:])\n",
    "# print(txt[::])\n",
    "# print(txt[0:])\n",
    "# print(txt[0:5])\n",
    "\n",
    "s =    txt[-5:0]\n",
    "\n",
    "print(f\"'{s}'\")\n",
    " \n",
    "# print(txt[-5:5:1 ])\n",
    "# print(txt[-5:0:1])\n",
    "\n",
    "\n",
    "# print(txt[::])\n",
    "\n",
    "\n",
    "# print(\"(+) 방향 접근 : \", txt[0: 5: 1])\n",
    "# print(\"(-) 방향 접근 : \", txt[ : 5: 1])\n",
    "\n",
    "# for i in range(-5 , 5):\n",
    "#     print(i, txt[i:0])\n",
    "\n"
   ]
  },
  {
   "cell_type": "code",
   "execution_count": 10,
   "id": "71bd1781",
   "metadata": {},
   "outputs": [
    {
     "name": "stdout",
     "output_type": "stream",
     "text": [
      "[-5:-5] ''\n",
      "[-5:-4] '안'\n",
      "[-5:-3] '안녕'\n",
      "[-5:-2] '안녕하'\n",
      "[-5:-1] '안녕하세'\n",
      "[-5:0] ''\n",
      "[-5:1] '안'\n",
      "[-5:2] '안녕'\n",
      "[-5:3] '안녕하'\n",
      "[-5:4] '안녕하세'\n",
      "[-5:5] '안녕하세요'\n",
      "안\n"
     ]
    }
   ],
   "source": [
    "txt = \"안녕하세요\"\n",
    "\n",
    "for i in range(-5, 6 ):\n",
    "    print ( f\"[-5:{i}]\", f\"'{txt[-5:i]}'\" )\n",
    "    \n",
    "print(txt[0:1])"
   ]
  },
  {
   "cell_type": "code",
   "execution_count": null,
   "id": "cd07ab46",
   "metadata": {},
   "outputs": [
    {
     "data": {
      "text/plain": [
       "{'한국': 'KR', '일본': 'JP'}"
      ]
     },
     "execution_count": 19,
     "metadata": {},
     "output_type": "execute_result"
    }
   ],
   "source": [
    "# dict 는 slicing이 안되지만 ....\n",
    "d = {\"한국\": \"KR\", \"미국\":\"US\", \"일본\": \"JP\"}\n",
    "dkey = [\"한국\", \"일본\"]   ## 슬라이싱하고자 하는 키\n",
    "\n",
    "\n",
    "dict( [(key, d[key] ) for key in dkey] )"
   ]
  },
  {
   "cell_type": "code",
   "execution_count": null,
   "id": "05fc6dba",
   "metadata": {},
   "outputs": [
    {
     "name": "stdout",
     "output_type": "stream",
     "text": [
      "KR\n",
      "JP\n"
     ]
    }
   ],
   "source": [
    "d = {\"한국\": \"KR\", \"미국\":\"US\", \"일본\": \"JP\"}\n",
    "\n",
    "for key  in dkey:\n",
    "    print(d[key])\n",
    "\n",
    "dict  "
   ]
  }
 ],
 "metadata": {
  "kernelspec": {
   "display_name": "Python 3",
   "language": "python",
   "name": "python3"
  },
  "language_info": {
   "codemirror_mode": {
    "name": "ipython",
    "version": 3
   },
   "file_extension": ".py",
   "mimetype": "text/x-python",
   "name": "python",
   "nbconvert_exporter": "python",
   "pygments_lexer": "ipython3",
   "version": "3.12.3"
  }
 },
 "nbformat": 4,
 "nbformat_minor": 5
}

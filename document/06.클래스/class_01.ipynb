{
 "cells": [
  {
   "cell_type": "code",
   "execution_count": null,
   "id": "0b475dd9",
   "metadata": {},
   "outputs": [
    {
     "ename": "AttributeError",
     "evalue": "'someCls' object has no attribute 'instance'",
     "output_type": "error",
     "traceback": [
      "\u001b[1;31m---------------------------------------------------------------------------\u001b[0m",
      "\u001b[1;31mAttributeError\u001b[0m                            Traceback (most recent call last)",
      "Cell \u001b[1;32mIn[20], line 17\u001b[0m\n\u001b[0;32m     13\u001b[0m         \u001b[38;5;28mprint\u001b[39m(\u001b[38;5;28mcls\u001b[39m\u001b[38;5;241m.\u001b[39minstance\u001b[38;5;241m.\u001b[39m__cnt)\n\u001b[0;32m     16\u001b[0m a \u001b[38;5;241m=\u001b[39m someCls()\n\u001b[1;32m---> 17\u001b[0m \u001b[43ma\u001b[49m\u001b[38;5;241;43m.\u001b[39;49m\u001b[43mprint\u001b[49m\u001b[43m(\u001b[49m\u001b[43m)\u001b[49m\n\u001b[0;32m     20\u001b[0m b \u001b[38;5;241m=\u001b[39m someCls()\n\u001b[0;32m     21\u001b[0m b\u001b[38;5;241m.\u001b[39mprint()\n",
      "Cell \u001b[1;32mIn[20], line 13\u001b[0m, in \u001b[0;36msomeCls.print\u001b[1;34m(cls)\u001b[0m\n\u001b[0;32m     12\u001b[0m \u001b[38;5;28;01mdef\u001b[39;00m \u001b[38;5;21mprint\u001b[39m(\u001b[38;5;28mcls\u001b[39m):\n\u001b[1;32m---> 13\u001b[0m     \u001b[38;5;28mprint\u001b[39m(\u001b[38;5;28;43mcls\u001b[39;49m\u001b[38;5;241;43m.\u001b[39;49m\u001b[43minstance\u001b[49m\u001b[38;5;241m.\u001b[39m__cnt)\n",
      "\u001b[1;31mAttributeError\u001b[0m: 'someCls' object has no attribute 'instance'"
     ]
    }
   ],
   "source": [
    "class someCls:\n",
    "    __cnt = 0\n",
    "    def __new__(cls):\n",
    "        if not hasattr(cls, 'instance'):\n",
    "            cls.instance = super(someCls, cls).__new__(cls)\n",
    "        else :\n",
    "            cls.instance.__cnt += 1\n",
    "        \n",
    "        return cls.instance\n",
    "    def __init__(self):\n",
    "        pass\n",
    "    def print(cls):\n",
    "        print(cls.instance.__cnt)\n",
    "        \n",
    "\n",
    "a = someCls()\n",
    "a.print()\n",
    "\n",
    "\n",
    "b = someCls()\n",
    "b.print()\n",
    "\n",
    "\n",
    "c = someCls()\n",
    "c.print()\n"
   ]
  }
 ],
 "metadata": {
  "kernelspec": {
   "display_name": "Python 3",
   "language": "python",
   "name": "python3"
  },
  "language_info": {
   "codemirror_mode": {
    "name": "ipython",
    "version": 3
   },
   "file_extension": ".py",
   "mimetype": "text/x-python",
   "name": "python",
   "nbconvert_exporter": "python",
   "pygments_lexer": "ipython3",
   "version": "3.12.3"
  }
 },
 "nbformat": 4,
 "nbformat_minor": 5
}

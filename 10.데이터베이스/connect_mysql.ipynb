{
 "cells": [
  {
   "cell_type": "code",
   "execution_count": 14,
   "metadata": {},
   "outputs": [
    {
     "name": "stdout",
     "output_type": "stream",
     "text": [
      "[('Hello', 'JK')]\n"
     ]
    }
   ],
   "source": [
    "import mysql.connector  # pip install mysql-connector-python\n",
    "\n",
    "user_id = 'sqlmanager'\n",
    "user_pw = 'sqliloveu'\n",
    "host = 'yodikodi.com'\n",
    "port = 3306\n",
    "database = 'work'\n",
    "\n",
    "try:\n",
    "    conn = mysql.connector.connect(user=user_id, \n",
    "                                   password=user_pw, \n",
    "                                   host=host,\n",
    "                                   database=database,\n",
    "                                   charset='utf8',\n",
    "                                   port=portx\n",
    "                                   ) \n",
    "    cs = conn.cursor()\n",
    "    cs.execute(\"select 'Hello', 'JK'\")\n",
    "    rs = cs.fetchall()\n",
    "    print(rs)\n",
    "    cs.close()\n",
    "\n",
    "    conn.close()\n",
    "except Exception as e:\n",
    "    print('Error:' + e)\n",
    "finally:\n",
    "    pass \n"
   ]
  }
 ],
 "metadata": {
  "kernelspec": {
   "display_name": "Python 3",
   "language": "python",
   "name": "python3"
  },
  "language_info": {
   "codemirror_mode": {
    "name": "ipython",
    "version": 3
   },
   "file_extension": ".py",
   "mimetype": "text/x-python",
   "name": "python",
   "nbconvert_exporter": "python",
   "pygments_lexer": "ipython3",
   "version": "3.12.3"
  }
 },
 "nbformat": 4,
 "nbformat_minor": 2
}

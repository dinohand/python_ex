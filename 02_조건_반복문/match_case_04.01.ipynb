{
 "cells": [
  {
   "cell_type": "code",
   "execution_count": null,
   "metadata": {},
   "outputs": [
    {
     "name": "stdout",
     "output_type": "stream",
     "text": [
      "True\n"
     ]
    }
   ],
   "source": [
    "# # python 3.10 이상에서 가능\n",
    "\n",
    "# a = [1,2,3,4,5,6,7,8,9,10, 11,12]\n",
    "# for i in a:\n",
    "#     match i:\n",
    "#         case 1:\n",
    "#             print(\"하나\")\n",
    "#         case 2:\n",
    "#             print(\"둘\")\n",
    "#         case 3:\n",
    "#             # print(\"삼\")\n",
    "#             pass    ## 아무것도 하지 않겠다는 의미미\n",
    "#         case 4:\n",
    "#             print(\"넷\")\n",
    "#         case 5:\n",
    "#             print(\"오\")\n",
    "#         case 6:\n",
    "#             print(\"여섯\")\n",
    "#             # break  ## 반복문을 탈출학겠다는 의미미\n",
    "#         case 7:\n",
    "#             print(\"칠\")\n",
    "#         # case 8:\n",
    "#         #     print(\"팔\")\n",
    "#         case 9:\n",
    "#             print(\"아홉\")\n",
    "#         case 10:\n",
    "#             print(\"공\")\n",
    "#         case _:                                   ## _ : 와일드 카드\n",
    "#             print(i , \"입니다\")\n",
    "            \n",
    "            \n",
    "            \n",
    "a = [1,2]\n",
    "# a = [1,2, 3]\n",
    "\n",
    "match a:\n",
    "    case [1,2] : \n",
    "        print('True')\n",
    "    case _:\n",
    "        print('False')\n",
    "        \n",
    "        \n",
    "##  참조 : https://www.geeksforgeeks.org/python-match-case-statement/#matching-sequences"
   ]
  }
 ],
 "metadata": {
  "kernelspec": {
   "display_name": "Python 3",
   "language": "python",
   "name": "python3"
  },
  "language_info": {
   "codemirror_mode": {
    "name": "ipython",
    "version": 3
   },
   "file_extension": ".py",
   "mimetype": "text/x-python",
   "name": "python",
   "nbconvert_exporter": "python",
   "pygments_lexer": "ipython3",
   "version": "3.12.3"
  }
 },
 "nbformat": 4,
 "nbformat_minor": 2
}

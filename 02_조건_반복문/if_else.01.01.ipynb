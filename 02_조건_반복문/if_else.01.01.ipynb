{
 "cells": [
  {
   "cell_type": "code",
   "execution_count": 2,
   "metadata": {},
   "outputs": [
    {
     "name": "stdout",
     "output_type": "stream",
     "text": [
      "False\n",
      "0\n",
      "1 is True\n",
      "True\n",
      "False\n",
      "하나는 s에 있습니다\n"
     ]
    }
   ],
   "source": [
    "# if 문\n",
    "# pass, continue, break\n",
    "\n",
    "'''\n",
    "* 기본 구조\n",
    "    if (조건) :\n",
    "        ~\n",
    "    elif (조건) :\n",
    "        ~\n",
    "    else:\n",
    "        ~\n",
    "'''\n",
    "\n",
    "a = True\n",
    "b = False\n",
    "# b = True\n",
    "\n",
    "if a * b :   # a * b가 True이면 \n",
    "    print('True')\n",
    "else:\n",
    "    print('False')\n",
    "\n",
    "print (a * b)\n",
    "\n",
    "\n",
    "c = 1  # c = 1,2,3\n",
    "\n",
    "if c :\n",
    "    print( c, 'is True')\n",
    "    \n",
    "\n",
    "# 열거형,집합형에서의 True / False\n",
    "s = {\"하나\",\"둘\",\"셋\"}\n",
    "print(\"하나\" in s)\n",
    "print(\"하나둘\" in s)\n",
    "\n",
    "\n",
    "if \"하나\" in s:\n",
    "    print(\"하나는 s에 있습니다\")\n",
    "else:\n",
    "    print(\"하나는 s에 없습니다\")\n",
    "    "
   ]
  }
 ],
 "metadata": {
  "kernelspec": {
   "display_name": "Python 3",
   "language": "python",
   "name": "python3"
  },
  "language_info": {
   "codemirror_mode": {
    "name": "ipython",
    "version": 3
   },
   "file_extension": ".py",
   "mimetype": "text/x-python",
   "name": "python",
   "nbconvert_exporter": "python",
   "pygments_lexer": "ipython3",
   "version": "3.12.3"
  }
 },
 "nbformat": 4,
 "nbformat_minor": 2
}

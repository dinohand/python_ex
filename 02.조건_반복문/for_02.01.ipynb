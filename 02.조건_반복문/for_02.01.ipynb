{
 "cells": [
  {
   "cell_type": "code",
   "execution_count": null,
   "metadata": {},
   "outputs": [
    {
     "name": "stdout",
     "output_type": "stream",
     "text": [
      "0\n",
      "1\n",
      "2\n",
      "3\n",
      "4\n",
      "5\n",
      "6\n",
      "7\n",
      "8\n",
      "9\n",
      "====================\n",
      "2\n",
      "3\n",
      "4\n",
      "5\n",
      "6\n",
      "7\n",
      "8\n",
      "9\n",
      "====================\n",
      "2\n",
      "4\n",
      "6\n",
      "8\n",
      "====================\n"
     ]
    }
   ],
   "source": [
    "# 줄긋기 함수수\n",
    "def line(toWhere):\n",
    "    line = \"\"\n",
    "    for i in range(toWhere):\n",
    "        line = line + \"=\" \n",
    "    print(line)\n",
    "    \n",
    "\n",
    "# range(stop)\n",
    "for i in range(10):\n",
    "    print(i)\n",
    "\n",
    "line(20)\n",
    "\n",
    "# range(start, stop)\n",
    "for i in range(2, 10):\n",
    "    print(i)\n",
    "\n",
    "line(20)\n",
    "\n",
    "# range(start, stop, step)\n",
    "for i in range(2, 10, 2):\n",
    "    print(i)\n",
    "\n",
    "line(20)\n",
    "\n",
    "# 조건상 동작하지 않음 step의 기본값이 1 이므로로\n",
    "for i in range(10, 2):\n",
    "    print(i)\n",
    "\n",
    "# 잘 동작함\n",
    "for i in range(10, 2, -3):\n",
    "    print(i)\n",
    "    "
   ]
  }
 ],
 "metadata": {
  "kernelspec": {
   "display_name": "Python 3",
   "language": "python",
   "name": "python3"
  },
  "language_info": {
   "codemirror_mode": {
    "name": "ipython",
    "version": 3
   },
   "file_extension": ".py",
   "mimetype": "text/x-python",
   "name": "python",
   "nbconvert_exporter": "python",
   "pygments_lexer": "ipython3",
   "version": "3.12.3"
  }
 },
 "nbformat": 4,
 "nbformat_minor": 2
}
